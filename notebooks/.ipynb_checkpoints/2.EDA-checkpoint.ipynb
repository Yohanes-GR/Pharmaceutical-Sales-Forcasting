{
 "cells": [
  {
   "cell_type": "code",
   "execution_count": 1,
   "metadata": {},
   "outputs": [],
   "source": [
    "import numpy as np\n",
    "import pandas as pd\n",
    "import matplotlib.pyplot as plt\n",
    "import plotly.express as px\n",
    "import seaborn as sns\n",
    "from scipy import stats\n",
    "from IPython.display import Image\n",
    "import plotly.io as pio\n",
    "\n",
    "from sklearn.preprocessing import LabelEncoder\n",
    "from pandas.plotting import scatter_matrix\n",
    "\n",
    "import os\n",
    "import sys\n",
    "import warnings\n",
    "warnings.simplefilter(action='ignore', category=FutureWarning)\n",
    "pd.set_option('display.float_format', lambda x: '%.3f' % x)\n",
    "pd.options.mode.chained_assignment = None  # default='warn'\n",
    "plt.rcParams[\"figure.figsize\"] = (12, 7)\n",
    "pd.set_option('display.max_columns', None)\n",
    "\n",
    "sns.set_style(\"darkgrid\")\n",
    "%matplotlib inline"
   ]
  },
  {
   "cell_type": "code",
   "execution_count": 2,
   "metadata": {},
   "outputs": [],
   "source": [
    "sys.path.append(os.path.abspath(os.path.join('../scripts')))\n",
    "from file_handler import FileHandler\n",
    "from plots import Plots\n",
    "file_handler = FileHandler()\n",
    "plot = Plots()\n",
    "\n",
    "import warnings\n",
    "warnings.filterwarnings('ignore')"
   ]
  },
  {
   "cell_type": "code",
   "execution_count": 3,
   "metadata": {},
   "outputs": [
    {
     "name": "stdout",
     "output_type": "stream",
     "text": [
      "2022-09-09 14:06:29,285 — FileHandler — DEBUG — file read as csv\n",
      "2022-09-09 14:06:29,394 — FileHandler — DEBUG — file read as csv\n",
      "2022-09-09 14:06:29,397 — FileHandler — DEBUG — file read as csv\n"
     ]
    }
   ],
   "source": [
    "train_df = file_handler.read_csv(\"../data/cleaned_train.csv\")\n",
    "test_df = file_handler.read_csv(\"../data/cleaned_test.csv\")\n",
    "store_df = file_handler.read_csv(\"../data/cleaned_store.csv\") "
   ]
  },
  {
   "cell_type": "markdown",
   "metadata": {},
   "source": [
    "#### Data Field Description\n",
    "- `Id` - an Id that represents a(Store, Date) duple within the test set\n",
    "- `Store` - a unique Id for each store\n",
    "- `Sales` - the turnover for any given day(this is what you are predicting)\n",
    "- `Customers` - the number of customers on a given day\n",
    "- `Open` - an indicator for whether the store was open: 0 = closed, 1 = open\n",
    "- `StateHoliday` - indicates a state holiday. Normally all stores, with few exceptions, are closed on state holidays. Note that all schools are closed on public holidays and weekends. a = public holiday, b = Easter holiday, c = Christmas, 0 = None\n",
    "- `SchoolHoliday` - indicates if the(Store, Date) was affected by the closure of public schools\n",
    "- `StoreType` - differentiates between 4 different store models: a, b, c, d\n",
    "- `Assortment` - describes an assortment level: a = basic, b = extra, c = extended. Read more about assortment here\n",
    "- `CompetitionDistance` - distance in meters to the nearest competitor store\n",
    "- `CompetitionOpenSince[Month / Year]` - gives the approximate year and month of the time the nearest competitor was opened\n",
    "- `Promo` - indicates whether a store is running a promo on that day\n",
    "- `Promo2` - Promo2 is a continuing and consecutive promotion for some stores: 0 = store is not participating, 1 = store is participating\n",
    "- `Promo2Since[Year / Week]` - describes the year and calendar week when the store started participating in Promo2\n",
    "- `PromoInterval` - describes the consecutive intervals Promo2 is started, naming the months the promotion is started anew. E.g. \"Feb,May,Aug,Nov\" means each round starts in February, May, August, November of any given year for that store\n"
   ]
  },
  {
   "cell_type": "code",
   "execution_count": 4,
   "metadata": {},
   "outputs": [],
   "source": [
    "stores_types = [\"A\", \"B\", \"C\", \"D\"]\n",
    "state_holidays = [ \"Normal Day\", \"Public holiday\", \"Easter holiday\", \"Christmas\"] \n",
    "school_holidays = [\"School is closed\", \"School is open\"]\n",
    "assortment = [ \"Basic\", \"Extra\", \"Extended\"] \n",
    "promo = [\"Not participating\", \"Participating\"]\n",
    "store_open = [\"Closed\", \"Open\"]"
   ]
  },
  {
   "cell_type": "code",
   "execution_count": 5,
   "metadata": {},
   "outputs": [
    {
     "name": "stdout",
     "output_type": "stream",
     "text": [
      "<class 'pandas.core.frame.DataFrame'>\n",
      "RangeIndex: 1017209 entries, 0 to 1017208\n",
      "Data columns (total 9 columns):\n",
      " #   Column         Non-Null Count    Dtype \n",
      "---  ------         --------------    ----- \n",
      " 0   Store          1017209 non-null  int64 \n",
      " 1   DayOfWeek      1017209 non-null  int64 \n",
      " 2   Date           1017209 non-null  object\n",
      " 3   Sales          1017209 non-null  int64 \n",
      " 4   Customers      1017209 non-null  int64 \n",
      " 5   Open           1017209 non-null  int64 \n",
      " 6   Promo          1017209 non-null  int64 \n",
      " 7   StateHoliday   1017209 non-null  int64 \n",
      " 8   SchoolHoliday  1017209 non-null  int64 \n",
      "dtypes: int64(8), object(1)\n",
      "memory usage: 69.8+ MB\n"
     ]
    }
   ],
   "source": [
    "train_df.info()"
   ]
  },
  {
   "cell_type": "code",
   "execution_count": 6,
   "metadata": {},
   "outputs": [
    {
     "name": "stdout",
     "output_type": "stream",
     "text": [
      "<class 'pandas.core.frame.DataFrame'>\n",
      "RangeIndex: 41088 entries, 0 to 41087\n",
      "Data columns (total 8 columns):\n",
      " #   Column         Non-Null Count  Dtype \n",
      "---  ------         --------------  ----- \n",
      " 0   Id             41088 non-null  int64 \n",
      " 1   Store          41088 non-null  int64 \n",
      " 2   DayOfWeek      41088 non-null  int64 \n",
      " 3   Date           41088 non-null  object\n",
      " 4   Open           41088 non-null  int64 \n",
      " 5   Promo          41088 non-null  int64 \n",
      " 6   StateHoliday   41088 non-null  int64 \n",
      " 7   SchoolHoliday  41088 non-null  int64 \n",
      "dtypes: int64(7), object(1)\n",
      "memory usage: 2.5+ MB\n"
     ]
    }
   ],
   "source": [
    "test_df.info()"
   ]
  },
  {
   "cell_type": "code",
   "execution_count": 7,
   "metadata": {},
   "outputs": [
    {
     "data": {
      "text/html": [
       "<div>\n",
       "<style scoped>\n",
       "    .dataframe tbody tr th:only-of-type {\n",
       "        vertical-align: middle;\n",
       "    }\n",
       "\n",
       "    .dataframe tbody tr th {\n",
       "        vertical-align: top;\n",
       "    }\n",
       "\n",
       "    .dataframe thead th {\n",
       "        text-align: right;\n",
       "    }\n",
       "</style>\n",
       "<table border=\"1\" class=\"dataframe\">\n",
       "  <thead>\n",
       "    <tr style=\"text-align: right;\">\n",
       "      <th></th>\n",
       "      <th>Store</th>\n",
       "      <th>DayOfWeek</th>\n",
       "      <th>Date</th>\n",
       "      <th>Sales</th>\n",
       "      <th>Customers</th>\n",
       "      <th>Open</th>\n",
       "      <th>Promo</th>\n",
       "      <th>StateHoliday</th>\n",
       "      <th>SchoolHoliday</th>\n",
       "    </tr>\n",
       "  </thead>\n",
       "  <tbody>\n",
       "    <tr>\n",
       "      <th>0</th>\n",
       "      <td>1</td>\n",
       "      <td>5</td>\n",
       "      <td>2015-07-31</td>\n",
       "      <td>5263</td>\n",
       "      <td>555</td>\n",
       "      <td>1</td>\n",
       "      <td>1</td>\n",
       "      <td>0</td>\n",
       "      <td>1</td>\n",
       "    </tr>\n",
       "    <tr>\n",
       "      <th>1</th>\n",
       "      <td>2</td>\n",
       "      <td>5</td>\n",
       "      <td>2015-07-31</td>\n",
       "      <td>6064</td>\n",
       "      <td>625</td>\n",
       "      <td>1</td>\n",
       "      <td>1</td>\n",
       "      <td>0</td>\n",
       "      <td>1</td>\n",
       "    </tr>\n",
       "    <tr>\n",
       "      <th>2</th>\n",
       "      <td>3</td>\n",
       "      <td>5</td>\n",
       "      <td>2015-07-31</td>\n",
       "      <td>8314</td>\n",
       "      <td>821</td>\n",
       "      <td>1</td>\n",
       "      <td>1</td>\n",
       "      <td>0</td>\n",
       "      <td>1</td>\n",
       "    </tr>\n",
       "    <tr>\n",
       "      <th>3</th>\n",
       "      <td>4</td>\n",
       "      <td>5</td>\n",
       "      <td>2015-07-31</td>\n",
       "      <td>13995</td>\n",
       "      <td>1485</td>\n",
       "      <td>1</td>\n",
       "      <td>1</td>\n",
       "      <td>0</td>\n",
       "      <td>1</td>\n",
       "    </tr>\n",
       "    <tr>\n",
       "      <th>4</th>\n",
       "      <td>5</td>\n",
       "      <td>5</td>\n",
       "      <td>2015-07-31</td>\n",
       "      <td>4822</td>\n",
       "      <td>559</td>\n",
       "      <td>1</td>\n",
       "      <td>1</td>\n",
       "      <td>0</td>\n",
       "      <td>1</td>\n",
       "    </tr>\n",
       "  </tbody>\n",
       "</table>\n",
       "</div>"
      ],
      "text/plain": [
       "   Store  DayOfWeek        Date  Sales  Customers  Open  Promo  StateHoliday  \\\n",
       "0      1          5  2015-07-31   5263        555     1      1             0   \n",
       "1      2          5  2015-07-31   6064        625     1      1             0   \n",
       "2      3          5  2015-07-31   8314        821     1      1             0   \n",
       "3      4          5  2015-07-31  13995       1485     1      1             0   \n",
       "4      5          5  2015-07-31   4822        559     1      1             0   \n",
       "\n",
       "   SchoolHoliday  \n",
       "0              1  \n",
       "1              1  \n",
       "2              1  \n",
       "3              1  \n",
       "4              1  "
      ]
     },
     "execution_count": 7,
     "metadata": {},
     "output_type": "execute_result"
    }
   ],
   "source": [
    "train_df.head()"
   ]
  },
  {
   "cell_type": "code",
   "execution_count": 8,
   "metadata": {},
   "outputs": [
    {
     "name": "stdout",
     "output_type": "stream",
     "text": [
      "<class 'pandas.core.frame.DataFrame'>\n",
      "RangeIndex: 1115 entries, 0 to 1114\n",
      "Data columns (total 10 columns):\n",
      " #   Column                     Non-Null Count  Dtype\n",
      "---  ------                     --------------  -----\n",
      " 0   Store                      1115 non-null   int64\n",
      " 1   StoreType                  1115 non-null   int64\n",
      " 2   Assortment                 1115 non-null   int64\n",
      " 3   CompetitionDistance        1115 non-null   int64\n",
      " 4   CompetitionOpenSinceMonth  1115 non-null   int64\n",
      " 5   CompetitionOpenSinceYear   1115 non-null   int64\n",
      " 6   Promo2                     1115 non-null   int64\n",
      " 7   Promo2SinceWeek            1115 non-null   int64\n",
      " 8   Promo2SinceYear            1115 non-null   int64\n",
      " 9   PromoInterval              1115 non-null   int64\n",
      "dtypes: int64(10)\n",
      "memory usage: 87.2 KB\n"
     ]
    }
   ],
   "source": [
    "store_df.info()"
   ]
  },
  {
   "cell_type": "code",
   "execution_count": 9,
   "metadata": {},
   "outputs": [
    {
     "data": {
      "text/html": [
       "<div>\n",
       "<style scoped>\n",
       "    .dataframe tbody tr th:only-of-type {\n",
       "        vertical-align: middle;\n",
       "    }\n",
       "\n",
       "    .dataframe tbody tr th {\n",
       "        vertical-align: top;\n",
       "    }\n",
       "\n",
       "    .dataframe thead th {\n",
       "        text-align: right;\n",
       "    }\n",
       "</style>\n",
       "<table border=\"1\" class=\"dataframe\">\n",
       "  <thead>\n",
       "    <tr style=\"text-align: right;\">\n",
       "      <th></th>\n",
       "      <th>Id</th>\n",
       "      <th>Store</th>\n",
       "      <th>DayOfWeek</th>\n",
       "      <th>Date</th>\n",
       "      <th>Open</th>\n",
       "      <th>Promo</th>\n",
       "      <th>StateHoliday</th>\n",
       "      <th>SchoolHoliday</th>\n",
       "    </tr>\n",
       "  </thead>\n",
       "  <tbody>\n",
       "    <tr>\n",
       "      <th>0</th>\n",
       "      <td>1</td>\n",
       "      <td>1</td>\n",
       "      <td>4</td>\n",
       "      <td>2015-09-17</td>\n",
       "      <td>1</td>\n",
       "      <td>1</td>\n",
       "      <td>0</td>\n",
       "      <td>0</td>\n",
       "    </tr>\n",
       "    <tr>\n",
       "      <th>1</th>\n",
       "      <td>2</td>\n",
       "      <td>3</td>\n",
       "      <td>4</td>\n",
       "      <td>2015-09-17</td>\n",
       "      <td>1</td>\n",
       "      <td>1</td>\n",
       "      <td>0</td>\n",
       "      <td>0</td>\n",
       "    </tr>\n",
       "    <tr>\n",
       "      <th>2</th>\n",
       "      <td>3</td>\n",
       "      <td>7</td>\n",
       "      <td>4</td>\n",
       "      <td>2015-09-17</td>\n",
       "      <td>1</td>\n",
       "      <td>1</td>\n",
       "      <td>0</td>\n",
       "      <td>0</td>\n",
       "    </tr>\n",
       "    <tr>\n",
       "      <th>3</th>\n",
       "      <td>4</td>\n",
       "      <td>8</td>\n",
       "      <td>4</td>\n",
       "      <td>2015-09-17</td>\n",
       "      <td>1</td>\n",
       "      <td>1</td>\n",
       "      <td>0</td>\n",
       "      <td>0</td>\n",
       "    </tr>\n",
       "    <tr>\n",
       "      <th>4</th>\n",
       "      <td>5</td>\n",
       "      <td>9</td>\n",
       "      <td>4</td>\n",
       "      <td>2015-09-17</td>\n",
       "      <td>1</td>\n",
       "      <td>1</td>\n",
       "      <td>0</td>\n",
       "      <td>0</td>\n",
       "    </tr>\n",
       "  </tbody>\n",
       "</table>\n",
       "</div>"
      ],
      "text/plain": [
       "   Id  Store  DayOfWeek        Date  Open  Promo  StateHoliday  SchoolHoliday\n",
       "0   1      1          4  2015-09-17     1      1             0              0\n",
       "1   2      3          4  2015-09-17     1      1             0              0\n",
       "2   3      7          4  2015-09-17     1      1             0              0\n",
       "3   4      8          4  2015-09-17     1      1             0              0\n",
       "4   5      9          4  2015-09-17     1      1             0              0"
      ]
     },
     "execution_count": 9,
     "metadata": {},
     "output_type": "execute_result"
    }
   ],
   "source": [
    "test_df.head()"
   ]
  },
  {
   "cell_type": "code",
   "execution_count": 10,
   "metadata": {},
   "outputs": [
    {
     "name": "stdout",
     "output_type": "stream",
     "text": [
      "<class 'pandas.core.frame.DataFrame'>\n",
      "RangeIndex: 1115 entries, 0 to 1114\n",
      "Data columns (total 10 columns):\n",
      " #   Column                     Non-Null Count  Dtype\n",
      "---  ------                     --------------  -----\n",
      " 0   Store                      1115 non-null   int64\n",
      " 1   StoreType                  1115 non-null   int64\n",
      " 2   Assortment                 1115 non-null   int64\n",
      " 3   CompetitionDistance        1115 non-null   int64\n",
      " 4   CompetitionOpenSinceMonth  1115 non-null   int64\n",
      " 5   CompetitionOpenSinceYear   1115 non-null   int64\n",
      " 6   Promo2                     1115 non-null   int64\n",
      " 7   Promo2SinceWeek            1115 non-null   int64\n",
      " 8   Promo2SinceYear            1115 non-null   int64\n",
      " 9   PromoInterval              1115 non-null   int64\n",
      "dtypes: int64(10)\n",
      "memory usage: 87.2 KB\n"
     ]
    }
   ],
   "source": [
    "store_df.info()"
   ]
  },
  {
   "cell_type": "code",
   "execution_count": 11,
   "metadata": {},
   "outputs": [
    {
     "data": {
      "text/plain": [
       "((1017209, 9), (41088, 8), (1115, 10))"
      ]
     },
     "execution_count": 11,
     "metadata": {},
     "output_type": "execute_result"
    }
   ],
   "source": [
    "train_df.shape, test_df.shape, store_df.shape"
   ]
  },
  {
   "cell_type": "markdown",
   "metadata": {},
   "source": [
    "Merge store dataframe to train and test dataframes"
   ]
  },
  {
   "cell_type": "code",
   "execution_count": 12,
   "metadata": {},
   "outputs": [],
   "source": [
    "train_df = pd.merge(train_df, store_df, how = 'left', on = 'Store')\n",
    "test_df = pd.merge(test_df, store_df, how = 'left', on = 'Store')"
   ]
  },
  {
   "cell_type": "code",
   "execution_count": 13,
   "metadata": {},
   "outputs": [
    {
     "name": "stdout",
     "output_type": "stream",
     "text": [
      "<class 'pandas.core.frame.DataFrame'>\n",
      "Int64Index: 1017209 entries, 0 to 1017208\n",
      "Data columns (total 18 columns):\n",
      " #   Column                     Non-Null Count    Dtype \n",
      "---  ------                     --------------    ----- \n",
      " 0   Store                      1017209 non-null  int64 \n",
      " 1   DayOfWeek                  1017209 non-null  int64 \n",
      " 2   Date                       1017209 non-null  object\n",
      " 3   Sales                      1017209 non-null  int64 \n",
      " 4   Customers                  1017209 non-null  int64 \n",
      " 5   Open                       1017209 non-null  int64 \n",
      " 6   Promo                      1017209 non-null  int64 \n",
      " 7   StateHoliday               1017209 non-null  int64 \n",
      " 8   SchoolHoliday              1017209 non-null  int64 \n",
      " 9   StoreType                  1017209 non-null  int64 \n",
      " 10  Assortment                 1017209 non-null  int64 \n",
      " 11  CompetitionDistance        1017209 non-null  int64 \n",
      " 12  CompetitionOpenSinceMonth  1017209 non-null  int64 \n",
      " 13  CompetitionOpenSinceYear   1017209 non-null  int64 \n",
      " 14  Promo2                     1017209 non-null  int64 \n",
      " 15  Promo2SinceWeek            1017209 non-null  int64 \n",
      " 16  Promo2SinceYear            1017209 non-null  int64 \n",
      " 17  PromoInterval              1017209 non-null  int64 \n",
      "dtypes: int64(17), object(1)\n",
      "memory usage: 147.5+ MB\n"
     ]
    }
   ],
   "source": [
    "# The types and shape of data features in the dataset\n",
    "\n",
    "train_df.info()"
   ]
  },
  {
   "cell_type": "code",
   "execution_count": 14,
   "metadata": {},
   "outputs": [
    {
     "name": "stdout",
     "output_type": "stream",
     "text": [
      "<class 'pandas.core.frame.DataFrame'>\n",
      "Int64Index: 41088 entries, 0 to 41087\n",
      "Data columns (total 17 columns):\n",
      " #   Column                     Non-Null Count  Dtype \n",
      "---  ------                     --------------  ----- \n",
      " 0   Id                         41088 non-null  int64 \n",
      " 1   Store                      41088 non-null  int64 \n",
      " 2   DayOfWeek                  41088 non-null  int64 \n",
      " 3   Date                       41088 non-null  object\n",
      " 4   Open                       41088 non-null  int64 \n",
      " 5   Promo                      41088 non-null  int64 \n",
      " 6   StateHoliday               41088 non-null  int64 \n",
      " 7   SchoolHoliday              41088 non-null  int64 \n",
      " 8   StoreType                  41088 non-null  int64 \n",
      " 9   Assortment                 41088 non-null  int64 \n",
      " 10  CompetitionDistance        41088 non-null  int64 \n",
      " 11  CompetitionOpenSinceMonth  41088 non-null  int64 \n",
      " 12  CompetitionOpenSinceYear   41088 non-null  int64 \n",
      " 13  Promo2                     41088 non-null  int64 \n",
      " 14  Promo2SinceWeek            41088 non-null  int64 \n",
      " 15  Promo2SinceYear            41088 non-null  int64 \n",
      " 16  PromoInterval              41088 non-null  int64 \n",
      "dtypes: int64(16), object(1)\n",
      "memory usage: 5.6+ MB\n"
     ]
    }
   ],
   "source": [
    "# The types and shape of data features in the dataset\n",
    "\n",
    "test_df.info()"
   ]
  },
  {
   "cell_type": "markdown",
   "metadata": {},
   "source": [
    "Remove Id column from test dataframe"
   ]
  },
  {
   "cell_type": "code",
   "execution_count": 15,
   "metadata": {},
   "outputs": [],
   "source": [
    "ID = test_df['Id']\n",
    "test_df.drop('Id',inplace=True,axis=1)"
   ]
  },
  {
   "cell_type": "code",
   "execution_count": 16,
   "metadata": {},
   "outputs": [
    {
     "data": {
      "text/html": [
       "<div>\n",
       "<style scoped>\n",
       "    .dataframe tbody tr th:only-of-type {\n",
       "        vertical-align: middle;\n",
       "    }\n",
       "\n",
       "    .dataframe tbody tr th {\n",
       "        vertical-align: top;\n",
       "    }\n",
       "\n",
       "    .dataframe thead th {\n",
       "        text-align: right;\n",
       "    }\n",
       "</style>\n",
       "<table border=\"1\" class=\"dataframe\">\n",
       "  <thead>\n",
       "    <tr style=\"text-align: right;\">\n",
       "      <th></th>\n",
       "      <th>Store</th>\n",
       "      <th>DayOfWeek</th>\n",
       "      <th>Open</th>\n",
       "      <th>Promo</th>\n",
       "      <th>StateHoliday</th>\n",
       "      <th>SchoolHoliday</th>\n",
       "      <th>StoreType</th>\n",
       "      <th>Assortment</th>\n",
       "      <th>CompetitionDistance</th>\n",
       "      <th>CompetitionOpenSinceMonth</th>\n",
       "      <th>CompetitionOpenSinceYear</th>\n",
       "      <th>Promo2</th>\n",
       "      <th>Promo2SinceWeek</th>\n",
       "      <th>Promo2SinceYear</th>\n",
       "      <th>PromoInterval</th>\n",
       "    </tr>\n",
       "  </thead>\n",
       "  <tbody>\n",
       "    <tr>\n",
       "      <th>count</th>\n",
       "      <td>41088.000</td>\n",
       "      <td>41088.000</td>\n",
       "      <td>41088.000</td>\n",
       "      <td>41088.000</td>\n",
       "      <td>41088.000</td>\n",
       "      <td>41088.000</td>\n",
       "      <td>41088.000</td>\n",
       "      <td>41088.000</td>\n",
       "      <td>41088.000</td>\n",
       "      <td>41088.000</td>\n",
       "      <td>41088.000</td>\n",
       "      <td>41088.000</td>\n",
       "      <td>41088.000</td>\n",
       "      <td>41088.000</td>\n",
       "      <td>41088.000</td>\n",
       "    </tr>\n",
       "    <tr>\n",
       "      <th>mean</th>\n",
       "      <td>555.900</td>\n",
       "      <td>3.979</td>\n",
       "      <td>0.854</td>\n",
       "      <td>0.396</td>\n",
       "      <td>0.004</td>\n",
       "      <td>0.443</td>\n",
       "      <td>1.252</td>\n",
       "      <td>1.001</td>\n",
       "      <td>4456.861</td>\n",
       "      <td>4.800</td>\n",
       "      <td>2001.738</td>\n",
       "      <td>0.581</td>\n",
       "      <td>14.182</td>\n",
       "      <td>2001.738</td>\n",
       "      <td>0.932</td>\n",
       "    </tr>\n",
       "    <tr>\n",
       "      <th>std</th>\n",
       "      <td>320.274</td>\n",
       "      <td>2.015</td>\n",
       "      <td>0.353</td>\n",
       "      <td>0.489</td>\n",
       "      <td>0.066</td>\n",
       "      <td>0.497</td>\n",
       "      <td>1.397</td>\n",
       "      <td>0.995</td>\n",
       "      <td>4910.183</td>\n",
       "      <td>3.836</td>\n",
       "      <td>10.521</td>\n",
       "      <td>0.493</td>\n",
       "      <td>16.178</td>\n",
       "      <td>10.521</td>\n",
       "      <td>0.989</td>\n",
       "    </tr>\n",
       "    <tr>\n",
       "      <th>min</th>\n",
       "      <td>1.000</td>\n",
       "      <td>1.000</td>\n",
       "      <td>0.000</td>\n",
       "      <td>0.000</td>\n",
       "      <td>0.000</td>\n",
       "      <td>0.000</td>\n",
       "      <td>0.000</td>\n",
       "      <td>0.000</td>\n",
       "      <td>20.000</td>\n",
       "      <td>1.000</td>\n",
       "      <td>1900.000</td>\n",
       "      <td>0.000</td>\n",
       "      <td>0.000</td>\n",
       "      <td>1900.000</td>\n",
       "      <td>0.000</td>\n",
       "    </tr>\n",
       "    <tr>\n",
       "      <th>25%</th>\n",
       "      <td>279.750</td>\n",
       "      <td>2.000</td>\n",
       "      <td>1.000</td>\n",
       "      <td>0.000</td>\n",
       "      <td>0.000</td>\n",
       "      <td>0.000</td>\n",
       "      <td>0.000</td>\n",
       "      <td>0.000</td>\n",
       "      <td>720.000</td>\n",
       "      <td>1.000</td>\n",
       "      <td>1990.000</td>\n",
       "      <td>0.000</td>\n",
       "      <td>0.000</td>\n",
       "      <td>1990.000</td>\n",
       "      <td>0.000</td>\n",
       "    </tr>\n",
       "    <tr>\n",
       "      <th>50%</th>\n",
       "      <td>553.500</td>\n",
       "      <td>4.000</td>\n",
       "      <td>1.000</td>\n",
       "      <td>0.000</td>\n",
       "      <td>0.000</td>\n",
       "      <td>0.000</td>\n",
       "      <td>0.000</td>\n",
       "      <td>1.000</td>\n",
       "      <td>2410.000</td>\n",
       "      <td>4.000</td>\n",
       "      <td>2005.000</td>\n",
       "      <td>1.000</td>\n",
       "      <td>9.000</td>\n",
       "      <td>2005.000</td>\n",
       "      <td>1.000</td>\n",
       "    </tr>\n",
       "    <tr>\n",
       "      <th>75%</th>\n",
       "      <td>832.250</td>\n",
       "      <td>6.000</td>\n",
       "      <td>1.000</td>\n",
       "      <td>1.000</td>\n",
       "      <td>0.000</td>\n",
       "      <td>1.000</td>\n",
       "      <td>3.000</td>\n",
       "      <td>2.000</td>\n",
       "      <td>6435.000</td>\n",
       "      <td>9.000</td>\n",
       "      <td>2011.000</td>\n",
       "      <td>1.000</td>\n",
       "      <td>31.000</td>\n",
       "      <td>2011.000</td>\n",
       "      <td>1.000</td>\n",
       "    </tr>\n",
       "    <tr>\n",
       "      <th>max</th>\n",
       "      <td>1115.000</td>\n",
       "      <td>7.000</td>\n",
       "      <td>1.000</td>\n",
       "      <td>1.000</td>\n",
       "      <td>1.000</td>\n",
       "      <td>1.000</td>\n",
       "      <td>3.000</td>\n",
       "      <td>2.000</td>\n",
       "      <td>16107.000</td>\n",
       "      <td>12.000</td>\n",
       "      <td>2015.000</td>\n",
       "      <td>1.000</td>\n",
       "      <td>49.000</td>\n",
       "      <td>2015.000</td>\n",
       "      <td>3.000</td>\n",
       "    </tr>\n",
       "  </tbody>\n",
       "</table>\n",
       "</div>"
      ],
      "text/plain": [
       "          Store  DayOfWeek      Open     Promo  StateHoliday  SchoolHoliday  \\\n",
       "count 41088.000  41088.000 41088.000 41088.000     41088.000      41088.000   \n",
       "mean    555.900      3.979     0.854     0.396         0.004          0.443   \n",
       "std     320.274      2.015     0.353     0.489         0.066          0.497   \n",
       "min       1.000      1.000     0.000     0.000         0.000          0.000   \n",
       "25%     279.750      2.000     1.000     0.000         0.000          0.000   \n",
       "50%     553.500      4.000     1.000     0.000         0.000          0.000   \n",
       "75%     832.250      6.000     1.000     1.000         0.000          1.000   \n",
       "max    1115.000      7.000     1.000     1.000         1.000          1.000   \n",
       "\n",
       "       StoreType  Assortment  CompetitionDistance  CompetitionOpenSinceMonth  \\\n",
       "count  41088.000   41088.000            41088.000                  41088.000   \n",
       "mean       1.252       1.001             4456.861                      4.800   \n",
       "std        1.397       0.995             4910.183                      3.836   \n",
       "min        0.000       0.000               20.000                      1.000   \n",
       "25%        0.000       0.000              720.000                      1.000   \n",
       "50%        0.000       1.000             2410.000                      4.000   \n",
       "75%        3.000       2.000             6435.000                      9.000   \n",
       "max        3.000       2.000            16107.000                     12.000   \n",
       "\n",
       "       CompetitionOpenSinceYear    Promo2  Promo2SinceWeek  Promo2SinceYear  \\\n",
       "count                 41088.000 41088.000        41088.000        41088.000   \n",
       "mean                   2001.738     0.581           14.182         2001.738   \n",
       "std                      10.521     0.493           16.178           10.521   \n",
       "min                    1900.000     0.000            0.000         1900.000   \n",
       "25%                    1990.000     0.000            0.000         1990.000   \n",
       "50%                    2005.000     1.000            9.000         2005.000   \n",
       "75%                    2011.000     1.000           31.000         2011.000   \n",
       "max                    2015.000     1.000           49.000         2015.000   \n",
       "\n",
       "       PromoInterval  \n",
       "count      41088.000  \n",
       "mean           0.932  \n",
       "std            0.989  \n",
       "min            0.000  \n",
       "25%            0.000  \n",
       "50%            1.000  \n",
       "75%            1.000  \n",
       "max            3.000  "
      ]
     },
     "execution_count": 16,
     "metadata": {},
     "output_type": "execute_result"
    }
   ],
   "source": [
    "test_df.describe()"
   ]
  },
  {
   "cell_type": "code",
   "execution_count": 17,
   "metadata": {},
   "outputs": [
    {
     "data": {
      "image/png": "[encoded data removed]",
      "text/plain": [
       "<Figure size 1440x1080 with 20 Axes>"
      ]
     },
     "metadata": {
      "needs_background": "light"
     },
     "output_type": "display_data"
    }
   ],
   "source": [
    "# Numerical Features Histograms (Train)\n",
    "num_feats = list(train_df.select_dtypes(include=['int64', 'float64', 'int32']).columns)\n",
    "train_df[num_feats].hist(figsize=(20,15));"
   ]
  },
  {
   "cell_type": "code",
   "execution_count": 18,
   "metadata": {},
   "outputs": [
    {
     "data": {
      "text/plain": [
       "array([[<AxesSubplot:title={'center':'Store'}>,\n",
       "        <AxesSubplot:title={'center':'DayOfWeek'}>,\n",
       "        <AxesSubplot:title={'center':'Open'}>,\n",
       "        <AxesSubplot:title={'center':'Promo'}>],\n",
       "       [<AxesSubplot:title={'center':'StateHoliday'}>,\n",
       "        <AxesSubplot:title={'center':'SchoolHoliday'}>,\n",
       "        <AxesSubplot:title={'center':'StoreType'}>,\n",
       "        <AxesSubplot:title={'center':'Assortment'}>],\n",
       "       [<AxesSubplot:title={'center':'CompetitionDistance'}>,\n",
       "        <AxesSubplot:title={'center':'CompetitionOpenSinceMonth'}>,\n",
       "        <AxesSubplot:title={'center':'CompetitionOpenSinceYear'}>,\n",
       "        <AxesSubplot:title={'center':'Promo2'}>],\n",
       "       [<AxesSubplot:title={'center':'Promo2SinceWeek'}>,\n",
       "        <AxesSubplot:title={'center':'Promo2SinceYear'}>,\n",
       "        <AxesSubplot:title={'center':'PromoInterval'}>, <AxesSubplot:>]],\n",
       "      dtype=object)"
      ]
     },
     "execution_count": 18,
     "metadata": {},
     "output_type": "execute_result"
    },
    {
     "data": {
      "image/png": "[encoded data removed]",
      "text/plain": [
       "<Figure size 1440x1080 with 16 Axes>"
      ]
     },
     "metadata": {
      "needs_background": "light"
     },
     "output_type": "display_data"
    }
   ],
   "source": [
    "# Numerical Features Histograms (Test)\n",
    "num_feats = list(test_df.select_dtypes(include=['int64', 'float64', 'int32']).columns)\n",
    "test_df[num_feats].hist(figsize=(20,15))"
   ]
  },
  {
   "cell_type": "markdown",
   "metadata": {},
   "source": [
    "- Most of the training and testing columns have proportional data distribution except `School Holiday`, where we have more school holidays [1's] in test data than training data\n",
    "- Most of the stores prefer to make promotions in Jan, Apr, Jul, and Oct (at number 1.0, 4.0, 9.0, and 10.0) Promo intervals. \n",
    "- Almost all stores are closed on Sunday (at number 7)\n"
   ]
  },
  {
   "cell_type": "markdown",
   "metadata": {},
   "source": [
    "#"
   ]
  },
  {
   "cell_type": "markdown",
   "metadata": {},
   "source": [
    "#### Compare Training and Testing Groups"
   ]
  },
  {
   "cell_type": "markdown",
   "metadata": {},
   "source": [
    "##### Are the promotions distributed similarly between Training and Testing groups?"
   ]
  },
  {
   "cell_type": "code",
   "execution_count": 19,
   "metadata": {},
   "outputs": [],
   "source": [
    "train_data = train_df.copy()\n",
    "test_data = test_df.copy()\n",
    "\n",
    "def compare_test_train(train_data, test_data, feature, title):\n",
    "    fig, ax = plt.subplots(1, 2, sharex=True, figsize=(12, 4))\n",
    "    ax[0].set_title(\"Train \" + title)\n",
    "    sns.countplot(x=feature, data=train_data, ax=ax[0])\n",
    "    ax[1].set_title(\"Test \" + title)\n",
    "    sns.countplot(x=feature, data=test_data, ax=ax[1])\n",
    "    fig.subplots_adjust(wspace=0.3)\n",
    "    # fig.show()"
   ]
  },
  {
   "cell_type": "code",
   "execution_count": 20,
   "metadata": {},
   "outputs": [
    {
     "data": {
      "image/png": "[encoded data removed]",
      "text/plain": [
       "<Figure size 864x288 with 2 Axes>"
      ]
     },
     "metadata": {
      "needs_background": "light"
     },
     "output_type": "display_data"
    }
   ],
   "source": [
    "train_data[\"Promo\"] = train_data[\"Promo\"].apply(lambda x: promo[x])\n",
    "test_data[\"Promo\"] = test_data[\"Promo\"].apply(lambda x: promo[x])\n",
    "compare_test_train(train_data, test_data, 'Promo', 'Promotion Count')"
   ]
  },
  {
   "cell_type": "markdown",
   "metadata": {},
   "source": [
    "As we see the promotions are evenly distributed between Training and Testing datasets."
   ]
  },
  {
   "cell_type": "markdown",
   "metadata": {},
   "source": [
    "##### Check & compare the proportion of holidays in training and testing dataset"
   ]
  },
  {
   "cell_type": "code",
   "execution_count": 21,
   "metadata": {},
   "outputs": [
    {
     "data": {
      "image/png": "[encoded data removed]",
      "text/plain": [
       "<Figure size 864x288 with 2 Axes>"
      ]
     },
     "metadata": {
      "needs_background": "light"
     },
     "output_type": "display_data"
    }
   ],
   "source": [
    "train_data[\"SchoolHoliday\"] = train_data[\"SchoolHoliday\"].apply(lambda x: school_holidays[x])\n",
    "test_data[\"SchoolHoliday\"] = test_data[\"SchoolHoliday\"].apply(lambda x: school_holidays[x])\n",
    "compare_test_train(train_data, test_data, 'SchoolHoliday', \"Open Store Count\")"
   ]
  },
  {
   "cell_type": "markdown",
   "metadata": {},
   "source": [
    "In the case of School Holiday the testing datasets unexpectedly have more number of school closings than school openings."
   ]
  },
  {
   "cell_type": "code",
   "execution_count": 22,
   "metadata": {},
   "outputs": [],
   "source": [
    "def compare_test_train_holiday(data, col, agg_fun):\n",
    "    value_list = data.groupby([col]).agg({col: [agg_fun]})\n",
    "    value_list.columns = [agg_fun]\n",
    "    value_list = value_list.reset_index()\n",
    "    value_list[col] = value_list[col].apply(lambda x: state_holidays[x])\n",
    "    return value_list"
   ]
  },
  {
   "cell_type": "code",
   "execution_count": 23,
   "metadata": {},
   "outputs": [
    {
     "data": {
      "text/html": [
       "<div>\n",
       "<style scoped>\n",
       "    .dataframe tbody tr th:only-of-type {\n",
       "        vertical-align: middle;\n",
       "    }\n",
       "\n",
       "    .dataframe tbody tr th {\n",
       "        vertical-align: top;\n",
       "    }\n",
       "\n",
       "    .dataframe thead th {\n",
       "        text-align: right;\n",
       "    }\n",
       "</style>\n",
       "<table border=\"1\" class=\"dataframe\">\n",
       "  <thead>\n",
       "    <tr style=\"text-align: right;\">\n",
       "      <th></th>\n",
       "      <th>StateHoliday</th>\n",
       "      <th>count</th>\n",
       "    </tr>\n",
       "  </thead>\n",
       "  <tbody>\n",
       "    <tr>\n",
       "      <th>0</th>\n",
       "      <td>Normal Day</td>\n",
       "      <td>986159</td>\n",
       "    </tr>\n",
       "    <tr>\n",
       "      <th>1</th>\n",
       "      <td>Public holiday</td>\n",
       "      <td>20260</td>\n",
       "    </tr>\n",
       "    <tr>\n",
       "      <th>2</th>\n",
       "      <td>Easter holiday</td>\n",
       "      <td>6690</td>\n",
       "    </tr>\n",
       "    <tr>\n",
       "      <th>3</th>\n",
       "      <td>Christmas</td>\n",
       "      <td>4100</td>\n",
       "    </tr>\n",
       "  </tbody>\n",
       "</table>\n",
       "</div>"
      ],
      "text/plain": [
       "     StateHoliday   count\n",
       "0      Normal Day  986159\n",
       "1  Public holiday   20260\n",
       "2  Easter holiday    6690\n",
       "3       Christmas    4100"
      ]
     },
     "execution_count": 23,
     "metadata": {},
     "output_type": "execute_result"
    }
   ],
   "source": [
    "compare_test_train_holiday(train_data, 'StateHoliday', 'count')"
   ]
  },
  {
   "cell_type": "code",
   "execution_count": 24,
   "metadata": {},
   "outputs": [
    {
     "data": {
      "text/html": [
       "<div>\n",
       "<style scoped>\n",
       "    .dataframe tbody tr th:only-of-type {\n",
       "        vertical-align: middle;\n",
       "    }\n",
       "\n",
       "    .dataframe tbody tr th {\n",
       "        vertical-align: top;\n",
       "    }\n",
       "\n",
       "    .dataframe thead th {\n",
       "        text-align: right;\n",
       "    }\n",
       "</style>\n",
       "<table border=\"1\" class=\"dataframe\">\n",
       "  <thead>\n",
       "    <tr style=\"text-align: right;\">\n",
       "      <th></th>\n",
       "      <th>StateHoliday</th>\n",
       "      <th>count</th>\n",
       "    </tr>\n",
       "  </thead>\n",
       "  <tbody>\n",
       "    <tr>\n",
       "      <th>0</th>\n",
       "      <td>Normal Day</td>\n",
       "      <td>40908</td>\n",
       "    </tr>\n",
       "    <tr>\n",
       "      <th>1</th>\n",
       "      <td>Public holiday</td>\n",
       "      <td>180</td>\n",
       "    </tr>\n",
       "  </tbody>\n",
       "</table>\n",
       "</div>"
      ],
      "text/plain": [
       "     StateHoliday  count\n",
       "0      Normal Day  40908\n",
       "1  Public holiday    180"
      ]
     },
     "execution_count": 24,
     "metadata": {},
     "output_type": "execute_result"
    }
   ],
   "source": [
    "compare_test_train_holiday(test_data, 'StateHoliday', 'count')"
   ]
  },
  {
   "cell_type": "markdown",
   "metadata": {},
   "source": [
    "The proportion of normal days to public holidays in the case of training data is 2.05%. This means for every 100 normal days we will have 2 public holidays. Whereas in the case of testing data, the proportion is 0.44, which is for 1000 normal days 4 public holidays. In addition to this,  the type of SateHolidays in testing data does not include Easter and Christmas."
   ]
  },
  {
   "cell_type": "markdown",
   "metadata": {},
   "source": [
    "##### Seasonality in Purchasing"
   ]
  },
  {
   "cell_type": "code",
   "execution_count": 25,
   "metadata": {},
   "outputs": [
    {
     "data": {
      "text/html": [
       "<div>\n",
       "<style scoped>\n",
       "    .dataframe tbody tr th:only-of-type {\n",
       "        vertical-align: middle;\n",
       "    }\n",
       "\n",
       "    .dataframe tbody tr th {\n",
       "        vertical-align: top;\n",
       "    }\n",
       "\n",
       "    .dataframe thead th {\n",
       "        text-align: right;\n",
       "    }\n",
       "</style>\n",
       "<table border=\"1\" class=\"dataframe\">\n",
       "  <thead>\n",
       "    <tr style=\"text-align: right;\">\n",
       "      <th></th>\n",
       "      <th>StoreType</th>\n",
       "      <th>Customers</th>\n",
       "      <th>Sales</th>\n",
       "    </tr>\n",
       "  </thead>\n",
       "  <tbody>\n",
       "    <tr>\n",
       "      <th>0</th>\n",
       "      <td>A</td>\n",
       "      <td>640.026</td>\n",
       "      <td>5640.539</td>\n",
       "    </tr>\n",
       "    <tr>\n",
       "      <th>1</th>\n",
       "      <td>B</td>\n",
       "      <td>1321.560</td>\n",
       "      <td>9198.316</td>\n",
       "    </tr>\n",
       "    <tr>\n",
       "      <th>2</th>\n",
       "      <td>C</td>\n",
       "      <td>663.820</td>\n",
       "      <td>5668.122</td>\n",
       "    </tr>\n",
       "    <tr>\n",
       "      <th>3</th>\n",
       "      <td>D</td>\n",
       "      <td>501.293</td>\n",
       "      <td>5611.875</td>\n",
       "    </tr>\n",
       "  </tbody>\n",
       "</table>\n",
       "</div>"
      ],
      "text/plain": [
       "  StoreType  Customers    Sales\n",
       "0         A    640.026 5640.539\n",
       "1         B   1321.560 9198.316\n",
       "2         C    663.820 5668.122\n",
       "3         D    501.293 5611.875"
      ]
     },
     "execution_count": 25,
     "metadata": {},
     "output_type": "execute_result"
    }
   ],
   "source": [
    "train_data[\"StoreType\"] = train_data[\"StoreType\"].apply(lambda x: stores_types[x])\n",
    "store_type_df = train_data.groupby('StoreType').agg({'Customers': 'mean', 'Sales': 'mean'})\n",
    "store_type_df = store_type_df.reset_index()\n",
    "store_type_df"
   ]
  },
  {
   "cell_type": "markdown",
   "metadata": {},
   "source": [
    "Stores Type `B` looks like having a greater number of customers and with respect to that a greater mean sales than the others. "
   ]
  },
  {
   "cell_type": "markdown",
   "metadata": {},
   "source": [
    "##### What can you say about the correlation between sales and number of customers?"
   ]
  },
  {
   "cell_type": "code",
   "execution_count": 26,
   "metadata": {},
   "outputs": [
    {
     "data": {
      "image/png": "[encoded data removed]",
      "text/plain": [
       "<Figure size 864x432 with 2 Axes>"
      ]
     },
     "metadata": {
      "needs_background": "light"
     },
     "output_type": "display_data"
    }
   ],
   "source": [
    "plot.heatmap(train_data[['Sales', 'Customers']], title='Correlation Between Sales and Customers')"
   ]
  },
  {
   "cell_type": "markdown",
   "metadata": {},
   "source": [
    "There is a high correlation between Sales and Customers. The more customers the more sales as expected."
   ]
  },
  {
   "cell_type": "markdown",
   "metadata": {},
   "source": [
    "##### How does promo affect sales? Are the promos attracting more customers? How does it affect already existing customers?"
   ]
  },
  {
   "cell_type": "code",
   "execution_count": 27,
   "metadata": {},
   "outputs": [
    {
     "data": {
      "text/plain": [
       "<AxesSubplot:>"
      ]
     },
     "execution_count": 27,
     "metadata": {},
     "output_type": "execute_result"
    },
    {
     "data": {
      "image/png": "[encoded data removed]",
      "text/plain": [
       "<Figure size 864x504 with 1 Axes>"
      ]
     },
     "metadata": {
      "needs_background": "light"
     },
     "output_type": "display_data"
    }
   ],
   "source": [
    "train_df['Promo'].hist(figsize=(12,7))"
   ]
  },
  {
   "cell_type": "code",
   "execution_count": 28,
   "metadata": {},
   "outputs": [],
   "source": [
    "def evaluate_promotion(data, col1, col2, col3, agg_fun): \n",
    "    value_list = data.groupby(col1).agg({col2: agg_fun, col3: agg_fun}) \n",
    "    value_list = value_list.reset_index()\n",
    "    return value_list"
   ]
  },
  {
   "cell_type": "code",
   "execution_count": 29,
   "metadata": {},
   "outputs": [
    {
     "data": {
      "text/html": [
       "<div>\n",
       "<style scoped>\n",
       "    .dataframe tbody tr th:only-of-type {\n",
       "        vertical-align: middle;\n",
       "    }\n",
       "\n",
       "    .dataframe tbody tr th {\n",
       "        vertical-align: top;\n",
       "    }\n",
       "\n",
       "    .dataframe thead th {\n",
       "        text-align: right;\n",
       "    }\n",
       "</style>\n",
       "<table border=\"1\" class=\"dataframe\">\n",
       "  <thead>\n",
       "    <tr style=\"text-align: right;\">\n",
       "      <th></th>\n",
       "      <th>Promo</th>\n",
       "      <th>Customers</th>\n",
       "      <th>Sales</th>\n",
       "    </tr>\n",
       "  </thead>\n",
       "  <tbody>\n",
       "    <tr>\n",
       "      <th>0</th>\n",
       "      <td>Not participating</td>\n",
       "      <td>500.442</td>\n",
       "      <td>4367.533</td>\n",
       "    </tr>\n",
       "    <tr>\n",
       "      <th>1</th>\n",
       "      <td>Participating</td>\n",
       "      <td>790.638</td>\n",
       "      <td>7835.989</td>\n",
       "    </tr>\n",
       "  </tbody>\n",
       "</table>\n",
       "</div>"
      ],
      "text/plain": [
       "               Promo  Customers    Sales\n",
       "0  Not participating    500.442 4367.533\n",
       "1      Participating    790.638 7835.989"
      ]
     },
     "execution_count": 29,
     "metadata": {},
     "output_type": "execute_result"
    }
   ],
   "source": [
    "evaluate_promotion(train_data, 'Promo', 'Customers', 'Sales', 'mean')"
   ]
  },
  {
   "cell_type": "code",
   "execution_count": 30,
   "metadata": {},
   "outputs": [],
   "source": [
    "def to_month_category(value):\n",
    "    try:\n",
    "        \n",
    "        if (value >= 1 and int(value) < 10):\n",
    "            return \"BegMonth\"\n",
    "\n",
    "        elif (value >= 10 and value < 20):\n",
    "            return \"MidMonth\"\n",
    "        else:\n",
    "            return \"EndMonth\"\n",
    "    except:\n",
    "        pass\n",
    "\n",
    "def transform_date(df):\n",
    "    \n",
    "    df['Date'] = pd.to_datetime(df['Date'])\n",
    "    df['Year'] = pd.DatetimeIndex(df['Date']).year\n",
    "    df['Month'] = pd.DatetimeIndex(df['Date']).month\n",
    "    df['Day'] = pd.DatetimeIndex(df['Date']).day\n",
    "    df['DayInMonth'] = df['Day'].apply(lambda x: to_month_category(x))\n",
    "    return df"
   ]
  },
  {
   "cell_type": "code",
   "execution_count": 31,
   "metadata": {},
   "outputs": [],
   "source": [
    "df = transform_date(train_data.copy())"
   ]
  },
  {
   "cell_type": "code",
   "execution_count": 32,
   "metadata": {},
   "outputs": [
    {
     "data": {
      "text/plain": [
       "<seaborn.axisgrid.FacetGrid at 0x1a726846d60>"
      ]
     },
     "execution_count": 32,
     "metadata": {},
     "output_type": "execute_result"
    },
    {
     "data": {
      "image/png": "[encoded data removed]",
      "text/plain": [
       "<Figure size 468.875x360 with 1 Axes>"
      ]
     },
     "metadata": {
      "needs_background": "light"
     },
     "output_type": "display_data"
    }
   ],
   "source": [
    "sns.factorplot(data = df, x =\"Month\", y = \"Sales\",\n",
    "               hue = 'Promo',\n",
    "              sharex=False)"
   ]
  },
  {
   "cell_type": "markdown",
   "metadata": {},
   "source": [
    "As you see, the promotions have result in an increase in the number of Customers and Sales as expected. About 79.4% Sales lift is generated due to promotions.\n"
   ]
  },
  {
   "cell_type": "code",
   "execution_count": null,
   "metadata": {},
   "outputs": [],
   "source": [
    "sns.factorplot(data = df, x =\"Month\", y = \"Sales\", hue = 'StoreType')"
   ]
  },
  {
   "cell_type": "code",
   "execution_count": null,
   "metadata": {},
   "outputs": [],
   "source": [
    "plt.figure(figsize=(9, 7))\n",
    "sns.distplot(train_df['Promo']).set_title(f'Distribution of Promo')\n",
    "plt.show()"
   ]
  },
  {
   "cell_type": "markdown",
   "metadata": {},
   "source": [
    "##### Could the promos be deployed in more effective ways? Which stores should promos be deployed in?"
   ]
  },
  {
   "cell_type": "code",
   "execution_count": 37,
   "metadata": {},
   "outputs": [
    {
     "data": {
      "text/plain": [
       "<seaborn.axisgrid.FacetGrid at 0x124cf342920>"
      ]
     },
     "execution_count": 37,
     "metadata": {},
     "output_type": "execute_result"
    },
    {
     "data": {
      "image/png": "[encoded data removed]",
      "text/plain": [
       "<Figure size 413.625x360 with 1 Axes>"
      ]
     },
     "metadata": {
      "needs_background": "light"
     },
     "output_type": "display_data"
    }
   ],
   "source": [
    "\n",
    "sns.factorplot(data = df, x =\"Promo\", y = \"Sales\", hue = 'StoreType')"
   ]
  },
  {
   "cell_type": "markdown",
   "metadata": {},
   "source": [
    "For the maximum Sales achievement one of the reason can be the promotion. Store B, which have the maximum number of Customers and Sales record is by far the higher promoting store. Therefore, other stores should be as promoting as Store B for better success. "
   ]
  },
  {
   "cell_type": "markdown",
   "metadata": {},
   "source": [
    "##### Average daily Sales of the Store types"
   ]
  },
  {
   "cell_type": "code",
   "execution_count": 38,
   "metadata": {},
   "outputs": [],
   "source": [
    "def plot_trend(df, columns, feature, title, x_label=\"\", y_label=\"\", labels=['']):\n",
    "  plt.figure(figsize=(18, 6))\n",
    "  for i in range(len(columns)):\n",
    "    sns.lineplot(x=df.index, y=df[columns[i]][feature], label=labels[i])\n",
    "  plt.title(title, fontsize=15, fontweight='bold')\n",
    "  plt.ylabel(x_label, fontsize=14)\n",
    "  plt.xlabel(y_label, fontsize=14)\n",
    "  plt.show()"
   ]
  },
  {
   "cell_type": "code",
   "execution_count": 39,
   "metadata": {},
   "outputs": [
    {
     "data": {
      "image/png": "[encoded data removed]",
      "text/plain": [
       "<Figure size 1296x432 with 1 Axes>"
      ]
     },
     "metadata": {
      "needs_background": "light"
     },
     "output_type": "display_data"
    }
   ],
   "source": [
    "\n",
    "daily_trend = df.groupby(['Day', 'StoreType']).agg({'Customers': 'mean', 'Sales': 'mean'})\n",
    "daily_trend = daily_trend.unstack().swaplevel(0, 1, 1).sort_index(1)\n",
    "columns = [\"A\", \"B\", \"C\", \"D\"]\n",
    "plot_trend(daily_trend, columns, 'Sales', 'Average daily sales for 3 years for the 4 Store Types', labels=columns)"
   ]
  },
  {
   "cell_type": "markdown",
   "metadata": {},
   "source": [
    "##### Trends of customer behavior during Store Open and Closing times"
   ]
  },
  {
   "cell_type": "code",
   "execution_count": 40,
   "metadata": {},
   "outputs": [
    {
     "data": {
      "text/html": [
       "<div>\n",
       "<style scoped>\n",
       "    .dataframe tbody tr th:only-of-type {\n",
       "        vertical-align: middle;\n",
       "    }\n",
       "\n",
       "    .dataframe tbody tr th {\n",
       "        vertical-align: top;\n",
       "    }\n",
       "\n",
       "    .dataframe thead th {\n",
       "        text-align: right;\n",
       "    }\n",
       "</style>\n",
       "<table border=\"1\" class=\"dataframe\">\n",
       "  <thead>\n",
       "    <tr style=\"text-align: right;\">\n",
       "      <th></th>\n",
       "      <th>Customers</th>\n",
       "      <th>Sales</th>\n",
       "    </tr>\n",
       "    <tr>\n",
       "      <th>Open</th>\n",
       "      <th></th>\n",
       "      <th></th>\n",
       "    </tr>\n",
       "  </thead>\n",
       "  <tbody>\n",
       "    <tr>\n",
       "      <th>0</th>\n",
       "      <td>172817</td>\n",
       "      <td>0.000</td>\n",
       "    </tr>\n",
       "    <tr>\n",
       "      <th>1</th>\n",
       "      <td>844392</td>\n",
       "      <td>6855.503</td>\n",
       "    </tr>\n",
       "  </tbody>\n",
       "</table>\n",
       "</div>"
      ],
      "text/plain": [
       "      Customers    Sales\n",
       "Open                    \n",
       "0        172817    0.000\n",
       "1        844392 6855.503"
      ]
     },
     "execution_count": 40,
     "metadata": {},
     "output_type": "execute_result"
    }
   ],
   "source": [
    "cust_trend = df.groupby(['Open']).agg({'Customers': 'count', 'Sales': 'mean'})\n",
    "cust_trend.columns = ['Customers',\t'Sales']\n",
    "cust_trend"
   ]
  },
  {
   "cell_type": "code",
   "execution_count": 41,
   "metadata": {},
   "outputs": [
    {
     "data": {
      "text/plain": [
       "<seaborn.axisgrid.FacetGrid at 0x124cda21f00>"
      ]
     },
     "execution_count": 41,
     "metadata": {},
     "output_type": "execute_result"
    },
    {
     "data": {
      "image/png": "[encoded data removed]",
      "text/plain": [
       "<Figure size 401.625x360 with 1 Axes>"
      ]
     },
     "metadata": {
      "needs_background": "light"
     },
     "output_type": "display_data"
    }
   ],
   "source": [
    "sns.factorplot(data = df, x =\"DayOfWeek\", y = \"Customers\", hue = 'Open', sharex=False)"
   ]
  },
  {
   "cell_type": "markdown",
   "metadata": {},
   "source": [
    "The number of customers during Stores open is smaller and obviously higher number of Customers is recorded on Opened times."
   ]
  },
  {
   "cell_type": "markdown",
   "metadata": {},
   "source": [
    "##### Trends of customer behavior during days of the weeks"
   ]
  },
  {
   "cell_type": "code",
   "execution_count": 42,
   "metadata": {},
   "outputs": [
    {
     "data": {
      "text/html": [
       "<div>\n",
       "<style scoped>\n",
       "    .dataframe tbody tr th:only-of-type {\n",
       "        vertical-align: middle;\n",
       "    }\n",
       "\n",
       "    .dataframe tbody tr th {\n",
       "        vertical-align: top;\n",
       "    }\n",
       "\n",
       "    .dataframe thead th {\n",
       "        text-align: right;\n",
       "    }\n",
       "</style>\n",
       "<table border=\"1\" class=\"dataframe\">\n",
       "  <thead>\n",
       "    <tr style=\"text-align: right;\">\n",
       "      <th></th>\n",
       "      <th>Count</th>\n",
       "      <th>Customers</th>\n",
       "      <th>Sales</th>\n",
       "    </tr>\n",
       "    <tr>\n",
       "      <th>DayOfWeek</th>\n",
       "      <th></th>\n",
       "      <th></th>\n",
       "      <th></th>\n",
       "    </tr>\n",
       "  </thead>\n",
       "  <tbody>\n",
       "    <tr>\n",
       "      <th>1</th>\n",
       "      <td>144730</td>\n",
       "      <td>781.505</td>\n",
       "      <td>7599.141</td>\n",
       "    </tr>\n",
       "    <tr>\n",
       "      <th>2</th>\n",
       "      <td>145664</td>\n",
       "      <td>736.728</td>\n",
       "      <td>6907.136</td>\n",
       "    </tr>\n",
       "    <tr>\n",
       "      <th>3</th>\n",
       "      <td>145665</td>\n",
       "      <td>700.534</td>\n",
       "      <td>6490.330</td>\n",
       "    </tr>\n",
       "    <tr>\n",
       "      <th>4</th>\n",
       "      <td>145845</td>\n",
       "      <td>675.857</td>\n",
       "      <td>6185.286</td>\n",
       "    </tr>\n",
       "    <tr>\n",
       "      <th>5</th>\n",
       "      <td>145845</td>\n",
       "      <td>718.934</td>\n",
       "      <td>6651.851</td>\n",
       "    </tr>\n",
       "    <tr>\n",
       "      <th>6</th>\n",
       "      <td>144730</td>\n",
       "      <td>636.840</td>\n",
       "      <td>5794.267</td>\n",
       "    </tr>\n",
       "    <tr>\n",
       "      <th>7</th>\n",
       "      <td>144730</td>\n",
       "      <td>24.977</td>\n",
       "      <td>183.356</td>\n",
       "    </tr>\n",
       "  </tbody>\n",
       "</table>\n",
       "</div>"
      ],
      "text/plain": [
       "            Count  Customers    Sales\n",
       "DayOfWeek                            \n",
       "1          144730    781.505 7599.141\n",
       "2          145664    736.728 6907.136\n",
       "3          145665    700.534 6490.330\n",
       "4          145845    675.857 6185.286\n",
       "5          145845    718.934 6651.851\n",
       "6          144730    636.840 5794.267\n",
       "7          144730     24.977  183.356"
      ]
     },
     "execution_count": 42,
     "metadata": {},
     "output_type": "execute_result"
    }
   ],
   "source": [
    "weekly_data = df.groupby(['DayOfWeek']).agg({'DayOfWeek': 'count', 'Customers': 'mean', 'Sales': 'mean'})\n",
    "weekly_data.columns = ['Count', 'Customers', 'Sales']\n",
    "weekly_data"
   ]
  },
  {
   "cell_type": "markdown",
   "metadata": {},
   "source": [
    "##### Which stores are opened on all weekdays? How does that affect their sales on weekends?"
   ]
  },
  {
   "cell_type": "code",
   "execution_count": 43,
   "metadata": {},
   "outputs": [
    {
     "name": "stdout",
     "output_type": "stream",
     "text": [
      "Stores That work all Week are : 33\n"
     ]
    },
    {
     "data": {
      "text/plain": [
       "<Figure size 864x504 with 0 Axes>"
      ]
     },
     "metadata": {},
     "output_type": "display_data"
    },
    {
     "data": {
      "image/png": "[encoded data removed]",
      "text/plain": [
       "<Figure size 360x360 with 1 Axes>"
      ]
     },
     "metadata": {
      "needs_background": "light"
     },
     "output_type": "display_data"
    }
   ],
   "source": [
    "# stores, where their unique DayOfWeek count to 7\n",
    "open_stores = df[df.Open == 1]\n",
    "each_day = open_stores[['Store', 'DayOfWeek']].groupby('Store').nunique()\n",
    "\n",
    "all_week_stores = each_day[each_day.DayOfWeek == 7]\n",
    "stores_id = all_week_stores.reset_index()['Store']\n",
    "\n",
    "get_stores = open_stores[(open_stores.Store.isin(set(stores_id)))]\n",
    "get_stores = get_stores[['Store', 'Sales', 'Customers', 'DayOfWeek']]\n",
    "\n",
    "week_sales = get_stores.groupby('DayOfWeek').mean().reset_index()\n",
    "\n",
    "plt.figure(figsize=(12,7))\n",
    "sns.factorplot(data = week_sales, x =\"DayOfWeek\", y = \"Sales\",\n",
    "              sharex=False)\n",
    "print(f'Stores That work all Week are : {all_week_stores.shape[0]}')"
   ]
  },
  {
   "cell_type": "markdown",
   "metadata": {},
   "source": [
    "33 Stores works all weeks along and their Sales amount rises on the weekends, i.e, when DayOfWeek = 6 & 7"
   ]
  },
  {
   "cell_type": "markdown",
   "metadata": {},
   "source": [
    "##### Check how the assortment type affects sales"
   ]
  },
  {
   "cell_type": "code",
   "execution_count": 44,
   "metadata": {},
   "outputs": [
    {
     "data": {
      "text/plain": [
       "Text(0.5, 1.0, 'Assortment Vs Customers ')"
      ]
     },
     "execution_count": 44,
     "metadata": {},
     "output_type": "execute_result"
    },
    {
     "data": {
      "image/png": "[encoded data removed]",
      "text/plain": [
       "<Figure size 1080x288 with 2 Axes>"
      ]
     },
     "metadata": {
      "needs_background": "light"
     },
     "output_type": "display_data"
    }
   ],
   "source": [
    "df[\"Assortment\"] = df[\"Assortment\"].apply(lambda x: assortment[x])\n",
    "\n",
    "fig, (axis1, axis2) = plt.subplots(1, 2, figsize=(15, 4))\n",
    "sns.barplot(x='Assortment', y='Sales', data=df, ax=axis1)\n",
    "sns.barplot(x='Assortment', y='Customers', data=df, ax=axis2)\n",
    "axis1.set_title(\"Assortment Vs Sales \" )\n",
    "axis2.set_title(\"Assortment Vs Customers \")"
   ]
  },
  {
   "cell_type": "markdown",
   "metadata": {},
   "source": [
    "Stores with extra assortment have highest mean Sales and number of Customers"
   ]
  },
  {
   "cell_type": "markdown",
   "metadata": {},
   "source": [
    "##### How does the distance to the next competitor affect sales? What if the store and its competitors all happen to be in city centres, does the distance matter in that case?\n"
   ]
  },
  {
   "cell_type": "code",
   "execution_count": 45,
   "metadata": {},
   "outputs": [
    {
     "data": {
      "text/html": [
       "<div>\n",
       "<style scoped>\n",
       "    .dataframe tbody tr th:only-of-type {\n",
       "        vertical-align: middle;\n",
       "    }\n",
       "\n",
       "    .dataframe tbody tr th {\n",
       "        vertical-align: top;\n",
       "    }\n",
       "\n",
       "    .dataframe thead th {\n",
       "        text-align: right;\n",
       "    }\n",
       "</style>\n",
       "<table border=\"1\" class=\"dataframe\">\n",
       "  <thead>\n",
       "    <tr style=\"text-align: right;\">\n",
       "      <th></th>\n",
       "      <th>Sales</th>\n",
       "      <th>Customers</th>\n",
       "      <th>CompetitionDistance</th>\n",
       "    </tr>\n",
       "    <tr>\n",
       "      <th>Store</th>\n",
       "      <th></th>\n",
       "      <th></th>\n",
       "      <th></th>\n",
       "    </tr>\n",
       "  </thead>\n",
       "  <tbody>\n",
       "    <tr>\n",
       "      <th>1</th>\n",
       "      <td>3716854</td>\n",
       "      <td>440523</td>\n",
       "      <td>1270.000</td>\n",
       "    </tr>\n",
       "    <tr>\n",
       "      <th>2</th>\n",
       "      <td>3883858</td>\n",
       "      <td>457855</td>\n",
       "      <td>570.000</td>\n",
       "    </tr>\n",
       "    <tr>\n",
       "      <th>3</th>\n",
       "      <td>5405105</td>\n",
       "      <td>584216</td>\n",
       "      <td>14130.000</td>\n",
       "    </tr>\n",
       "    <tr>\n",
       "      <th>4</th>\n",
       "      <td>7523256</td>\n",
       "      <td>1014958</td>\n",
       "      <td>620.000</td>\n",
       "    </tr>\n",
       "    <tr>\n",
       "      <th>5</th>\n",
       "      <td>3642818</td>\n",
       "      <td>418588</td>\n",
       "      <td>16107.000</td>\n",
       "    </tr>\n",
       "    <tr>\n",
       "      <th>6</th>\n",
       "      <td>4297758</td>\n",
       "      <td>495483</td>\n",
       "      <td>310.000</td>\n",
       "    </tr>\n",
       "    <tr>\n",
       "      <th>7</th>\n",
       "      <td>6898710</td>\n",
       "      <td>745101</td>\n",
       "      <td>16107.000</td>\n",
       "    </tr>\n",
       "    <tr>\n",
       "      <th>8</th>\n",
       "      <td>4342857</td>\n",
       "      <td>516027</td>\n",
       "      <td>7520.000</td>\n",
       "    </tr>\n",
       "    <tr>\n",
       "      <th>9</th>\n",
       "      <td>5112061</td>\n",
       "      <td>451677</td>\n",
       "      <td>2030.000</td>\n",
       "    </tr>\n",
       "    <tr>\n",
       "      <th>10</th>\n",
       "      <td>4365642</td>\n",
       "      <td>465661</td>\n",
       "      <td>3160.000</td>\n",
       "    </tr>\n",
       "  </tbody>\n",
       "</table>\n",
       "</div>"
      ],
      "text/plain": [
       "         Sales  Customers  CompetitionDistance\n",
       "Store                                         \n",
       "1      3716854     440523             1270.000\n",
       "2      3883858     457855              570.000\n",
       "3      5405105     584216            14130.000\n",
       "4      7523256    1014958              620.000\n",
       "5      3642818     418588            16107.000\n",
       "6      4297758     495483              310.000\n",
       "7      6898710     745101            16107.000\n",
       "8      4342857     516027             7520.000\n",
       "9      5112061     451677             2030.000\n",
       "10     4365642     465661             3160.000"
      ]
     },
     "execution_count": 45,
     "metadata": {},
     "output_type": "execute_result"
    }
   ],
   "source": [
    "df_competition = df.groupby(\"Store\").agg({ \"Sales\": \"sum\", \n",
    "                                           \"Customers\": \"sum\",\n",
    "                                           \"CompetitionDistance\": \"mean\"\n",
    "                                           })\n",
    "df_competition.head(10)"
   ]
  },
  {
   "cell_type": "code",
   "execution_count": 46,
   "metadata": {},
   "outputs": [
    {
     "data": {
      "text/html": [
       "<div>\n",
       "<style scoped>\n",
       "    .dataframe tbody tr th:only-of-type {\n",
       "        vertical-align: middle;\n",
       "    }\n",
       "\n",
       "    .dataframe tbody tr th {\n",
       "        vertical-align: top;\n",
       "    }\n",
       "\n",
       "    .dataframe thead th {\n",
       "        text-align: right;\n",
       "    }\n",
       "</style>\n",
       "<table border=\"1\" class=\"dataframe\">\n",
       "  <thead>\n",
       "    <tr style=\"text-align: right;\">\n",
       "      <th></th>\n",
       "      <th>Sales</th>\n",
       "      <th>Customers</th>\n",
       "      <th>CompetitionDistance</th>\n",
       "    </tr>\n",
       "    <tr>\n",
       "      <th>Store</th>\n",
       "      <th></th>\n",
       "      <th></th>\n",
       "      <th></th>\n",
       "    </tr>\n",
       "  </thead>\n",
       "  <tbody>\n",
       "    <tr>\n",
       "      <th>1106</th>\n",
       "      <td>3836971</td>\n",
       "      <td>437169</td>\n",
       "      <td>5330.000</td>\n",
       "    </tr>\n",
       "    <tr>\n",
       "      <th>1107</th>\n",
       "      <td>3877991</td>\n",
       "      <td>416495</td>\n",
       "      <td>1400.000</td>\n",
       "    </tr>\n",
       "    <tr>\n",
       "      <th>1108</th>\n",
       "      <td>4481290</td>\n",
       "      <td>460408</td>\n",
       "      <td>540.000</td>\n",
       "    </tr>\n",
       "    <tr>\n",
       "      <th>1109</th>\n",
       "      <td>3064721</td>\n",
       "      <td>281354</td>\n",
       "      <td>3490.000</td>\n",
       "    </tr>\n",
       "    <tr>\n",
       "      <th>1110</th>\n",
       "      <td>3548486</td>\n",
       "      <td>422958</td>\n",
       "      <td>900.000</td>\n",
       "    </tr>\n",
       "    <tr>\n",
       "      <th>1111</th>\n",
       "      <td>4091076</td>\n",
       "      <td>351883</td>\n",
       "      <td>1900.000</td>\n",
       "    </tr>\n",
       "    <tr>\n",
       "      <th>1112</th>\n",
       "      <td>7694122</td>\n",
       "      <td>652807</td>\n",
       "      <td>1880.000</td>\n",
       "    </tr>\n",
       "    <tr>\n",
       "      <th>1113</th>\n",
       "      <td>5194013</td>\n",
       "      <td>561801</td>\n",
       "      <td>9260.000</td>\n",
       "    </tr>\n",
       "    <tr>\n",
       "      <th>1114</th>\n",
       "      <td>10993612</td>\n",
       "      <td>1163445</td>\n",
       "      <td>870.000</td>\n",
       "    </tr>\n",
       "    <tr>\n",
       "      <th>1115</th>\n",
       "      <td>4922229</td>\n",
       "      <td>337884</td>\n",
       "      <td>5350.000</td>\n",
       "    </tr>\n",
       "  </tbody>\n",
       "</table>\n",
       "</div>"
      ],
      "text/plain": [
       "          Sales  Customers  CompetitionDistance\n",
       "Store                                          \n",
       "1106    3836971     437169             5330.000\n",
       "1107    3877991     416495             1400.000\n",
       "1108    4481290     460408              540.000\n",
       "1109    3064721     281354             3490.000\n",
       "1110    3548486     422958              900.000\n",
       "1111    4091076     351883             1900.000\n",
       "1112    7694122     652807             1880.000\n",
       "1113    5194013     561801             9260.000\n",
       "1114   10993612    1163445              870.000\n",
       "1115    4922229     337884             5350.000"
      ]
     },
     "execution_count": 46,
     "metadata": {},
     "output_type": "execute_result"
    }
   ],
   "source": [
    "df_competition.tail(10)"
   ]
  },
  {
   "cell_type": "code",
   "execution_count": 47,
   "metadata": {},
   "outputs": [
    {
     "data": {
      "image/png": "[encoded data removed]",
      "text/plain": [
       "<Figure size 864x432 with 2 Axes>"
      ]
     },
     "metadata": {
      "needs_background": "light"
     },
     "output_type": "display_data"
    }
   ],
   "source": [
    "columns = ['Sales', 'CompetitionDistance']\n",
    "plot.heatmap(df[columns], 'CompetitionDistance') "
   ]
  },
  {
   "cell_type": "markdown",
   "metadata": {},
   "source": [
    "When the competition distance become smaller, the number of Sales and Customers become higher. This is may be compititors locate themselves to the potential customers area, such as Cities. Therefore, compitition distance have a positive impact on Sales."
   ]
  },
  {
   "cell_type": "markdown",
   "metadata": {},
   "source": [
    "##### How does the opening or reopening of new competitors affect stores?"
   ]
  },
  {
   "cell_type": "code",
   "execution_count": 48,
   "metadata": {},
   "outputs": [
    {
     "data": {
      "text/plain": [
       "<seaborn.axisgrid.FacetGrid at 0x12480061420>"
      ]
     },
     "execution_count": 48,
     "metadata": {},
     "output_type": "execute_result"
    },
    {
     "data": {
      "text/plain": [
       "<Figure size 720x504 with 0 Axes>"
      ]
     },
     "metadata": {},
     "output_type": "display_data"
    },
    {
     "data": {
      "image/png": "[encoded data removed]",
      "text/plain": [
       "<Figure size 360x360 with 1 Axes>"
      ]
     },
     "metadata": {
      "needs_background": "light"
     },
     "output_type": "display_data"
    }
   ],
   "source": [
    "has_open_competition_df = df[df['CompetitionOpenSinceMonth'].notnull()]\n",
    "\n",
    "sales_before_competition_open = has_open_competition_df[(has_open_competition_df[\"Year\"] < has_open_competition_df[\"CompetitionOpenSinceYear\"]) & (has_open_competition_df[\"Month\"] < has_open_competition_df[\"CompetitionOpenSinceMonth\"]) ]\n",
    "\n",
    "sales_after_competition_open = has_open_competition_df[(has_open_competition_df[\"Year\"] >= has_open_competition_df[\"CompetitionOpenSinceYear\"]) & (has_open_competition_df[\"Month\"] >= has_open_competition_df[\"CompetitionOpenSinceMonth\"])]\n",
    "\n",
    "sales_before_competition_open[\"CompetitionBefore\"]=\"Before\"\n",
    "sales_after_competition_open[\"CompetitionBefore\"]=\"After\"\n",
    "\n",
    "competition_sales_data=pd.concat([sales_before_competition_open,sales_after_competition_open])\n",
    "\n",
    "plt.figure(figsize=(10, 7))\n",
    "sns.factorplot(data = competition_sales_data, x =\"CompetitionBefore\", y = \"Sales\", sharex=False)"
   ]
  },
  {
   "cell_type": "markdown",
   "metadata": {},
   "source": [
    "##### Save the Training and Testing Datasets which are merged with Store dataset"
   ]
  },
  {
   "cell_type": "code",
   "execution_count": 84,
   "metadata": {},
   "outputs": [],
   "source": [
    "# Sortout Date in both training and testing dataset\n",
    "\n",
    "train_df.sort_values([\"Store\",\"Date\"], ignore_index=True, inplace=True)\n",
    "test_df.sort_values([\"Store\",\"Date\"], ignore_index=True, inplace=True)\n",
    "\n",
    "for dataset in (train_df, test_df):\n",
    "    dataset['Date'] = pd.to_datetime(dataset['Date'])\n",
    "    dataset['Day'] = dataset.Date.dt.day\n",
    "    dataset['Month'] = dataset.Date.dt.month\n",
    "    dataset['Year'] = dataset.Date.dt.year\n",
    "    dataset['DayOfYear'] = dataset.Date.dt.dayofyear\n",
    "    dataset['WeekOfYear'] = dataset.Date.dt.weekofyear\n",
    "    # dataset.set_index('Date', inplace=True)"
   ]
  },
  {
   "cell_type": "code",
   "execution_count": 88,
   "metadata": {},
   "outputs": [
    {
     "name": "stdout",
     "output_type": "stream",
     "text": [
      "2022-05-26 17:08:39,299 — FileHandler — INFO — file saved as csv\n",
      "2022-05-26 17:08:39,757 — FileHandler — INFO — file saved as csv\n"
     ]
    }
   ],
   "source": [
    "file_handler.save_csv(train_df, '../data/cleaned_train.csv')\n",
    "file_handler.save_csv(test_df, '../data/cleaned_test.csv') "
   ]
  }
 ],
 "metadata": {
  "interpreter": {
   "hash": "0f08ea943be090a14eff5269cda570ac55dcc0e2bd93317a14b7d7e20047a087"
  },
  "kernelspec": {
   "display_name": "Python 3 (ipykernel)",
   "language": "python",
   "name": "python3"
  },
  "language_info": {
   "codemirror_mode": {
    "name": "ipython",
    "version": 3
   },
   "file_extension": ".py",
   "mimetype": "text/x-python",
   "name": "python",
   "nbconvert_exporter": "python",
   "pygments_lexer": "ipython3",
   "version": "3.9.12"
  }
 },
 "nbformat": 4,
 "nbformat_minor": 2
}
