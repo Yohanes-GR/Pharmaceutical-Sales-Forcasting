{
 "cells": [
  {
   "cell_type": "code",
   "execution_count": 1,
   "metadata": {},
   "outputs": [],
   "source": [
    "import os\n",
    "import sys\n",
    "import warnings\n",
    "import numpy as np\n",
    "import pandas as pd\n",
    "import seaborn as sns\n",
    "import matplotlib.pyplot as plt\n",
    "\n",
    "warnings.simplefilter(action='ignore', category=FutureWarning)\n",
    "pd.set_option('display.float_format', lambda x: '%.3f' % x)\n",
    "pd.options.mode.chained_assignment = None  # default='warn'\n",
    "plt.rcParams[\"figure.figsize\"] = (12, 7)\n",
    "pd.set_option('display.max_columns', None)\n",
    "\n",
    "sns.set_style(\"darkgrid\")\n",
    "%matplotlib inline"
   ]
  },
  {
   "cell_type": "code",
   "execution_count": 2,
   "metadata": {},
   "outputs": [
    {
     "name": "stdout",
     "output_type": "stream",
     "text": [
      "2022-09-09 14:04:37,502 — DfOverview — DEBUG — Loaded successfully!\n",
      "2022-09-09 14:04:37,522 — DfCleaner — DEBUG — Loaded successfully!\n",
      "2022-09-09 14:04:37,551 — DfOutlier — DEBUG — Loaded successfully!\n"
     ]
    }
   ],
   "source": [
    "sys.path.append(os.path.abspath(os.path.join('../scripts')))\n",
    "import warnings\n",
    "warnings.filterwarnings('ignore')\n",
    "\n",
    "from file_handler import FileHandler\n",
    "from df_overview import DfOverview\n",
    "from df_cleaner import DfCleaner\n",
    "from df_outlier import DfOutlier\n",
    "from plots import Plots\n",
    "\n",
    "cleaner = DfCleaner()\n",
    "plot = Plots()"
   ]
  },
  {
   "cell_type": "markdown",
   "metadata": {},
   "source": [
    "#### Read the Datasets"
   ]
  },
  {
   "cell_type": "code",
   "execution_count": 3,
   "metadata": {},
   "outputs": [
    {
     "name": "stdout",
     "output_type": "stream",
     "text": [
      "2022-09-09 14:04:41,546 — FileHandler — DEBUG — file read as csv\n",
      "2022-09-09 14:04:41,621 — FileHandler — DEBUG — file read as csv\n",
      "2022-09-09 14:04:41,629 — FileHandler — DEBUG — file read as csv\n"
     ]
    }
   ],
   "source": [
    "file_handler = FileHandler()\n",
    "df_train = file_handler.read_csv(\"../data/train.csv\")\n",
    "df_test = file_handler.read_csv(\"../data/test.csv\")\n",
    "df_store = file_handler.read_csv(\"../data/store.csv\")"
   ]
  },
  {
   "cell_type": "code",
   "execution_count": 4,
   "metadata": {},
   "outputs": [
    {
     "data": {
      "text/plain": [
       "Index(['Id', 'Store', 'DayOfWeek', 'Date', 'Open', 'Promo', 'StateHoliday',\n",
       "       'SchoolHoliday'],\n",
       "      dtype='object')"
      ]
     },
     "execution_count": 4,
     "metadata": {},
     "output_type": "execute_result"
    }
   ],
   "source": [
    "df_test.columns "
   ]
  },
  {
   "cell_type": "code",
   "execution_count": 5,
   "metadata": {},
   "outputs": [
    {
     "data": {
      "text/plain": [
       "Index(['Store', 'StoreType', 'Assortment', 'CompetitionDistance',\n",
       "       'CompetitionOpenSinceMonth', 'CompetitionOpenSinceYear', 'Promo2',\n",
       "       'Promo2SinceWeek', 'Promo2SinceYear', 'PromoInterval'],\n",
       "      dtype='object')"
      ]
     },
     "execution_count": 5,
     "metadata": {},
     "output_type": "execute_result"
    }
   ],
   "source": [
    "df_store.columns"
   ]
  },
  {
   "cell_type": "code",
   "execution_count": 6,
   "metadata": {},
   "outputs": [
    {
     "data": {
      "text/html": [
       "<div>\n",
       "<style scoped>\n",
       "    .dataframe tbody tr th:only-of-type {\n",
       "        vertical-align: middle;\n",
       "    }\n",
       "\n",
       "    .dataframe tbody tr th {\n",
       "        vertical-align: top;\n",
       "    }\n",
       "\n",
       "    .dataframe thead th {\n",
       "        text-align: right;\n",
       "    }\n",
       "</style>\n",
       "<table border=\"1\" class=\"dataframe\">\n",
       "  <thead>\n",
       "    <tr style=\"text-align: right;\">\n",
       "      <th></th>\n",
       "      <th>Store</th>\n",
       "      <th>DayOfWeek</th>\n",
       "      <th>Date</th>\n",
       "      <th>Sales</th>\n",
       "      <th>Customers</th>\n",
       "      <th>Open</th>\n",
       "      <th>Promo</th>\n",
       "      <th>StateHoliday</th>\n",
       "      <th>SchoolHoliday</th>\n",
       "    </tr>\n",
       "  </thead>\n",
       "  <tbody>\n",
       "    <tr>\n",
       "      <th>0</th>\n",
       "      <td>1</td>\n",
       "      <td>5</td>\n",
       "      <td>2015-07-31</td>\n",
       "      <td>5263</td>\n",
       "      <td>555</td>\n",
       "      <td>1</td>\n",
       "      <td>1</td>\n",
       "      <td>0</td>\n",
       "      <td>1</td>\n",
       "    </tr>\n",
       "    <tr>\n",
       "      <th>1</th>\n",
       "      <td>2</td>\n",
       "      <td>5</td>\n",
       "      <td>2015-07-31</td>\n",
       "      <td>6064</td>\n",
       "      <td>625</td>\n",
       "      <td>1</td>\n",
       "      <td>1</td>\n",
       "      <td>0</td>\n",
       "      <td>1</td>\n",
       "    </tr>\n",
       "    <tr>\n",
       "      <th>2</th>\n",
       "      <td>3</td>\n",
       "      <td>5</td>\n",
       "      <td>2015-07-31</td>\n",
       "      <td>8314</td>\n",
       "      <td>821</td>\n",
       "      <td>1</td>\n",
       "      <td>1</td>\n",
       "      <td>0</td>\n",
       "      <td>1</td>\n",
       "    </tr>\n",
       "    <tr>\n",
       "      <th>3</th>\n",
       "      <td>4</td>\n",
       "      <td>5</td>\n",
       "      <td>2015-07-31</td>\n",
       "      <td>13995</td>\n",
       "      <td>1498</td>\n",
       "      <td>1</td>\n",
       "      <td>1</td>\n",
       "      <td>0</td>\n",
       "      <td>1</td>\n",
       "    </tr>\n",
       "    <tr>\n",
       "      <th>4</th>\n",
       "      <td>5</td>\n",
       "      <td>5</td>\n",
       "      <td>2015-07-31</td>\n",
       "      <td>4822</td>\n",
       "      <td>559</td>\n",
       "      <td>1</td>\n",
       "      <td>1</td>\n",
       "      <td>0</td>\n",
       "      <td>1</td>\n",
       "    </tr>\n",
       "  </tbody>\n",
       "</table>\n",
       "</div>"
      ],
      "text/plain": [
       "   Store  DayOfWeek        Date  Sales  Customers  Open  Promo StateHoliday  \\\n",
       "0      1          5  2015-07-31   5263        555     1      1            0   \n",
       "1      2          5  2015-07-31   6064        625     1      1            0   \n",
       "2      3          5  2015-07-31   8314        821     1      1            0   \n",
       "3      4          5  2015-07-31  13995       1498     1      1            0   \n",
       "4      5          5  2015-07-31   4822        559     1      1            0   \n",
       "\n",
       "   SchoolHoliday  \n",
       "0              1  \n",
       "1              1  \n",
       "2              1  \n",
       "3              1  \n",
       "4              1  "
      ]
     },
     "execution_count": 6,
     "metadata": {},
     "output_type": "execute_result"
    }
   ],
   "source": [
    "df_train.head()"
   ]
  },
  {
   "cell_type": "code",
   "execution_count": 7,
   "metadata": {},
   "outputs": [
    {
     "name": "stdout",
     "output_type": "stream",
     "text": [
      "<class 'pandas.core.frame.DataFrame'>\n",
      "RangeIndex: 1017209 entries, 0 to 1017208\n",
      "Data columns (total 9 columns):\n",
      " #   Column         Non-Null Count    Dtype \n",
      "---  ------         --------------    ----- \n",
      " 0   Store          1017209 non-null  int64 \n",
      " 1   DayOfWeek      1017209 non-null  int64 \n",
      " 2   Date           1017209 non-null  object\n",
      " 3   Sales          1017209 non-null  int64 \n",
      " 4   Customers      1017209 non-null  int64 \n",
      " 5   Open           1017209 non-null  int64 \n",
      " 6   Promo          1017209 non-null  int64 \n",
      " 7   StateHoliday   1017209 non-null  object\n",
      " 8   SchoolHoliday  1017209 non-null  int64 \n",
      "dtypes: int64(7), object(2)\n",
      "memory usage: 69.8+ MB\n"
     ]
    }
   ],
   "source": [
    "df_train.info()"
   ]
  },
  {
   "cell_type": "code",
   "execution_count": 8,
   "metadata": {},
   "outputs": [
    {
     "name": "stdout",
     "output_type": "stream",
     "text": [
      "<class 'pandas.core.frame.DataFrame'>\n",
      "RangeIndex: 41088 entries, 0 to 41087\n",
      "Data columns (total 8 columns):\n",
      " #   Column         Non-Null Count  Dtype  \n",
      "---  ------         --------------  -----  \n",
      " 0   Id             41088 non-null  int64  \n",
      " 1   Store          41088 non-null  int64  \n",
      " 2   DayOfWeek      41088 non-null  int64  \n",
      " 3   Date           41088 non-null  object \n",
      " 4   Open           41077 non-null  float64\n",
      " 5   Promo          41088 non-null  int64  \n",
      " 6   StateHoliday   41088 non-null  object \n",
      " 7   SchoolHoliday  41088 non-null  int64  \n",
      "dtypes: float64(1), int64(5), object(2)\n",
      "memory usage: 2.5+ MB\n"
     ]
    }
   ],
   "source": [
    "df_test.info()"
   ]
  },
  {
   "cell_type": "code",
   "execution_count": 9,
   "metadata": {},
   "outputs": [
    {
     "name": "stdout",
     "output_type": "stream",
     "text": [
      "<class 'pandas.core.frame.DataFrame'>\n",
      "RangeIndex: 1115 entries, 0 to 1114\n",
      "Data columns (total 10 columns):\n",
      " #   Column                     Non-Null Count  Dtype  \n",
      "---  ------                     --------------  -----  \n",
      " 0   Store                      1115 non-null   int64  \n",
      " 1   StoreType                  1115 non-null   object \n",
      " 2   Assortment                 1115 non-null   object \n",
      " 3   CompetitionDistance        1112 non-null   float64\n",
      " 4   CompetitionOpenSinceMonth  761 non-null    float64\n",
      " 5   CompetitionOpenSinceYear   761 non-null    float64\n",
      " 6   Promo2                     1115 non-null   int64  \n",
      " 7   Promo2SinceWeek            571 non-null    float64\n",
      " 8   Promo2SinceYear            571 non-null    float64\n",
      " 9   PromoInterval              571 non-null    object \n",
      "dtypes: float64(5), int64(2), object(3)\n",
      "memory usage: 87.2+ KB\n"
     ]
    }
   ],
   "source": [
    "df_store.info()"
   ]
  },
  {
   "cell_type": "markdown",
   "metadata": {},
   "source": [
    "### Cleaning Datasets"
   ]
  },
  {
   "cell_type": "markdown",
   "metadata": {},
   "source": [
    "##### Check and Handle Missing Values in Training Dataset"
   ]
  },
  {
   "cell_type": "code",
   "execution_count": 10,
   "metadata": {},
   "outputs": [
    {
     "data": {
      "text/html": [
       "<div>\n",
       "<style scoped>\n",
       "    .dataframe tbody tr th:only-of-type {\n",
       "        vertical-align: middle;\n",
       "    }\n",
       "\n",
       "    .dataframe tbody tr th {\n",
       "        vertical-align: top;\n",
       "    }\n",
       "\n",
       "    .dataframe thead th {\n",
       "        text-align: right;\n",
       "    }\n",
       "</style>\n",
       "<table border=\"1\" class=\"dataframe\">\n",
       "  <thead>\n",
       "    <tr style=\"text-align: right;\">\n",
       "      <th></th>\n",
       "      <th>count</th>\n",
       "      <th>missing_count</th>\n",
       "      <th>missing_percentage</th>\n",
       "      <th>unique_value_count</th>\n",
       "      <th>unique_percentage</th>\n",
       "      <th>dtype</th>\n",
       "    </tr>\n",
       "    <tr>\n",
       "      <th>label</th>\n",
       "      <th></th>\n",
       "      <th></th>\n",
       "      <th></th>\n",
       "      <th></th>\n",
       "      <th></th>\n",
       "      <th></th>\n",
       "    </tr>\n",
       "  </thead>\n",
       "  <tbody>\n",
       "    <tr>\n",
       "      <th>Store</th>\n",
       "      <td>1017209</td>\n",
       "      <td>0</td>\n",
       "      <td>0.0%</td>\n",
       "      <td>1115</td>\n",
       "      <td>0.11%</td>\n",
       "      <td>int64</td>\n",
       "    </tr>\n",
       "    <tr>\n",
       "      <th>DayOfWeek</th>\n",
       "      <td>1017209</td>\n",
       "      <td>0</td>\n",
       "      <td>0.0%</td>\n",
       "      <td>7</td>\n",
       "      <td>0.0%</td>\n",
       "      <td>int64</td>\n",
       "    </tr>\n",
       "    <tr>\n",
       "      <th>Date</th>\n",
       "      <td>1017209</td>\n",
       "      <td>0</td>\n",
       "      <td>0.0%</td>\n",
       "      <td>942</td>\n",
       "      <td>0.09%</td>\n",
       "      <td>object</td>\n",
       "    </tr>\n",
       "    <tr>\n",
       "      <th>Sales</th>\n",
       "      <td>1017209</td>\n",
       "      <td>0</td>\n",
       "      <td>0.0%</td>\n",
       "      <td>21734</td>\n",
       "      <td>2.14%</td>\n",
       "      <td>int64</td>\n",
       "    </tr>\n",
       "    <tr>\n",
       "      <th>Customers</th>\n",
       "      <td>1017209</td>\n",
       "      <td>0</td>\n",
       "      <td>0.0%</td>\n",
       "      <td>4086</td>\n",
       "      <td>0.4%</td>\n",
       "      <td>int64</td>\n",
       "    </tr>\n",
       "    <tr>\n",
       "      <th>Open</th>\n",
       "      <td>1017209</td>\n",
       "      <td>0</td>\n",
       "      <td>0.0%</td>\n",
       "      <td>2</td>\n",
       "      <td>0.0%</td>\n",
       "      <td>int64</td>\n",
       "    </tr>\n",
       "    <tr>\n",
       "      <th>Promo</th>\n",
       "      <td>1017209</td>\n",
       "      <td>0</td>\n",
       "      <td>0.0%</td>\n",
       "      <td>2</td>\n",
       "      <td>0.0%</td>\n",
       "      <td>int64</td>\n",
       "    </tr>\n",
       "    <tr>\n",
       "      <th>StateHoliday</th>\n",
       "      <td>1017209</td>\n",
       "      <td>0</td>\n",
       "      <td>0.0%</td>\n",
       "      <td>5</td>\n",
       "      <td>0.0%</td>\n",
       "      <td>object</td>\n",
       "    </tr>\n",
       "    <tr>\n",
       "      <th>SchoolHoliday</th>\n",
       "      <td>1017209</td>\n",
       "      <td>0</td>\n",
       "      <td>0.0%</td>\n",
       "      <td>2</td>\n",
       "      <td>0.0%</td>\n",
       "      <td>int64</td>\n",
       "    </tr>\n",
       "  </tbody>\n",
       "</table>\n",
       "</div>"
      ],
      "text/plain": [
       "                 count  missing_count missing_percentage  unique_value_count  \\\n",
       "label                                                                          \n",
       "Store          1017209              0               0.0%                1115   \n",
       "DayOfWeek      1017209              0               0.0%                   7   \n",
       "Date           1017209              0               0.0%                 942   \n",
       "Sales          1017209              0               0.0%               21734   \n",
       "Customers      1017209              0               0.0%                4086   \n",
       "Open           1017209              0               0.0%                   2   \n",
       "Promo          1017209              0               0.0%                   2   \n",
       "StateHoliday   1017209              0               0.0%                   5   \n",
       "SchoolHoliday  1017209              0               0.0%                   2   \n",
       "\n",
       "              unique_percentage   dtype  \n",
       "label                                    \n",
       "Store                     0.11%   int64  \n",
       "DayOfWeek                  0.0%   int64  \n",
       "Date                      0.09%  object  \n",
       "Sales                     2.14%   int64  \n",
       "Customers                  0.4%   int64  \n",
       "Open                       0.0%   int64  \n",
       "Promo                      0.0%   int64  \n",
       "StateHoliday               0.0%  object  \n",
       "SchoolHoliday              0.0%   int64  "
      ]
     },
     "execution_count": 10,
     "metadata": {},
     "output_type": "execute_result"
    }
   ],
   "source": [
    "train_overview = DfOverview(df_train)\n",
    "train_overview.getOverview()"
   ]
  },
  {
   "cell_type": "markdown",
   "metadata": {},
   "source": [
    "We don't have any null values on train dataset fortunately."
   ]
  },
  {
   "cell_type": "markdown",
   "metadata": {},
   "source": [
    "##### Check and Handle Missing Values in Testing Dataset"
   ]
  },
  {
   "cell_type": "code",
   "execution_count": 11,
   "metadata": {},
   "outputs": [
    {
     "data": {
      "text/html": [
       "<div>\n",
       "<style scoped>\n",
       "    .dataframe tbody tr th:only-of-type {\n",
       "        vertical-align: middle;\n",
       "    }\n",
       "\n",
       "    .dataframe tbody tr th {\n",
       "        vertical-align: top;\n",
       "    }\n",
       "\n",
       "    .dataframe thead th {\n",
       "        text-align: right;\n",
       "    }\n",
       "</style>\n",
       "<table border=\"1\" class=\"dataframe\">\n",
       "  <thead>\n",
       "    <tr style=\"text-align: right;\">\n",
       "      <th></th>\n",
       "      <th>count</th>\n",
       "      <th>missing_count</th>\n",
       "      <th>missing_percentage</th>\n",
       "      <th>unique_value_count</th>\n",
       "      <th>unique_percentage</th>\n",
       "      <th>dtype</th>\n",
       "    </tr>\n",
       "    <tr>\n",
       "      <th>label</th>\n",
       "      <th></th>\n",
       "      <th></th>\n",
       "      <th></th>\n",
       "      <th></th>\n",
       "      <th></th>\n",
       "      <th></th>\n",
       "    </tr>\n",
       "  </thead>\n",
       "  <tbody>\n",
       "    <tr>\n",
       "      <th>Id</th>\n",
       "      <td>41088</td>\n",
       "      <td>0</td>\n",
       "      <td>0.0%</td>\n",
       "      <td>41088</td>\n",
       "      <td>100.0%</td>\n",
       "      <td>int64</td>\n",
       "    </tr>\n",
       "    <tr>\n",
       "      <th>Store</th>\n",
       "      <td>41088</td>\n",
       "      <td>0</td>\n",
       "      <td>0.0%</td>\n",
       "      <td>856</td>\n",
       "      <td>2.08%</td>\n",
       "      <td>int64</td>\n",
       "    </tr>\n",
       "    <tr>\n",
       "      <th>DayOfWeek</th>\n",
       "      <td>41088</td>\n",
       "      <td>0</td>\n",
       "      <td>0.0%</td>\n",
       "      <td>7</td>\n",
       "      <td>0.02%</td>\n",
       "      <td>int64</td>\n",
       "    </tr>\n",
       "    <tr>\n",
       "      <th>Date</th>\n",
       "      <td>41088</td>\n",
       "      <td>0</td>\n",
       "      <td>0.0%</td>\n",
       "      <td>48</td>\n",
       "      <td>0.12%</td>\n",
       "      <td>object</td>\n",
       "    </tr>\n",
       "    <tr>\n",
       "      <th>Promo</th>\n",
       "      <td>41088</td>\n",
       "      <td>0</td>\n",
       "      <td>0.0%</td>\n",
       "      <td>2</td>\n",
       "      <td>0.0%</td>\n",
       "      <td>int64</td>\n",
       "    </tr>\n",
       "    <tr>\n",
       "      <th>StateHoliday</th>\n",
       "      <td>41088</td>\n",
       "      <td>0</td>\n",
       "      <td>0.0%</td>\n",
       "      <td>2</td>\n",
       "      <td>0.0%</td>\n",
       "      <td>object</td>\n",
       "    </tr>\n",
       "    <tr>\n",
       "      <th>SchoolHoliday</th>\n",
       "      <td>41088</td>\n",
       "      <td>0</td>\n",
       "      <td>0.0%</td>\n",
       "      <td>2</td>\n",
       "      <td>0.0%</td>\n",
       "      <td>int64</td>\n",
       "    </tr>\n",
       "    <tr>\n",
       "      <th>Open</th>\n",
       "      <td>41077</td>\n",
       "      <td>11</td>\n",
       "      <td>0.03%</td>\n",
       "      <td>2</td>\n",
       "      <td>0.0%</td>\n",
       "      <td>float64</td>\n",
       "    </tr>\n",
       "  </tbody>\n",
       "</table>\n",
       "</div>"
      ],
      "text/plain": [
       "               count  missing_count missing_percentage  unique_value_count  \\\n",
       "label                                                                        \n",
       "Id             41088              0               0.0%               41088   \n",
       "Store          41088              0               0.0%                 856   \n",
       "DayOfWeek      41088              0               0.0%                   7   \n",
       "Date           41088              0               0.0%                  48   \n",
       "Promo          41088              0               0.0%                   2   \n",
       "StateHoliday   41088              0               0.0%                   2   \n",
       "SchoolHoliday  41088              0               0.0%                   2   \n",
       "Open           41077             11              0.03%                   2   \n",
       "\n",
       "              unique_percentage    dtype  \n",
       "label                                     \n",
       "Id                       100.0%    int64  \n",
       "Store                     2.08%    int64  \n",
       "DayOfWeek                 0.02%    int64  \n",
       "Date                      0.12%   object  \n",
       "Promo                      0.0%    int64  \n",
       "StateHoliday               0.0%   object  \n",
       "SchoolHoliday              0.0%    int64  \n",
       "Open                       0.0%  float64  "
      ]
     },
     "execution_count": 11,
     "metadata": {},
     "output_type": "execute_result"
    }
   ],
   "source": [
    "test_overview = DfOverview(df_test)\n",
    "test_overview.getOverview()"
   ]
  },
  {
   "cell_type": "markdown",
   "metadata": {},
   "source": [
    "All columns except Open are all missing value free. Open column have very small number of missing values. Let's look more on to it."
   ]
  },
  {
   "cell_type": "code",
   "execution_count": 12,
   "metadata": {},
   "outputs": [
    {
     "data": {
      "text/html": [
       "<div>\n",
       "<style scoped>\n",
       "    .dataframe tbody tr th:only-of-type {\n",
       "        vertical-align: middle;\n",
       "    }\n",
       "\n",
       "    .dataframe tbody tr th {\n",
       "        vertical-align: top;\n",
       "    }\n",
       "\n",
       "    .dataframe thead th {\n",
       "        text-align: right;\n",
       "    }\n",
       "</style>\n",
       "<table border=\"1\" class=\"dataframe\">\n",
       "  <thead>\n",
       "    <tr style=\"text-align: right;\">\n",
       "      <th></th>\n",
       "      <th>Id</th>\n",
       "      <th>Store</th>\n",
       "      <th>DayOfWeek</th>\n",
       "      <th>Date</th>\n",
       "      <th>Open</th>\n",
       "      <th>Promo</th>\n",
       "      <th>StateHoliday</th>\n",
       "      <th>SchoolHoliday</th>\n",
       "    </tr>\n",
       "  </thead>\n",
       "  <tbody>\n",
       "    <tr>\n",
       "      <th>479</th>\n",
       "      <td>480</td>\n",
       "      <td>622</td>\n",
       "      <td>4</td>\n",
       "      <td>2015-09-17</td>\n",
       "      <td>NaN</td>\n",
       "      <td>1</td>\n",
       "      <td>0</td>\n",
       "      <td>0</td>\n",
       "    </tr>\n",
       "    <tr>\n",
       "      <th>1335</th>\n",
       "      <td>1336</td>\n",
       "      <td>622</td>\n",
       "      <td>3</td>\n",
       "      <td>2015-09-16</td>\n",
       "      <td>NaN</td>\n",
       "      <td>1</td>\n",
       "      <td>0</td>\n",
       "      <td>0</td>\n",
       "    </tr>\n",
       "    <tr>\n",
       "      <th>2191</th>\n",
       "      <td>2192</td>\n",
       "      <td>622</td>\n",
       "      <td>2</td>\n",
       "      <td>2015-09-15</td>\n",
       "      <td>NaN</td>\n",
       "      <td>1</td>\n",
       "      <td>0</td>\n",
       "      <td>0</td>\n",
       "    </tr>\n",
       "    <tr>\n",
       "      <th>3047</th>\n",
       "      <td>3048</td>\n",
       "      <td>622</td>\n",
       "      <td>1</td>\n",
       "      <td>2015-09-14</td>\n",
       "      <td>NaN</td>\n",
       "      <td>1</td>\n",
       "      <td>0</td>\n",
       "      <td>0</td>\n",
       "    </tr>\n",
       "    <tr>\n",
       "      <th>4759</th>\n",
       "      <td>4760</td>\n",
       "      <td>622</td>\n",
       "      <td>6</td>\n",
       "      <td>2015-09-12</td>\n",
       "      <td>NaN</td>\n",
       "      <td>0</td>\n",
       "      <td>0</td>\n",
       "      <td>0</td>\n",
       "    </tr>\n",
       "    <tr>\n",
       "      <th>5615</th>\n",
       "      <td>5616</td>\n",
       "      <td>622</td>\n",
       "      <td>5</td>\n",
       "      <td>2015-09-11</td>\n",
       "      <td>NaN</td>\n",
       "      <td>0</td>\n",
       "      <td>0</td>\n",
       "      <td>0</td>\n",
       "    </tr>\n",
       "    <tr>\n",
       "      <th>6471</th>\n",
       "      <td>6472</td>\n",
       "      <td>622</td>\n",
       "      <td>4</td>\n",
       "      <td>2015-09-10</td>\n",
       "      <td>NaN</td>\n",
       "      <td>0</td>\n",
       "      <td>0</td>\n",
       "      <td>0</td>\n",
       "    </tr>\n",
       "    <tr>\n",
       "      <th>7327</th>\n",
       "      <td>7328</td>\n",
       "      <td>622</td>\n",
       "      <td>3</td>\n",
       "      <td>2015-09-09</td>\n",
       "      <td>NaN</td>\n",
       "      <td>0</td>\n",
       "      <td>0</td>\n",
       "      <td>0</td>\n",
       "    </tr>\n",
       "    <tr>\n",
       "      <th>8183</th>\n",
       "      <td>8184</td>\n",
       "      <td>622</td>\n",
       "      <td>2</td>\n",
       "      <td>2015-09-08</td>\n",
       "      <td>NaN</td>\n",
       "      <td>0</td>\n",
       "      <td>0</td>\n",
       "      <td>0</td>\n",
       "    </tr>\n",
       "    <tr>\n",
       "      <th>9039</th>\n",
       "      <td>9040</td>\n",
       "      <td>622</td>\n",
       "      <td>1</td>\n",
       "      <td>2015-09-07</td>\n",
       "      <td>NaN</td>\n",
       "      <td>0</td>\n",
       "      <td>0</td>\n",
       "      <td>0</td>\n",
       "    </tr>\n",
       "    <tr>\n",
       "      <th>10751</th>\n",
       "      <td>10752</td>\n",
       "      <td>622</td>\n",
       "      <td>6</td>\n",
       "      <td>2015-09-05</td>\n",
       "      <td>NaN</td>\n",
       "      <td>0</td>\n",
       "      <td>0</td>\n",
       "      <td>0</td>\n",
       "    </tr>\n",
       "  </tbody>\n",
       "</table>\n",
       "</div>"
      ],
      "text/plain": [
       "          Id  Store  DayOfWeek        Date  Open  Promo StateHoliday  \\\n",
       "479      480    622          4  2015-09-17   NaN      1            0   \n",
       "1335    1336    622          3  2015-09-16   NaN      1            0   \n",
       "2191    2192    622          2  2015-09-15   NaN      1            0   \n",
       "3047    3048    622          1  2015-09-14   NaN      1            0   \n",
       "4759    4760    622          6  2015-09-12   NaN      0            0   \n",
       "5615    5616    622          5  2015-09-11   NaN      0            0   \n",
       "6471    6472    622          4  2015-09-10   NaN      0            0   \n",
       "7327    7328    622          3  2015-09-09   NaN      0            0   \n",
       "8183    8184    622          2  2015-09-08   NaN      0            0   \n",
       "9039    9040    622          1  2015-09-07   NaN      0            0   \n",
       "10751  10752    622          6  2015-09-05   NaN      0            0   \n",
       "\n",
       "       SchoolHoliday  \n",
       "479                0  \n",
       "1335               0  \n",
       "2191               0  \n",
       "3047               0  \n",
       "4759               0  \n",
       "5615               0  \n",
       "6471               0  \n",
       "7327               0  \n",
       "8183               0  \n",
       "9039               0  \n",
       "10751              0  "
      ]
     },
     "execution_count": 12,
     "metadata": {},
     "output_type": "execute_result"
    }
   ],
   "source": [
    "df_test[pd.isnull(df_test['Open'])]"
   ]
  },
  {
   "cell_type": "markdown",
   "metadata": {},
   "source": [
    "All missing values comes from store 622. Let's check if the training dataset has information about 622 store on this dates."
   ]
  },
  {
   "cell_type": "code",
   "execution_count": 13,
   "metadata": {},
   "outputs": [
    {
     "data": {
      "text/plain": [
       "[]"
      ]
     },
     "execution_count": 13,
     "metadata": {},
     "output_type": "execute_result"
    }
   ],
   "source": [
    "unknown_date = df_test[pd.isnull(df_test['Open'])]['Date'].values\n",
    "[cols for cols in df_train['Store'] == 622 if cols in unknown_date]"
   ]
  },
  {
   "cell_type": "markdown",
   "metadata": {},
   "source": [
    "No training data is associated with store 622 on those days, therefore let us handle them with fill forward method."
   ]
  },
  {
   "cell_type": "code",
   "execution_count": 14,
   "metadata": {},
   "outputs": [],
   "source": [
    "df_test = cleaner.fix_missing_ffill(df_test, ['Open']) "
   ]
  },
  {
   "cell_type": "code",
   "execution_count": 15,
   "metadata": {},
   "outputs": [
    {
     "data": {
      "text/html": [
       "<div>\n",
       "<style scoped>\n",
       "    .dataframe tbody tr th:only-of-type {\n",
       "        vertical-align: middle;\n",
       "    }\n",
       "\n",
       "    .dataframe tbody tr th {\n",
       "        vertical-align: top;\n",
       "    }\n",
       "\n",
       "    .dataframe thead th {\n",
       "        text-align: right;\n",
       "    }\n",
       "</style>\n",
       "<table border=\"1\" class=\"dataframe\">\n",
       "  <thead>\n",
       "    <tr style=\"text-align: right;\">\n",
       "      <th></th>\n",
       "      <th>count</th>\n",
       "      <th>missing_count</th>\n",
       "      <th>missing_percentage</th>\n",
       "      <th>unique_value_count</th>\n",
       "      <th>unique_percentage</th>\n",
       "      <th>dtype</th>\n",
       "    </tr>\n",
       "    <tr>\n",
       "      <th>label</th>\n",
       "      <th></th>\n",
       "      <th></th>\n",
       "      <th></th>\n",
       "      <th></th>\n",
       "      <th></th>\n",
       "      <th></th>\n",
       "    </tr>\n",
       "  </thead>\n",
       "  <tbody>\n",
       "    <tr>\n",
       "      <th>Id</th>\n",
       "      <td>41088</td>\n",
       "      <td>0</td>\n",
       "      <td>0.0%</td>\n",
       "      <td>41088</td>\n",
       "      <td>100.0%</td>\n",
       "      <td>int64</td>\n",
       "    </tr>\n",
       "    <tr>\n",
       "      <th>Store</th>\n",
       "      <td>41088</td>\n",
       "      <td>0</td>\n",
       "      <td>0.0%</td>\n",
       "      <td>856</td>\n",
       "      <td>2.08%</td>\n",
       "      <td>int64</td>\n",
       "    </tr>\n",
       "    <tr>\n",
       "      <th>DayOfWeek</th>\n",
       "      <td>41088</td>\n",
       "      <td>0</td>\n",
       "      <td>0.0%</td>\n",
       "      <td>7</td>\n",
       "      <td>0.02%</td>\n",
       "      <td>int64</td>\n",
       "    </tr>\n",
       "    <tr>\n",
       "      <th>Date</th>\n",
       "      <td>41088</td>\n",
       "      <td>0</td>\n",
       "      <td>0.0%</td>\n",
       "      <td>48</td>\n",
       "      <td>0.12%</td>\n",
       "      <td>object</td>\n",
       "    </tr>\n",
       "    <tr>\n",
       "      <th>Open</th>\n",
       "      <td>41088</td>\n",
       "      <td>0</td>\n",
       "      <td>0.0%</td>\n",
       "      <td>2</td>\n",
       "      <td>0.0%</td>\n",
       "      <td>float64</td>\n",
       "    </tr>\n",
       "    <tr>\n",
       "      <th>Promo</th>\n",
       "      <td>41088</td>\n",
       "      <td>0</td>\n",
       "      <td>0.0%</td>\n",
       "      <td>2</td>\n",
       "      <td>0.0%</td>\n",
       "      <td>int64</td>\n",
       "    </tr>\n",
       "    <tr>\n",
       "      <th>StateHoliday</th>\n",
       "      <td>41088</td>\n",
       "      <td>0</td>\n",
       "      <td>0.0%</td>\n",
       "      <td>2</td>\n",
       "      <td>0.0%</td>\n",
       "      <td>object</td>\n",
       "    </tr>\n",
       "    <tr>\n",
       "      <th>SchoolHoliday</th>\n",
       "      <td>41088</td>\n",
       "      <td>0</td>\n",
       "      <td>0.0%</td>\n",
       "      <td>2</td>\n",
       "      <td>0.0%</td>\n",
       "      <td>int64</td>\n",
       "    </tr>\n",
       "  </tbody>\n",
       "</table>\n",
       "</div>"
      ],
      "text/plain": [
       "               count  missing_count missing_percentage  unique_value_count  \\\n",
       "label                                                                        \n",
       "Id             41088              0               0.0%               41088   \n",
       "Store          41088              0               0.0%                 856   \n",
       "DayOfWeek      41088              0               0.0%                   7   \n",
       "Date           41088              0               0.0%                  48   \n",
       "Open           41088              0               0.0%                   2   \n",
       "Promo          41088              0               0.0%                   2   \n",
       "StateHoliday   41088              0               0.0%                   2   \n",
       "SchoolHoliday  41088              0               0.0%                   2   \n",
       "\n",
       "              unique_percentage    dtype  \n",
       "label                                     \n",
       "Id                       100.0%    int64  \n",
       "Store                     2.08%    int64  \n",
       "DayOfWeek                 0.02%    int64  \n",
       "Date                      0.12%   object  \n",
       "Open                       0.0%  float64  \n",
       "Promo                      0.0%    int64  \n",
       "StateHoliday               0.0%   object  \n",
       "SchoolHoliday              0.0%    int64  "
      ]
     },
     "execution_count": 15,
     "metadata": {},
     "output_type": "execute_result"
    }
   ],
   "source": [
    "# Check for any missing values after the fix\n",
    "\n",
    "test_overview.getOverview()"
   ]
  },
  {
   "cell_type": "markdown",
   "metadata": {},
   "source": [
    "##### Check and Handle Missing Values in Store Dataset"
   ]
  },
  {
   "cell_type": "code",
   "execution_count": 16,
   "metadata": {},
   "outputs": [
    {
     "data": {
      "text/html": [
       "<div>\n",
       "<style scoped>\n",
       "    .dataframe tbody tr th:only-of-type {\n",
       "        vertical-align: middle;\n",
       "    }\n",
       "\n",
       "    .dataframe tbody tr th {\n",
       "        vertical-align: top;\n",
       "    }\n",
       "\n",
       "    .dataframe thead th {\n",
       "        text-align: right;\n",
       "    }\n",
       "</style>\n",
       "<table border=\"1\" class=\"dataframe\">\n",
       "  <thead>\n",
       "    <tr style=\"text-align: right;\">\n",
       "      <th></th>\n",
       "      <th>count</th>\n",
       "      <th>missing_count</th>\n",
       "      <th>missing_percentage</th>\n",
       "      <th>unique_value_count</th>\n",
       "      <th>unique_percentage</th>\n",
       "      <th>dtype</th>\n",
       "    </tr>\n",
       "    <tr>\n",
       "      <th>label</th>\n",
       "      <th></th>\n",
       "      <th></th>\n",
       "      <th></th>\n",
       "      <th></th>\n",
       "      <th></th>\n",
       "      <th></th>\n",
       "    </tr>\n",
       "  </thead>\n",
       "  <tbody>\n",
       "    <tr>\n",
       "      <th>Store</th>\n",
       "      <td>1115</td>\n",
       "      <td>0</td>\n",
       "      <td>0.0%</td>\n",
       "      <td>1115</td>\n",
       "      <td>100.0%</td>\n",
       "      <td>int64</td>\n",
       "    </tr>\n",
       "    <tr>\n",
       "      <th>StoreType</th>\n",
       "      <td>1115</td>\n",
       "      <td>0</td>\n",
       "      <td>0.0%</td>\n",
       "      <td>4</td>\n",
       "      <td>0.36%</td>\n",
       "      <td>object</td>\n",
       "    </tr>\n",
       "    <tr>\n",
       "      <th>Assortment</th>\n",
       "      <td>1115</td>\n",
       "      <td>0</td>\n",
       "      <td>0.0%</td>\n",
       "      <td>3</td>\n",
       "      <td>0.27%</td>\n",
       "      <td>object</td>\n",
       "    </tr>\n",
       "    <tr>\n",
       "      <th>Promo2</th>\n",
       "      <td>1115</td>\n",
       "      <td>0</td>\n",
       "      <td>0.0%</td>\n",
       "      <td>2</td>\n",
       "      <td>0.18%</td>\n",
       "      <td>int64</td>\n",
       "    </tr>\n",
       "    <tr>\n",
       "      <th>CompetitionDistance</th>\n",
       "      <td>1112</td>\n",
       "      <td>3</td>\n",
       "      <td>0.27%</td>\n",
       "      <td>654</td>\n",
       "      <td>58.65%</td>\n",
       "      <td>float64</td>\n",
       "    </tr>\n",
       "    <tr>\n",
       "      <th>CompetitionOpenSinceMonth</th>\n",
       "      <td>761</td>\n",
       "      <td>354</td>\n",
       "      <td>31.75%</td>\n",
       "      <td>12</td>\n",
       "      <td>1.08%</td>\n",
       "      <td>float64</td>\n",
       "    </tr>\n",
       "    <tr>\n",
       "      <th>CompetitionOpenSinceYear</th>\n",
       "      <td>761</td>\n",
       "      <td>354</td>\n",
       "      <td>31.75%</td>\n",
       "      <td>23</td>\n",
       "      <td>2.06%</td>\n",
       "      <td>float64</td>\n",
       "    </tr>\n",
       "    <tr>\n",
       "      <th>Promo2SinceWeek</th>\n",
       "      <td>571</td>\n",
       "      <td>544</td>\n",
       "      <td>48.79%</td>\n",
       "      <td>24</td>\n",
       "      <td>2.15%</td>\n",
       "      <td>float64</td>\n",
       "    </tr>\n",
       "    <tr>\n",
       "      <th>Promo2SinceYear</th>\n",
       "      <td>571</td>\n",
       "      <td>544</td>\n",
       "      <td>48.79%</td>\n",
       "      <td>7</td>\n",
       "      <td>0.63%</td>\n",
       "      <td>float64</td>\n",
       "    </tr>\n",
       "    <tr>\n",
       "      <th>PromoInterval</th>\n",
       "      <td>571</td>\n",
       "      <td>544</td>\n",
       "      <td>48.79%</td>\n",
       "      <td>3</td>\n",
       "      <td>0.27%</td>\n",
       "      <td>object</td>\n",
       "    </tr>\n",
       "  </tbody>\n",
       "</table>\n",
       "</div>"
      ],
      "text/plain": [
       "                           count  missing_count missing_percentage  \\\n",
       "label                                                                \n",
       "Store                       1115              0               0.0%   \n",
       "StoreType                   1115              0               0.0%   \n",
       "Assortment                  1115              0               0.0%   \n",
       "Promo2                      1115              0               0.0%   \n",
       "CompetitionDistance         1112              3              0.27%   \n",
       "CompetitionOpenSinceMonth    761            354             31.75%   \n",
       "CompetitionOpenSinceYear     761            354             31.75%   \n",
       "Promo2SinceWeek              571            544             48.79%   \n",
       "Promo2SinceYear              571            544             48.79%   \n",
       "PromoInterval                571            544             48.79%   \n",
       "\n",
       "                           unique_value_count unique_percentage    dtype  \n",
       "label                                                                     \n",
       "Store                                    1115            100.0%    int64  \n",
       "StoreType                                   4             0.36%   object  \n",
       "Assortment                                  3             0.27%   object  \n",
       "Promo2                                      2             0.18%    int64  \n",
       "CompetitionDistance                       654            58.65%  float64  \n",
       "CompetitionOpenSinceMonth                  12             1.08%  float64  \n",
       "CompetitionOpenSinceYear                   23             2.06%  float64  \n",
       "Promo2SinceWeek                            24             2.15%  float64  \n",
       "Promo2SinceYear                             7             0.63%  float64  \n",
       "PromoInterval                               3             0.27%   object  "
      ]
     },
     "execution_count": 16,
     "metadata": {},
     "output_type": "execute_result"
    }
   ],
   "source": [
    "store_overview = DfOverview(df_store)\n",
    "store_overview.getOverview()"
   ]
  },
  {
   "cell_type": "markdown",
   "metadata": {},
   "source": [
    "We have six columns with missing values. From the six, CompetitionDistance has small number of null percentage which can be handled with median. "
   ]
  },
  {
   "cell_type": "code",
   "execution_count": 17,
   "metadata": {},
   "outputs": [],
   "source": [
    "# Handle missing values in CompetitionDistance with mean or median based on the skewness\n",
    "df_store = cleaner.fill_numerical_columns(df_store, ['CompetitionDistance'])\n"
   ]
  },
  {
   "cell_type": "code",
   "execution_count": 18,
   "metadata": {},
   "outputs": [
    {
     "data": {
      "text/html": [
       "<div>\n",
       "<style scoped>\n",
       "    .dataframe tbody tr th:only-of-type {\n",
       "        vertical-align: middle;\n",
       "    }\n",
       "\n",
       "    .dataframe tbody tr th {\n",
       "        vertical-align: top;\n",
       "    }\n",
       "\n",
       "    .dataframe thead th {\n",
       "        text-align: right;\n",
       "    }\n",
       "</style>\n",
       "<table border=\"1\" class=\"dataframe\">\n",
       "  <thead>\n",
       "    <tr style=\"text-align: right;\">\n",
       "      <th></th>\n",
       "      <th>count</th>\n",
       "      <th>missing_count</th>\n",
       "      <th>missing_percentage</th>\n",
       "      <th>unique_value_count</th>\n",
       "      <th>unique_percentage</th>\n",
       "      <th>dtype</th>\n",
       "    </tr>\n",
       "    <tr>\n",
       "      <th>label</th>\n",
       "      <th></th>\n",
       "      <th></th>\n",
       "      <th></th>\n",
       "      <th></th>\n",
       "      <th></th>\n",
       "      <th></th>\n",
       "    </tr>\n",
       "  </thead>\n",
       "  <tbody>\n",
       "    <tr>\n",
       "      <th>Store</th>\n",
       "      <td>1115</td>\n",
       "      <td>0</td>\n",
       "      <td>0.0%</td>\n",
       "      <td>1115</td>\n",
       "      <td>100.0%</td>\n",
       "      <td>int64</td>\n",
       "    </tr>\n",
       "    <tr>\n",
       "      <th>StoreType</th>\n",
       "      <td>1115</td>\n",
       "      <td>0</td>\n",
       "      <td>0.0%</td>\n",
       "      <td>4</td>\n",
       "      <td>0.36%</td>\n",
       "      <td>object</td>\n",
       "    </tr>\n",
       "    <tr>\n",
       "      <th>Assortment</th>\n",
       "      <td>1115</td>\n",
       "      <td>0</td>\n",
       "      <td>0.0%</td>\n",
       "      <td>3</td>\n",
       "      <td>0.27%</td>\n",
       "      <td>object</td>\n",
       "    </tr>\n",
       "    <tr>\n",
       "      <th>CompetitionDistance</th>\n",
       "      <td>1115</td>\n",
       "      <td>0</td>\n",
       "      <td>0.0%</td>\n",
       "      <td>655</td>\n",
       "      <td>58.74%</td>\n",
       "      <td>float64</td>\n",
       "    </tr>\n",
       "    <tr>\n",
       "      <th>Promo2</th>\n",
       "      <td>1115</td>\n",
       "      <td>0</td>\n",
       "      <td>0.0%</td>\n",
       "      <td>2</td>\n",
       "      <td>0.18%</td>\n",
       "      <td>int64</td>\n",
       "    </tr>\n",
       "    <tr>\n",
       "      <th>CompetitionOpenSinceMonth</th>\n",
       "      <td>761</td>\n",
       "      <td>354</td>\n",
       "      <td>31.75%</td>\n",
       "      <td>12</td>\n",
       "      <td>1.08%</td>\n",
       "      <td>float64</td>\n",
       "    </tr>\n",
       "    <tr>\n",
       "      <th>CompetitionOpenSinceYear</th>\n",
       "      <td>761</td>\n",
       "      <td>354</td>\n",
       "      <td>31.75%</td>\n",
       "      <td>23</td>\n",
       "      <td>2.06%</td>\n",
       "      <td>float64</td>\n",
       "    </tr>\n",
       "    <tr>\n",
       "      <th>Promo2SinceWeek</th>\n",
       "      <td>571</td>\n",
       "      <td>544</td>\n",
       "      <td>48.79%</td>\n",
       "      <td>24</td>\n",
       "      <td>2.15%</td>\n",
       "      <td>float64</td>\n",
       "    </tr>\n",
       "    <tr>\n",
       "      <th>Promo2SinceYear</th>\n",
       "      <td>571</td>\n",
       "      <td>544</td>\n",
       "      <td>48.79%</td>\n",
       "      <td>7</td>\n",
       "      <td>0.63%</td>\n",
       "      <td>float64</td>\n",
       "    </tr>\n",
       "    <tr>\n",
       "      <th>PromoInterval</th>\n",
       "      <td>571</td>\n",
       "      <td>544</td>\n",
       "      <td>48.79%</td>\n",
       "      <td>3</td>\n",
       "      <td>0.27%</td>\n",
       "      <td>object</td>\n",
       "    </tr>\n",
       "  </tbody>\n",
       "</table>\n",
       "</div>"
      ],
      "text/plain": [
       "                           count  missing_count missing_percentage  \\\n",
       "label                                                                \n",
       "Store                       1115              0               0.0%   \n",
       "StoreType                   1115              0               0.0%   \n",
       "Assortment                  1115              0               0.0%   \n",
       "CompetitionDistance         1115              0               0.0%   \n",
       "Promo2                      1115              0               0.0%   \n",
       "CompetitionOpenSinceMonth    761            354             31.75%   \n",
       "CompetitionOpenSinceYear     761            354             31.75%   \n",
       "Promo2SinceWeek              571            544             48.79%   \n",
       "Promo2SinceYear              571            544             48.79%   \n",
       "PromoInterval                571            544             48.79%   \n",
       "\n",
       "                           unique_value_count unique_percentage    dtype  \n",
       "label                                                                     \n",
       "Store                                    1115            100.0%    int64  \n",
       "StoreType                                   4             0.36%   object  \n",
       "Assortment                                  3             0.27%   object  \n",
       "CompetitionDistance                       655            58.74%  float64  \n",
       "Promo2                                      2             0.18%    int64  \n",
       "CompetitionOpenSinceMonth                  12             1.08%  float64  \n",
       "CompetitionOpenSinceYear                   23             2.06%  float64  \n",
       "Promo2SinceWeek                            24             2.15%  float64  \n",
       "Promo2SinceYear                             7             0.63%  float64  \n",
       "PromoInterval                               3             0.27%   object  "
      ]
     },
     "execution_count": 18,
     "metadata": {},
     "output_type": "execute_result"
    }
   ],
   "source": [
    "store_overview.getOverview()"
   ]
  },
  {
   "cell_type": "markdown",
   "metadata": {},
   "source": [
    "Let us check for numberical columns with missig values"
   ]
  },
  {
   "cell_type": "code",
   "execution_count": 19,
   "metadata": {},
   "outputs": [
    {
     "name": "stdout",
     "output_type": "stream",
     "text": [
      "[ 1.  2.  3.  4.  5.  6.  7.  8.  9. 10. 11. 12. nan]\n",
      "[1900. 1961. 1990. 1994. 1995. 1998. 1999. 2000. 2001. 2002. 2003. 2004.\n",
      " 2005. 2006. 2007. 2008. 2009. 2010. 2011. 2012. 2013. 2014. 2015.   nan]\n",
      "[ 1.  5.  6.  9. 10. 13. 14. 18. 22. 23. 26. 27. 28. 31. 35. 36. 37. 39.\n",
      " 40. 44. 45. 48. 49. 50. nan]\n",
      "[2009. 2010. 2011. 2012. 2013. 2014. 2015.   nan]\n"
     ]
    }
   ],
   "source": [
    "print(np.sort(df_store['CompetitionOpenSinceMonth'].unique()))\n",
    "print(np.sort(df_store['CompetitionOpenSinceYear'].unique()))\n",
    "print(np.sort(df_store['Promo2SinceWeek'].unique()))\n",
    "print(np.sort(df_store['Promo2SinceYear'].unique()))"
   ]
  },
  {
   "cell_type": "markdown",
   "metadata": {},
   "source": [
    "##### Assumptions\n",
    "- The `CompetitionOpenSinceMonth` missing values are due to those compititors are already available before Pharmaceutical starts, since we have no information in which month it starts, let's just fill it with the 1st month\n",
    "- The dataset value `CompetitionOpenSinceYear` column holds ranged from 1900 - 2015. Let us assume the compititors are preexisted before, and let us fill the missing values with the initial year (1990)\n",
    "- Fill missing Promo2SinceWeek column with 0\n",
    "- Fill missing Promo2SinceYear column with 0"
   ]
  },
  {
   "cell_type": "code",
   "execution_count": 20,
   "metadata": {},
   "outputs": [
    {
     "data": {
      "text/plain": [
       "[nan, 'Jan,Apr,Jul,Oct', 'Feb,May,Aug,Nov', 'Mar,Jun,Sept,Dec']"
      ]
     },
     "execution_count": 20,
     "metadata": {},
     "output_type": "execute_result"
    }
   ],
   "source": [
    "df_store['PromoInterval'].unique().tolist()"
   ]
  },
  {
   "cell_type": "code",
   "execution_count": 21,
   "metadata": {},
   "outputs": [],
   "source": [
    "df_store['CompetitionOpenSinceMonth'] = df_store['CompetitionOpenSinceMonth'].fillna(1)\n",
    "df_store['CompetitionOpenSinceYear'] = df_store['CompetitionOpenSinceYear'].fillna(1990)\n",
    "df_store['Promo2SinceWeek'] = df_store['Promo2SinceWeek'].fillna(0)\n",
    "df_store['Promo2SinceYear'] = df_store['CompetitionOpenSinceYear'].fillna(0)"
   ]
  },
  {
   "cell_type": "code",
   "execution_count": 22,
   "metadata": {},
   "outputs": [],
   "source": [
    "# Replace the PromoInterval missing values with 0\n",
    "\n",
    "df_store['PromoInterval'] = df_store['PromoInterval'].fillna(0)"
   ]
  },
  {
   "cell_type": "code",
   "execution_count": 23,
   "metadata": {},
   "outputs": [],
   "source": [
    "df_store.loc[df_store['PromoInterval'] == 'Jan,Apr,Jul,Oct', 'PromoInterval'] = 1\n",
    "df_store.loc[df_store['PromoInterval'] == 'Feb,May,Aug,Nov', 'PromoInterval'] = 2\n",
    "df_store.loc[df_store['PromoInterval'] == 'Mar,Jun,Sept,Dec', 'PromoInterval'] = 3\n"
   ]
  },
  {
   "cell_type": "code",
   "execution_count": 24,
   "metadata": {},
   "outputs": [
    {
     "data": {
      "text/plain": [
       "[0, 1, 2, 3]"
      ]
     },
     "execution_count": 24,
     "metadata": {},
     "output_type": "execute_result"
    }
   ],
   "source": [
    "df_store['PromoInterval'].unique().tolist()"
   ]
  },
  {
   "cell_type": "code",
   "execution_count": 25,
   "metadata": {},
   "outputs": [
    {
     "data": {
      "text/html": [
       "<div>\n",
       "<style scoped>\n",
       "    .dataframe tbody tr th:only-of-type {\n",
       "        vertical-align: middle;\n",
       "    }\n",
       "\n",
       "    .dataframe tbody tr th {\n",
       "        vertical-align: top;\n",
       "    }\n",
       "\n",
       "    .dataframe thead th {\n",
       "        text-align: right;\n",
       "    }\n",
       "</style>\n",
       "<table border=\"1\" class=\"dataframe\">\n",
       "  <thead>\n",
       "    <tr style=\"text-align: right;\">\n",
       "      <th></th>\n",
       "      <th>count</th>\n",
       "      <th>missing_count</th>\n",
       "      <th>missing_percentage</th>\n",
       "      <th>unique_value_count</th>\n",
       "      <th>unique_percentage</th>\n",
       "      <th>dtype</th>\n",
       "    </tr>\n",
       "    <tr>\n",
       "      <th>label</th>\n",
       "      <th></th>\n",
       "      <th></th>\n",
       "      <th></th>\n",
       "      <th></th>\n",
       "      <th></th>\n",
       "      <th></th>\n",
       "    </tr>\n",
       "  </thead>\n",
       "  <tbody>\n",
       "    <tr>\n",
       "      <th>Store</th>\n",
       "      <td>1115</td>\n",
       "      <td>0</td>\n",
       "      <td>0.0%</td>\n",
       "      <td>1115</td>\n",
       "      <td>100.0%</td>\n",
       "      <td>int64</td>\n",
       "    </tr>\n",
       "    <tr>\n",
       "      <th>StoreType</th>\n",
       "      <td>1115</td>\n",
       "      <td>0</td>\n",
       "      <td>0.0%</td>\n",
       "      <td>4</td>\n",
       "      <td>0.36%</td>\n",
       "      <td>object</td>\n",
       "    </tr>\n",
       "    <tr>\n",
       "      <th>Assortment</th>\n",
       "      <td>1115</td>\n",
       "      <td>0</td>\n",
       "      <td>0.0%</td>\n",
       "      <td>3</td>\n",
       "      <td>0.27%</td>\n",
       "      <td>object</td>\n",
       "    </tr>\n",
       "    <tr>\n",
       "      <th>CompetitionDistance</th>\n",
       "      <td>1115</td>\n",
       "      <td>0</td>\n",
       "      <td>0.0%</td>\n",
       "      <td>655</td>\n",
       "      <td>58.74%</td>\n",
       "      <td>float64</td>\n",
       "    </tr>\n",
       "    <tr>\n",
       "      <th>CompetitionOpenSinceMonth</th>\n",
       "      <td>1115</td>\n",
       "      <td>0</td>\n",
       "      <td>0.0%</td>\n",
       "      <td>12</td>\n",
       "      <td>1.08%</td>\n",
       "      <td>float64</td>\n",
       "    </tr>\n",
       "    <tr>\n",
       "      <th>CompetitionOpenSinceYear</th>\n",
       "      <td>1115</td>\n",
       "      <td>0</td>\n",
       "      <td>0.0%</td>\n",
       "      <td>23</td>\n",
       "      <td>2.06%</td>\n",
       "      <td>float64</td>\n",
       "    </tr>\n",
       "    <tr>\n",
       "      <th>Promo2</th>\n",
       "      <td>1115</td>\n",
       "      <td>0</td>\n",
       "      <td>0.0%</td>\n",
       "      <td>2</td>\n",
       "      <td>0.18%</td>\n",
       "      <td>int64</td>\n",
       "    </tr>\n",
       "    <tr>\n",
       "      <th>Promo2SinceWeek</th>\n",
       "      <td>1115</td>\n",
       "      <td>0</td>\n",
       "      <td>0.0%</td>\n",
       "      <td>25</td>\n",
       "      <td>2.24%</td>\n",
       "      <td>float64</td>\n",
       "    </tr>\n",
       "    <tr>\n",
       "      <th>Promo2SinceYear</th>\n",
       "      <td>1115</td>\n",
       "      <td>0</td>\n",
       "      <td>0.0%</td>\n",
       "      <td>23</td>\n",
       "      <td>2.06%</td>\n",
       "      <td>float64</td>\n",
       "    </tr>\n",
       "    <tr>\n",
       "      <th>PromoInterval</th>\n",
       "      <td>1115</td>\n",
       "      <td>0</td>\n",
       "      <td>0.0%</td>\n",
       "      <td>4</td>\n",
       "      <td>0.36%</td>\n",
       "      <td>object</td>\n",
       "    </tr>\n",
       "  </tbody>\n",
       "</table>\n",
       "</div>"
      ],
      "text/plain": [
       "                           count  missing_count missing_percentage  \\\n",
       "label                                                                \n",
       "Store                       1115              0               0.0%   \n",
       "StoreType                   1115              0               0.0%   \n",
       "Assortment                  1115              0               0.0%   \n",
       "CompetitionDistance         1115              0               0.0%   \n",
       "CompetitionOpenSinceMonth   1115              0               0.0%   \n",
       "CompetitionOpenSinceYear    1115              0               0.0%   \n",
       "Promo2                      1115              0               0.0%   \n",
       "Promo2SinceWeek             1115              0               0.0%   \n",
       "Promo2SinceYear             1115              0               0.0%   \n",
       "PromoInterval               1115              0               0.0%   \n",
       "\n",
       "                           unique_value_count unique_percentage    dtype  \n",
       "label                                                                     \n",
       "Store                                    1115            100.0%    int64  \n",
       "StoreType                                   4             0.36%   object  \n",
       "Assortment                                  3             0.27%   object  \n",
       "CompetitionDistance                       655            58.74%  float64  \n",
       "CompetitionOpenSinceMonth                  12             1.08%  float64  \n",
       "CompetitionOpenSinceYear                   23             2.06%  float64  \n",
       "Promo2                                      2             0.18%    int64  \n",
       "Promo2SinceWeek                            25             2.24%  float64  \n",
       "Promo2SinceYear                            23             2.06%  float64  \n",
       "PromoInterval                               4             0.36%   object  "
      ]
     },
     "execution_count": 25,
     "metadata": {},
     "output_type": "execute_result"
    }
   ],
   "source": [
    "store_overview = DfOverview(df_store)\n",
    "store_overview.getOverview()"
   ]
  },
  {
   "cell_type": "markdown",
   "metadata": {},
   "source": [
    "Let us split the four PromoInterval values to independent columns and remove the PromoInterval column"
   ]
  },
  {
   "cell_type": "code",
   "execution_count": 26,
   "metadata": {},
   "outputs": [
    {
     "data": {
      "text/plain": [
       "array([0, 1, 2, 3], dtype=object)"
      ]
     },
     "execution_count": 26,
     "metadata": {},
     "output_type": "execute_result"
    }
   ],
   "source": [
    "df_store['PromoInterval'].unique()"
   ]
  },
  {
   "cell_type": "code",
   "execution_count": 27,
   "metadata": {},
   "outputs": [
    {
     "data": {
      "text/plain": [
       "Index(['Store', 'StoreType', 'Assortment', 'CompetitionDistance',\n",
       "       'CompetitionOpenSinceMonth', 'CompetitionOpenSinceYear', 'Promo2',\n",
       "       'Promo2SinceWeek', 'Promo2SinceYear', 'PromoInterval'],\n",
       "      dtype='object')"
      ]
     },
     "execution_count": 27,
     "metadata": {},
     "output_type": "execute_result"
    }
   ],
   "source": [
    "df_store.columns"
   ]
  },
  {
   "cell_type": "markdown",
   "metadata": {},
   "source": [
    "### Outlier Treatment\n",
    "We will try to fix possible columns outliers which have non unique values. Columns with fewer unique values are not possibly challenged with outliers. "
   ]
  },
  {
   "cell_type": "code",
   "execution_count": 28,
   "metadata": {},
   "outputs": [
    {
     "data": {
      "text/plain": [
       "Index(['Store', 'DayOfWeek', 'Date', 'Sales', 'Customers', 'Open', 'Promo',\n",
       "       'StateHoliday', 'SchoolHoliday'],\n",
       "      dtype='object')"
      ]
     },
     "execution_count": 28,
     "metadata": {},
     "output_type": "execute_result"
    }
   ],
   "source": [
    "df_train.columns"
   ]
  },
  {
   "cell_type": "markdown",
   "metadata": {},
   "source": [
    "Let us check for `Sales` and `Customers` columns, the others have fewer unique values"
   ]
  },
  {
   "cell_type": "code",
   "execution_count": 29,
   "metadata": {},
   "outputs": [
    {
     "data": {
      "text/html": [
       "<div>\n",
       "<style scoped>\n",
       "    .dataframe tbody tr th:only-of-type {\n",
       "        vertical-align: middle;\n",
       "    }\n",
       "\n",
       "    .dataframe tbody tr th {\n",
       "        vertical-align: top;\n",
       "    }\n",
       "\n",
       "    .dataframe thead th {\n",
       "        text-align: right;\n",
       "    }\n",
       "</style>\n",
       "<table border=\"1\" class=\"dataframe\">\n",
       "  <thead>\n",
       "    <tr style=\"text-align: right;\">\n",
       "      <th></th>\n",
       "      <th>number_of_outliers</th>\n",
       "      <th>percentage_of_outliers</th>\n",
       "      <th>skew</th>\n",
       "      <th>Q1</th>\n",
       "      <th>Median</th>\n",
       "      <th>Q3</th>\n",
       "    </tr>\n",
       "    <tr>\n",
       "      <th>label</th>\n",
       "      <th></th>\n",
       "      <th></th>\n",
       "      <th></th>\n",
       "      <th></th>\n",
       "      <th></th>\n",
       "      <th></th>\n",
       "    </tr>\n",
       "  </thead>\n",
       "  <tbody>\n",
       "    <tr>\n",
       "      <th>Sales</th>\n",
       "      <td>26694</td>\n",
       "      <td>2.62%</td>\n",
       "      <td>0.641</td>\n",
       "      <td>3727.000</td>\n",
       "      <td>5744.000</td>\n",
       "      <td>7856.000</td>\n",
       "    </tr>\n",
       "    <tr>\n",
       "      <th>Customers</th>\n",
       "      <td>38095</td>\n",
       "      <td>3.75%</td>\n",
       "      <td>1.599</td>\n",
       "      <td>405.000</td>\n",
       "      <td>609.000</td>\n",
       "      <td>837.000</td>\n",
       "    </tr>\n",
       "  </tbody>\n",
       "</table>\n",
       "</div>"
      ],
      "text/plain": [
       "           number_of_outliers percentage_of_outliers  skew       Q1   Median  \\\n",
       "label                                                                          \n",
       "Sales                   26694                  2.62% 0.641 3727.000 5744.000   \n",
       "Customers               38095                  3.75% 1.599  405.000  609.000   \n",
       "\n",
       "                Q3  \n",
       "label               \n",
       "Sales     7856.000  \n",
       "Customers  837.000  "
      ]
     },
     "execution_count": 29,
     "metadata": {},
     "output_type": "execute_result"
    }
   ],
   "source": [
    "columns = ['Sales', 'Customers']\n",
    "df_outliers = DfOutlier(df_train[columns].copy())\n",
    "df_outliers.getOverview()"
   ]
  },
  {
   "cell_type": "code",
   "execution_count": 30,
   "metadata": {},
   "outputs": [
    {
     "data": {
      "image/png": "[encoded data removed]",
      "text/plain": [
       "<Figure size 720x360 with 1 Axes>"
      ]
     },
     "metadata": {
      "needs_background": "light"
     },
     "output_type": "display_data"
    },
    {
     "data": {
      "image/png": "[encoded data removed]",
      "text/plain": [
       "<Figure size 720x360 with 1 Axes>"
      ]
     },
     "metadata": {
      "needs_background": "light"
     },
     "output_type": "display_data"
    }
   ],
   "source": [
    "plot.box_plot(df_train, df_train['Sales'], \"Sales Outlier Graph\") \n",
    "plot.box_plot(df_train, df_train['Customers'], \"Customers Outlier Graph\")"
   ]
  },
  {
   "cell_type": "markdown",
   "metadata": {},
   "source": [
    "Remove outliers of Sales and Customers columns"
   ]
  },
  {
   "cell_type": "code",
   "execution_count": 31,
   "metadata": {},
   "outputs": [],
   "source": [
    "df_outliers = DfOutlier(df_train)\n",
    "df_outliers.replace_outliers_with_iqr(['Sales', 'Customers'])"
   ]
  },
  {
   "cell_type": "code",
   "execution_count": 32,
   "metadata": {},
   "outputs": [
    {
     "data": {
      "image/png": "[encoded data removed]",
      "text/plain": [
       "<Figure size 720x360 with 1 Axes>"
      ]
     },
     "metadata": {
      "needs_background": "light"
     },
     "output_type": "display_data"
    },
    {
     "data": {
      "image/png": "[encoded data removed]",
      "text/plain": [
       "<Figure size 720x360 with 1 Axes>"
      ]
     },
     "metadata": {
      "needs_background": "light"
     },
     "output_type": "display_data"
    }
   ],
   "source": [
    "plot.box_plot(df_train, df_train['Sales'], \"Sales Outlier Fixed Graph\") \n",
    "plot.box_plot(df_train, df_train['Customers'], \"Customers Outlier Fixed Graph\")"
   ]
  },
  {
   "cell_type": "code",
   "execution_count": 33,
   "metadata": {},
   "outputs": [
    {
     "data": {
      "text/html": [
       "<div>\n",
       "<style scoped>\n",
       "    .dataframe tbody tr th:only-of-type {\n",
       "        vertical-align: middle;\n",
       "    }\n",
       "\n",
       "    .dataframe tbody tr th {\n",
       "        vertical-align: top;\n",
       "    }\n",
       "\n",
       "    .dataframe thead th {\n",
       "        text-align: right;\n",
       "    }\n",
       "</style>\n",
       "<table border=\"1\" class=\"dataframe\">\n",
       "  <thead>\n",
       "    <tr style=\"text-align: right;\">\n",
       "      <th></th>\n",
       "      <th>number_of_outliers</th>\n",
       "      <th>percentage_of_outliers</th>\n",
       "      <th>skew</th>\n",
       "      <th>Q1</th>\n",
       "      <th>Median</th>\n",
       "      <th>Q3</th>\n",
       "    </tr>\n",
       "    <tr>\n",
       "      <th>label</th>\n",
       "      <th></th>\n",
       "      <th></th>\n",
       "      <th></th>\n",
       "      <th></th>\n",
       "      <th></th>\n",
       "      <th></th>\n",
       "    </tr>\n",
       "  </thead>\n",
       "  <tbody>\n",
       "    <tr>\n",
       "      <th>CompetitionDistance</th>\n",
       "      <td>108</td>\n",
       "      <td>9.69%</td>\n",
       "      <td>2.934</td>\n",
       "      <td>720.000</td>\n",
       "      <td>2325.000</td>\n",
       "      <td>6875.000</td>\n",
       "    </tr>\n",
       "  </tbody>\n",
       "</table>\n",
       "</div>"
      ],
      "text/plain": [
       "                     number_of_outliers percentage_of_outliers  skew      Q1  \\\n",
       "label                                                                          \n",
       "CompetitionDistance                 108                  9.69% 2.934 720.000   \n",
       "\n",
       "                      Median       Q3  \n",
       "label                                  \n",
       "CompetitionDistance 2325.000 6875.000  "
      ]
     },
     "execution_count": 33,
     "metadata": {},
     "output_type": "execute_result"
    }
   ],
   "source": [
    "df_outliers = DfOutlier(df_store[['CompetitionDistance']].copy())\n",
    "df_outliers.getOverview()"
   ]
  },
  {
   "cell_type": "code",
   "execution_count": 34,
   "metadata": {},
   "outputs": [
    {
     "data": {
      "image/png": "[encoded data removed]",
      "text/plain": [
       "<Figure size 720x360 with 1 Axes>"
      ]
     },
     "metadata": {
      "needs_background": "light"
     },
     "output_type": "display_data"
    }
   ],
   "source": [
    "plot.box_plot(df_store, df_store['CompetitionDistance'], \"Competition Distance Outlier Graph\") "
   ]
  },
  {
   "cell_type": "code",
   "execution_count": 35,
   "metadata": {},
   "outputs": [
    {
     "data": {
      "image/png": "[encoded data removed]",
      "text/plain": [
       "<Figure size 720x360 with 1 Axes>"
      ]
     },
     "metadata": {
      "needs_background": "light"
     },
     "output_type": "display_data"
    }
   ],
   "source": [
    "df_outliers = DfOutlier(df_store)\n",
    "df_outliers.replace_outliers_with_iqr(['CompetitionDistance'])\n",
    "plot.box_plot(df_store, df_store['CompetitionDistance'], \"Competition Distance Outlier Fixed Graph\") "
   ]
  },
  {
   "cell_type": "markdown",
   "metadata": {},
   "source": [
    "#### Fix Data Types"
   ]
  },
  {
   "cell_type": "code",
   "execution_count": 36,
   "metadata": {},
   "outputs": [],
   "source": [
    "# Set Date data type to DateTime\n",
    "\n",
    "df_train = cleaner.convert_to_datetime(df_train, ['Date'])\n",
    "df_test = cleaner.convert_to_datetime(df_test, ['Date'])"
   ]
  },
  {
   "cell_type": "markdown",
   "metadata": {},
   "source": [
    "Check for unique values in each columns"
   ]
  },
  {
   "cell_type": "code",
   "execution_count": 37,
   "metadata": {},
   "outputs": [
    {
     "data": {
      "text/plain": [
       "Store             1115\n",
       "DayOfWeek            7\n",
       "Date               942\n",
       "Sales            13195\n",
       "Customers         1424\n",
       "Open                 2\n",
       "Promo                2\n",
       "StateHoliday         5\n",
       "SchoolHoliday        2\n",
       "dtype: int64"
      ]
     },
     "execution_count": 37,
     "metadata": {},
     "output_type": "execute_result"
    }
   ],
   "source": [
    "no_uniqueValues = df_train.nunique(dropna=False)\n",
    "no_uniqueValues"
   ]
  },
  {
   "cell_type": "code",
   "execution_count": 38,
   "metadata": {},
   "outputs": [
    {
     "name": "stdout",
     "output_type": "stream",
     "text": [
      "[5 4 3 2 1 7 6]\n",
      "['0' 'a' 'b' 'c' 0]\n"
     ]
    }
   ],
   "source": [
    "print(df_train['DayOfWeek'].unique())\n",
    "print(df_train['StateHoliday'].unique())\n"
   ]
  },
  {
   "cell_type": "code",
   "execution_count": 39,
   "metadata": {},
   "outputs": [
    {
     "data": {
      "text/plain": [
       "array(['0', 'a', 'b', 'c'], dtype=object)"
      ]
     },
     "execution_count": 39,
     "metadata": {},
     "output_type": "execute_result"
    }
   ],
   "source": [
    "# Convert 0 in StateHoliday to string\n",
    "df_train[\"StateHoliday\"].loc[df_train[\"StateHoliday\"] == 0] = \"0\" \n",
    "df_train['StateHoliday'].unique()"
   ]
  },
  {
   "cell_type": "code",
   "execution_count": 40,
   "metadata": {},
   "outputs": [],
   "source": [
    "chars = [\"0\", \"a\", \"b\", \"c\"]\n",
    "df_train['StateHoliday'] = df_train['StateHoliday'].apply(lambda x: chars.index(x))\n",
    "df_test['StateHoliday'] = df_test['StateHoliday'].apply(lambda x: chars.index(x))"
   ]
  },
  {
   "cell_type": "code",
   "execution_count": 41,
   "metadata": {},
   "outputs": [
    {
     "data": {
      "text/plain": [
       "Store                        1115\n",
       "StoreType                       4\n",
       "Assortment                      3\n",
       "CompetitionDistance           556\n",
       "CompetitionOpenSinceMonth      12\n",
       "CompetitionOpenSinceYear       23\n",
       "Promo2                          2\n",
       "Promo2SinceWeek                25\n",
       "Promo2SinceYear                23\n",
       "PromoInterval                   4\n",
       "dtype: int64"
      ]
     },
     "execution_count": 41,
     "metadata": {},
     "output_type": "execute_result"
    }
   ],
   "source": [
    "no_uniqueValues = df_store.nunique(dropna=False)\n",
    "no_uniqueValues"
   ]
  },
  {
   "cell_type": "code",
   "execution_count": 42,
   "metadata": {},
   "outputs": [
    {
     "name": "stdout",
     "output_type": "stream",
     "text": [
      "['c' 'a' 'd' 'b']\n",
      "['a' 'c' 'b']\n"
     ]
    }
   ],
   "source": [
    "print(df_store['StoreType'].unique())\n",
    "print(df_store['Assortment'].unique() )"
   ]
  },
  {
   "cell_type": "code",
   "execution_count": 43,
   "metadata": {},
   "outputs": [],
   "source": [
    "# Convert store name characters to numbers\n",
    "\n",
    "chars = [\"a\", \"b\", \"c\", \"d\"]\n",
    "df_store['StoreType'] = df_store['StoreType'].apply(lambda x: chars.index(x))\n",
    "df_store['Assortment'] = df_store['Assortment'].apply(lambda x: chars.index(x))"
   ]
  },
  {
   "cell_type": "markdown",
   "metadata": {},
   "source": [
    "Convert Discret Values to Numbers"
   ]
  },
  {
   "cell_type": "code",
   "execution_count": 44,
   "metadata": {},
   "outputs": [],
   "source": [
    "df_store = cleaner.convert_to_integer(df_store, ['StoreType', 'Assortment', 'CompetitionDistance', 'CompetitionOpenSinceMonth', 'CompetitionOpenSinceYear', 'Promo2SinceWeek', 'Promo2SinceYear'])\n",
    "df_train = cleaner.convert_to_integer(df_train, ['StateHoliday', 'SchoolHoliday', 'Customers', 'Sales', 'Open'])\n",
    "df_test = cleaner.convert_to_integer(df_test, ['StateHoliday', 'SchoolHoliday', 'Open'])\n"
   ]
  },
  {
   "cell_type": "markdown",
   "metadata": {},
   "source": [
    "#### Save the Cleaned Datasets"
   ]
  },
  {
   "cell_type": "code",
   "execution_count": 45,
   "metadata": {},
   "outputs": [
    {
     "name": "stdout",
     "output_type": "stream",
     "text": [
      "2022-09-09 14:05:31,445 — FileHandler — INFO — file saved as csv\n",
      "2022-09-09 14:05:45,062 — FileHandler — INFO — file saved as csv\n",
      "2022-09-09 14:05:45,674 — FileHandler — INFO — file saved as csv\n"
     ]
    }
   ],
   "source": [
    "file_handler.save_csv(df_store, '../data/cleaned_store.csv')\n",
    "file_handler.save_csv(df_train, '../data/cleaned_train.csv')\n",
    "file_handler.save_csv(df_test, '../data/cleaned_test.csv')\n"
   ]
  },
  {
   "cell_type": "code",
   "execution_count": null,
   "metadata": {},
   "outputs": [],
   "source": []
  }
 ],
 "metadata": {
  "interpreter": {
   "hash": "0f08ea943be090a14eff5269cda570ac55dcc0e2bd93317a14b7d7e20047a087"
  },
  "kernelspec": {
   "display_name": "Python 3 (ipykernel)",
   "language": "python",
   "name": "python3"
  },
  "language_info": {
   "codemirror_mode": {
    "name": "ipython",
    "version": 3
   },
   "file_extension": ".py",
   "mimetype": "text/x-python",
   "name": "python",
   "nbconvert_exporter": "python",
   "pygments_lexer": "ipython3",
   "version": "3.9.12"
  }
 },
 "nbformat": 4,
 "nbformat_minor": 2
}
