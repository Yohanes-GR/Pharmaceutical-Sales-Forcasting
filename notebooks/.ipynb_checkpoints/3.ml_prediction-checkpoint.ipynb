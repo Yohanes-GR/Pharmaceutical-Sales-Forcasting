{
 "cells": [
  {
   "cell_type": "code",
   "execution_count": 1,
   "metadata": {},
   "outputs": [],
   "source": [
    "\n",
    "import pickle\n",
    "import mlflow\n",
    "import numpy as np\n",
    "import pandas as pd\n",
    "import seaborn as sns\n",
    "from sklearn import preprocessing\n",
    "from sklearn.model_selection import train_test_split \n",
    "from sklearn.ensemble import RandomForestRegressor\n",
    "from sklearn.preprocessing import MinMaxScaler \n",
    "from sklearn.metrics import mean_absolute_error\n",
    "from lightgbm import LGBMRegressor\n",
    "from time import gmtime, strftime\n",
    "import matplotlib.pyplot as plt\n",
    "\n",
    "import os, sys\n",
    "import warnings\n",
    "warnings.simplefilter(action='ignore', category=FutureWarning)\n",
    "pd.set_option('display.float_format', lambda x: '%.3f' % x)\n",
    "pd.options.mode.chained_assignment = None  # default='warn'\n",
    "plt.rcParams[\"figure.figsize\"] = (12, 7)\n",
    "pd.set_option('display.max_columns', None)\n",
    "\n",
    "sns.set_style(\"darkgrid\")\n",
    "%matplotlib inline"
   ]
  },
  {
   "cell_type": "code",
   "execution_count": 2,
   "metadata": {},
   "outputs": [],
   "source": [
    "sys.path.append(os.path.abspath(os.path.join('../scripts')))\n",
    "from file_handler import FileHandler\n",
    "from log import get_logger\n",
    "\n",
    "file_handler = FileHandler() \n",
    "my_logger = get_logger(\"Prediction\")\n",
    "\n",
    "import warnings\n",
    "warnings.filterwarnings('ignore')"
   ]
  },
  {
   "cell_type": "code",
   "execution_count": 3,
   "metadata": {},
   "outputs": [
    {
     "name": "stdout",
     "output_type": "stream",
     "text": [
      "2022-09-09 23:40:48,882 — FileHandler — DEBUG — file read as csv\n",
      "2022-09-09 23:40:49,072 — FileHandler — DEBUG — file read as csv\n"
     ]
    }
   ],
   "source": [
    "train_data = file_handler.read_csv(\"../data/cleaned_train.csv\")\n",
    "test_data = file_handler.read_csv(\"../data/cleaned_test.csv\")"
   ]
  },
  {
   "cell_type": "markdown",
   "metadata": {},
   "source": [
    "##### Label Encode Date"
   ]
  },
  {
   "cell_type": "code",
   "execution_count": 4,
   "metadata": {},
   "outputs": [
    {
     "name": "stdout",
     "output_type": "stream",
     "text": [
      "2022-09-09 23:40:56,979 — Prediction — DEBUG — Date is encoded successfully.\n"
     ]
    }
   ],
   "source": [
    "try:\n",
    "    # Train with only by the opened stores and Sales greater than zero.\n",
    "    \n",
    "    train_data = train_data[train_data['Open'] == 1]\n",
    "    train_data = train_data[train_data['Sales'] > 0.0]\n",
    "\n",
    "    # Label encode Date in both training and testing datasets\n",
    "    for dataset in (train_data, test_data):\n",
    "        encoder = preprocessing.LabelEncoder()\n",
    "        dataset['Date'] = encoder.fit_transform(dataset['Date'])\n",
    "\n",
    "    my_logger.debug(\"Date is encoded successfully.\")\n",
    "            \n",
    "except Exception as e:\n",
    "    my_logger.exception(f'Exception occured in Date encoding!, {e}')\n"
   ]
  },
  {
   "cell_type": "markdown",
   "metadata": {},
   "source": [
    "#### Scaling the Data"
   ]
  },
  {
   "cell_type": "code",
   "execution_count": 5,
   "metadata": {},
   "outputs": [
    {
     "name": "stdout",
     "output_type": "stream",
     "text": [
      "2022-09-09 23:41:05,413 — Prediction — DEBUG — Data is Normalized successfully.\n"
     ]
    }
   ],
   "source": [
    "scaler = MinMaxScaler()\n",
    "\n",
    "trainining_columns = ['Store', 'DayOfWeek', 'Date', 'Sales', 'Customers', 'Open', 'Promo', 'StateHoliday', 'SchoolHoliday', 'StoreType',\\\n",
    "                    'Assortment', 'CompetitionDistance', 'CompetitionOpenSinceMonth', 'CompetitionOpenSinceYear', 'Promo2',\\\n",
    "                    'Promo2SinceWeek','Promo2SinceYear', 'PromoInterval', 'Day', 'Month', 'Year', 'DayOfYear', 'WeekOfYear']\n",
    "\n",
    "testing_columns = ['Store', 'DayOfWeek', 'Date', 'Open', 'Promo', 'StateHoliday','SchoolHoliday', 'StoreType', 'Assortment',\\\n",
    "                  'CompetitionDistance','CompetitionOpenSinceMonth', 'CompetitionOpenSinceYear', 'Promo2', 'Promo2SinceWeek', \\\n",
    "                  'Promo2SinceYear', 'PromoInterval', 'Day', 'Month', 'Year', 'DayOfYear', 'WeekOfYear']\n",
    "\n",
    "temp_train_data = train_data.copy()\n",
    "temp_test_data = test_data.copy()   \n",
    "\n",
    "try:\n",
    "    for i in trainining_columns:\n",
    "    \n",
    "        # fit on training data column\n",
    "        scale = scaler.fit(temp_train_data[[i]])\n",
    "        \n",
    "        # transform the training data column\n",
    "        temp_train_data[i] = scale.transform(temp_train_data[[i]])\n",
    "    \n",
    "    for i in testing_columns:\n",
    "    \n",
    "        # fit on training data column\n",
    "        scale = scaler.fit(temp_test_data[[i]])\n",
    "        \n",
    "        # transform the training data column\n",
    "        temp_test_data[i] = scale.transform(temp_test_data[[i]]) \n",
    "    \n",
    "    my_logger.debug(\"Data is Normalized successfully.\")\n",
    "    \n",
    "except Exception as e:\n",
    "    my_logger.debug(f\"Exception occured while Normalizing the dataset, {e}\")"
   ]
  },
  {
   "cell_type": "code",
   "execution_count": 6,
   "metadata": {},
   "outputs": [
    {
     "data": {
      "text/html": [
       "<div>\n",
       "<style scoped>\n",
       "    .dataframe tbody tr th:only-of-type {\n",
       "        vertical-align: middle;\n",
       "    }\n",
       "\n",
       "    .dataframe tbody tr th {\n",
       "        vertical-align: top;\n",
       "    }\n",
       "\n",
       "    .dataframe thead th {\n",
       "        text-align: right;\n",
       "    }\n",
       "</style>\n",
       "<table border=\"1\" class=\"dataframe\">\n",
       "  <thead>\n",
       "    <tr style=\"text-align: right;\">\n",
       "      <th></th>\n",
       "      <th>Store</th>\n",
       "      <th>DayOfWeek</th>\n",
       "      <th>Date</th>\n",
       "      <th>Sales</th>\n",
       "      <th>Customers</th>\n",
       "      <th>Open</th>\n",
       "      <th>Promo</th>\n",
       "      <th>StateHoliday</th>\n",
       "      <th>SchoolHoliday</th>\n",
       "      <th>StoreType</th>\n",
       "      <th>Assortment</th>\n",
       "      <th>CompetitionDistance</th>\n",
       "      <th>CompetitionOpenSinceMonth</th>\n",
       "      <th>CompetitionOpenSinceYear</th>\n",
       "      <th>Promo2</th>\n",
       "      <th>Promo2SinceWeek</th>\n",
       "      <th>Promo2SinceYear</th>\n",
       "      <th>PromoInterval</th>\n",
       "      <th>Day</th>\n",
       "      <th>Month</th>\n",
       "      <th>Year</th>\n",
       "      <th>DayOfYear</th>\n",
       "      <th>WeekOfYear</th>\n",
       "    </tr>\n",
       "  </thead>\n",
       "  <tbody>\n",
       "    <tr>\n",
       "      <th>count</th>\n",
       "      <td>844338.000</td>\n",
       "      <td>844338.000</td>\n",
       "      <td>844338.000</td>\n",
       "      <td>844338.000</td>\n",
       "      <td>844338.000</td>\n",
       "      <td>844338.000</td>\n",
       "      <td>844338.000</td>\n",
       "      <td>844338.000</td>\n",
       "      <td>844338.000</td>\n",
       "      <td>844338.000</td>\n",
       "      <td>844338.000</td>\n",
       "      <td>844338.000</td>\n",
       "      <td>844338.000</td>\n",
       "      <td>844338.000</td>\n",
       "      <td>844338.000</td>\n",
       "      <td>844338.000</td>\n",
       "      <td>844338.000</td>\n",
       "      <td>844338.000</td>\n",
       "      <td>844338.000</td>\n",
       "      <td>844338.000</td>\n",
       "      <td>844338.000</td>\n",
       "      <td>844338.000</td>\n",
       "      <td>844338.000</td>\n",
       "    </tr>\n",
       "    <tr>\n",
       "      <th>mean</th>\n",
       "      <td>0.500</td>\n",
       "      <td>0.420</td>\n",
       "      <td>0.494</td>\n",
       "      <td>0.486</td>\n",
       "      <td>0.493</td>\n",
       "      <td>0.000</td>\n",
       "      <td>0.446</td>\n",
       "      <td>0.000</td>\n",
       "      <td>0.194</td>\n",
       "      <td>0.402</td>\n",
       "      <td>0.468</td>\n",
       "      <td>0.288</td>\n",
       "      <td>0.386</td>\n",
       "      <td>0.893</td>\n",
       "      <td>0.499</td>\n",
       "      <td>0.232</td>\n",
       "      <td>0.893</td>\n",
       "      <td>0.269</td>\n",
       "      <td>0.495</td>\n",
       "      <td>0.441</td>\n",
       "      <td>0.416</td>\n",
       "      <td>0.443</td>\n",
       "      <td>0.444</td>\n",
       "    </tr>\n",
       "    <tr>\n",
       "      <th>std</th>\n",
       "      <td>0.289</td>\n",
       "      <td>0.287</td>\n",
       "      <td>0.292</td>\n",
       "      <td>0.197</td>\n",
       "      <td>0.203</td>\n",
       "      <td>0.000</td>\n",
       "      <td>0.497</td>\n",
       "      <td>0.016</td>\n",
       "      <td>0.395</td>\n",
       "      <td>0.454</td>\n",
       "      <td>0.497</td>\n",
       "      <td>0.323</td>\n",
       "      <td>0.357</td>\n",
       "      <td>0.087</td>\n",
       "      <td>0.500</td>\n",
       "      <td>0.306</td>\n",
       "      <td>0.087</td>\n",
       "      <td>0.327</td>\n",
       "      <td>0.289</td>\n",
       "      <td>0.302</td>\n",
       "      <td>0.389</td>\n",
       "      <td>0.278</td>\n",
       "      <td>0.282</td>\n",
       "    </tr>\n",
       "    <tr>\n",
       "      <th>min</th>\n",
       "      <td>0.000</td>\n",
       "      <td>0.000</td>\n",
       "      <td>0.000</td>\n",
       "      <td>0.000</td>\n",
       "      <td>0.000</td>\n",
       "      <td>0.000</td>\n",
       "      <td>0.000</td>\n",
       "      <td>0.000</td>\n",
       "      <td>0.000</td>\n",
       "      <td>0.000</td>\n",
       "      <td>0.000</td>\n",
       "      <td>0.000</td>\n",
       "      <td>0.000</td>\n",
       "      <td>0.000</td>\n",
       "      <td>0.000</td>\n",
       "      <td>0.000</td>\n",
       "      <td>0.000</td>\n",
       "      <td>0.000</td>\n",
       "      <td>0.000</td>\n",
       "      <td>0.000</td>\n",
       "      <td>0.000</td>\n",
       "      <td>0.000</td>\n",
       "      <td>0.000</td>\n",
       "    </tr>\n",
       "    <tr>\n",
       "      <th>25%</th>\n",
       "      <td>0.250</td>\n",
       "      <td>0.167</td>\n",
       "      <td>0.241</td>\n",
       "      <td>0.344</td>\n",
       "      <td>0.346</td>\n",
       "      <td>0.000</td>\n",
       "      <td>0.000</td>\n",
       "      <td>0.000</td>\n",
       "      <td>0.000</td>\n",
       "      <td>0.000</td>\n",
       "      <td>0.000</td>\n",
       "      <td>0.043</td>\n",
       "      <td>0.000</td>\n",
       "      <td>0.783</td>\n",
       "      <td>0.000</td>\n",
       "      <td>0.000</td>\n",
       "      <td>0.783</td>\n",
       "      <td>0.000</td>\n",
       "      <td>0.233</td>\n",
       "      <td>0.182</td>\n",
       "      <td>0.000</td>\n",
       "      <td>0.203</td>\n",
       "      <td>0.196</td>\n",
       "    </tr>\n",
       "    <tr>\n",
       "      <th>50%</th>\n",
       "      <td>0.500</td>\n",
       "      <td>0.333</td>\n",
       "      <td>0.482</td>\n",
       "      <td>0.452</td>\n",
       "      <td>0.452</td>\n",
       "      <td>0.000</td>\n",
       "      <td>0.000</td>\n",
       "      <td>0.000</td>\n",
       "      <td>0.000</td>\n",
       "      <td>0.000</td>\n",
       "      <td>0.000</td>\n",
       "      <td>0.143</td>\n",
       "      <td>0.273</td>\n",
       "      <td>0.922</td>\n",
       "      <td>0.000</td>\n",
       "      <td>0.000</td>\n",
       "      <td>0.922</td>\n",
       "      <td>0.000</td>\n",
       "      <td>0.500</td>\n",
       "      <td>0.455</td>\n",
       "      <td>0.500</td>\n",
       "      <td>0.420</td>\n",
       "      <td>0.431</td>\n",
       "    </tr>\n",
       "    <tr>\n",
       "      <th>75%</th>\n",
       "      <td>0.750</td>\n",
       "      <td>0.667</td>\n",
       "      <td>0.753</td>\n",
       "      <td>0.594</td>\n",
       "      <td>0.599</td>\n",
       "      <td>0.000</td>\n",
       "      <td>1.000</td>\n",
       "      <td>0.000</td>\n",
       "      <td>0.000</td>\n",
       "      <td>1.000</td>\n",
       "      <td>1.000</td>\n",
       "      <td>0.426</td>\n",
       "      <td>0.727</td>\n",
       "      <td>0.965</td>\n",
       "      <td>1.000</td>\n",
       "      <td>0.440</td>\n",
       "      <td>0.965</td>\n",
       "      <td>0.333</td>\n",
       "      <td>0.733</td>\n",
       "      <td>0.636</td>\n",
       "      <td>0.500</td>\n",
       "      <td>0.659</td>\n",
       "      <td>0.667</td>\n",
       "    </tr>\n",
       "    <tr>\n",
       "      <th>max</th>\n",
       "      <td>1.000</td>\n",
       "      <td>1.000</td>\n",
       "      <td>1.000</td>\n",
       "      <td>1.000</td>\n",
       "      <td>1.000</td>\n",
       "      <td>0.000</td>\n",
       "      <td>1.000</td>\n",
       "      <td>1.000</td>\n",
       "      <td>1.000</td>\n",
       "      <td>1.000</td>\n",
       "      <td>1.000</td>\n",
       "      <td>1.000</td>\n",
       "      <td>1.000</td>\n",
       "      <td>1.000</td>\n",
       "      <td>1.000</td>\n",
       "      <td>1.000</td>\n",
       "      <td>1.000</td>\n",
       "      <td>1.000</td>\n",
       "      <td>1.000</td>\n",
       "      <td>1.000</td>\n",
       "      <td>1.000</td>\n",
       "      <td>1.000</td>\n",
       "      <td>1.000</td>\n",
       "    </tr>\n",
       "  </tbody>\n",
       "</table>\n",
       "</div>"
      ],
      "text/plain": [
       "           Store  DayOfWeek       Date      Sales  Customers       Open  \\\n",
       "count 844338.000 844338.000 844338.000 844338.000 844338.000 844338.000   \n",
       "mean       0.500      0.420      0.494      0.486      0.493      0.000   \n",
       "std        0.289      0.287      0.292      0.197      0.203      0.000   \n",
       "min        0.000      0.000      0.000      0.000      0.000      0.000   \n",
       "25%        0.250      0.167      0.241      0.344      0.346      0.000   \n",
       "50%        0.500      0.333      0.482      0.452      0.452      0.000   \n",
       "75%        0.750      0.667      0.753      0.594      0.599      0.000   \n",
       "max        1.000      1.000      1.000      1.000      1.000      0.000   \n",
       "\n",
       "           Promo  StateHoliday  SchoolHoliday  StoreType  Assortment  \\\n",
       "count 844338.000    844338.000     844338.000 844338.000  844338.000   \n",
       "mean       0.446         0.000          0.194      0.402       0.468   \n",
       "std        0.497         0.016          0.395      0.454       0.497   \n",
       "min        0.000         0.000          0.000      0.000       0.000   \n",
       "25%        0.000         0.000          0.000      0.000       0.000   \n",
       "50%        0.000         0.000          0.000      0.000       0.000   \n",
       "75%        1.000         0.000          0.000      1.000       1.000   \n",
       "max        1.000         1.000          1.000      1.000       1.000   \n",
       "\n",
       "       CompetitionDistance  CompetitionOpenSinceMonth  \\\n",
       "count           844338.000                 844338.000   \n",
       "mean                 0.288                      0.386   \n",
       "std                  0.323                      0.357   \n",
       "min                  0.000                      0.000   \n",
       "25%                  0.043                      0.000   \n",
       "50%                  0.143                      0.273   \n",
       "75%                  0.426                      0.727   \n",
       "max                  1.000                      1.000   \n",
       "\n",
       "       CompetitionOpenSinceYear     Promo2  Promo2SinceWeek  Promo2SinceYear  \\\n",
       "count                844338.000 844338.000       844338.000       844338.000   \n",
       "mean                      0.893      0.499            0.232            0.893   \n",
       "std                       0.087      0.500            0.306            0.087   \n",
       "min                       0.000      0.000            0.000            0.000   \n",
       "25%                       0.783      0.000            0.000            0.783   \n",
       "50%                       0.922      0.000            0.000            0.922   \n",
       "75%                       0.965      1.000            0.440            0.965   \n",
       "max                       1.000      1.000            1.000            1.000   \n",
       "\n",
       "       PromoInterval        Day      Month       Year  DayOfYear  WeekOfYear  \n",
       "count     844338.000 844338.000 844338.000 844338.000 844338.000  844338.000  \n",
       "mean           0.269      0.495      0.441      0.416      0.443       0.444  \n",
       "std            0.327      0.289      0.302      0.389      0.278       0.282  \n",
       "min            0.000      0.000      0.000      0.000      0.000       0.000  \n",
       "25%            0.000      0.233      0.182      0.000      0.203       0.196  \n",
       "50%            0.000      0.500      0.455      0.500      0.420       0.431  \n",
       "75%            0.333      0.733      0.636      0.500      0.659       0.667  \n",
       "max            1.000      1.000      1.000      1.000      1.000       1.000  "
      ]
     },
     "execution_count": 6,
     "metadata": {},
     "output_type": "execute_result"
    }
   ],
   "source": [
    "temp_train_data.describe()"
   ]
  },
  {
   "cell_type": "code",
   "execution_count": null,
   "metadata": {},
   "outputs": [],
   "source": [
    "# Using Scaled Units\n",
    "plt.figure(figsize=(20,6))\n",
    "sns.set(style=\"whitegrid\")\n",
    "sns.lineplot(x='Date',y='Sales',data=temp_train_data)"
   ]
  },
  {
   "cell_type": "code",
   "execution_count": null,
   "metadata": {},
   "outputs": [],
   "source": [
    "# sample_train = temp_train_data.sample(10000)\n",
    "\n",
    "y_target = temp_train_data.Sales\n",
    "x_features =  temp_train_data.drop(columns=['Sales', 'Customers'], axis=1)"
   ]
  },
  {
   "cell_type": "code",
   "execution_count": 13,
   "metadata": {},
   "outputs": [
    {
     "name": "stdout",
     "output_type": "stream",
     "text": [
      "2022-09-08 14:11:22,876 — Prediction — INFO — Train Test split done successfully.\n",
      "2022-09-08 14:11:22,876 — Prediction — INFO — Train Test split done successfully.\n"
     ]
    },
    {
     "name": "stderr",
     "output_type": "stream",
     "text": [
      "--- Logging error ---\n",
      "Traceback (most recent call last):\n",
      "  File \"C:\\Users\\mo\\anaconda3\\lib\\logging\\handlers.py\", line 74, in emit\n",
      "    self.doRollover()\n",
      "  File \"C:\\Users\\mo\\anaconda3\\lib\\logging\\handlers.py\", line 428, in doRollover\n",
      "    self.rotate(self.baseFilename, dfn)\n",
      "  File \"C:\\Users\\mo\\anaconda3\\lib\\logging\\handlers.py\", line 115, in rotate\n",
      "    os.rename(source, dest)\n",
      "PermissionError: [WinError 32] The process cannot access the file because it is being used by another process: 'C:\\\\Users\\\\mo\\\\Pharmaceutical-Sales-Prediction\\\\notebooks\\\\my_app.log' -> 'C:\\\\Users\\\\mo\\\\Pharmaceutical-Sales-Prediction\\\\notebooks\\\\my_app.log.2022-09-06'\n",
      "Call stack:\n",
      "  File \"C:\\Users\\mo\\anaconda3\\lib\\runpy.py\", line 197, in _run_module_as_main\n",
      "    return _run_code(code, main_globals, None,\n",
      "  File \"C:\\Users\\mo\\anaconda3\\lib\\runpy.py\", line 87, in _run_code\n",
      "    exec(code, run_globals)\n",
      "  File \"C:\\Users\\mo\\anaconda3\\lib\\site-packages\\ipykernel_launcher.py\", line 16, in <module>\n",
      "    app.launch_new_instance()\n",
      "  File \"C:\\Users\\mo\\anaconda3\\lib\\site-packages\\traitlets\\config\\application.py\", line 846, in launch_instance\n",
      "    app.start()\n",
      "  File \"C:\\Users\\mo\\anaconda3\\lib\\site-packages\\ipykernel\\kernelapp.py\", line 677, in start\n",
      "    self.io_loop.start()\n",
      "  File \"C:\\Users\\mo\\anaconda3\\lib\\site-packages\\tornado\\platform\\asyncio.py\", line 199, in start\n",
      "    self.asyncio_loop.run_forever()\n",
      "  File \"C:\\Users\\mo\\anaconda3\\lib\\asyncio\\base_events.py\", line 601, in run_forever\n",
      "    self._run_once()\n",
      "  File \"C:\\Users\\mo\\anaconda3\\lib\\asyncio\\base_events.py\", line 1905, in _run_once\n",
      "    handle._run()\n",
      "  File \"C:\\Users\\mo\\anaconda3\\lib\\asyncio\\events.py\", line 80, in _run\n",
      "    self._context.run(self._callback, *self._args)\n",
      "  File \"C:\\Users\\mo\\anaconda3\\lib\\site-packages\\ipykernel\\kernelbase.py\", line 471, in dispatch_queue\n",
      "    await self.process_one()\n",
      "  File \"C:\\Users\\mo\\anaconda3\\lib\\site-packages\\ipykernel\\kernelbase.py\", line 460, in process_one\n",
      "    await dispatch(*args)\n",
      "  File \"C:\\Users\\mo\\anaconda3\\lib\\site-packages\\ipykernel\\kernelbase.py\", line 367, in dispatch_shell\n",
      "    await result\n",
      "  File \"C:\\Users\\mo\\anaconda3\\lib\\site-packages\\ipykernel\\kernelbase.py\", line 662, in execute_request\n",
      "    reply_content = await reply_content\n",
      "  File \"C:\\Users\\mo\\anaconda3\\lib\\site-packages\\ipykernel\\ipkernel.py\", line 360, in do_execute\n",
      "    res = shell.run_cell(code, store_history=store_history, silent=silent)\n",
      "  File \"C:\\Users\\mo\\anaconda3\\lib\\site-packages\\ipykernel\\zmqshell.py\", line 532, in run_cell\n",
      "    return super().run_cell(*args, **kwargs)\n",
      "  File \"C:\\Users\\mo\\anaconda3\\lib\\site-packages\\IPython\\core\\interactiveshell.py\", line 2863, in run_cell\n",
      "    result = self._run_cell(\n",
      "  File \"C:\\Users\\mo\\anaconda3\\lib\\site-packages\\IPython\\core\\interactiveshell.py\", line 2909, in _run_cell\n",
      "    return runner(coro)\n",
      "  File \"C:\\Users\\mo\\anaconda3\\lib\\site-packages\\IPython\\core\\async_helpers.py\", line 129, in _pseudo_sync_runner\n",
      "    coro.send(None)\n",
      "  File \"C:\\Users\\mo\\anaconda3\\lib\\site-packages\\IPython\\core\\interactiveshell.py\", line 3106, in run_cell_async\n",
      "    has_raised = await self.run_ast_nodes(code_ast.body, cell_name,\n",
      "  File \"C:\\Users\\mo\\anaconda3\\lib\\site-packages\\IPython\\core\\interactiveshell.py\", line 3309, in run_ast_nodes\n",
      "    if await self.run_code(code, result, async_=asy):\n",
      "  File \"C:\\Users\\mo\\anaconda3\\lib\\site-packages\\IPython\\core\\interactiveshell.py\", line 3369, in run_code\n",
      "    exec(code_obj, self.user_global_ns, self.user_ns)\n",
      "  File \"C:\\Users\\mo\\AppData\\Local\\Temp\\ipykernel_6372\\2854878913.py\", line 5, in <cell line: 3>\n",
      "    my_logger.info(\"Train Test split done successfully.\")\n",
      "Message: 'Train Test split done successfully.'\n",
      "Arguments: ()\n"
     ]
    }
   ],
   "source": [
    "# Train-test splitting the dataset\n",
    "\n",
    "try: \n",
    "    x_train, x_train_test, y_train, y_train_test = train_test_split(x_features, y_target, test_size=0.20, random_state=15)\n",
    "    my_logger.info(\"Train Test split done successfully.\")\n",
    "\n",
    "except Exception as e:\n",
    "    print(e)\n",
    "    my_logger.debug(f\"Exception occured in separating dataset into x & y_training dataset, {e}\")"
   ]
  },
  {
   "cell_type": "code",
   "execution_count": 14,
   "metadata": {},
   "outputs": [
    {
     "data": {
      "text/plain": [
       "(675470, 7)"
      ]
     },
     "execution_count": 14,
     "metadata": {},
     "output_type": "execute_result"
    }
   ],
   "source": [
    "x_train.shape"
   ]
  },
  {
   "cell_type": "markdown",
   "metadata": {},
   "source": [
    "#### Model the Data using Random Forest Classifier"
   ]
  },
  {
   "cell_type": "code",
   "execution_count": 15,
   "metadata": {},
   "outputs": [],
   "source": [
    "def evaluate_models(model_=None, **kwargs):\n",
    "    \"\"\"\n",
    "    - Evaluate our classifiers\n",
    "    \"\"\"\n",
    "    model_name = model_.__name__\n",
    "    scores = 0.0\n",
    "    exp_name = \"Modeling with \"+ model_name\n",
    "    mlflow.sklearn.autolog()\n",
    "    with mlflow.start_run(run_name = exp_name) as run:\n",
    "        mlflow.set_tag(\"mlflow.runName\", exp_name)\n",
    "        model = model_(**kwargs)\n",
    "        model.fit(x_train,y_train)\n",
    "        mlflow.sklearn.log_model(model,\"Regressor Model\")\n",
    "        my_logger.info(f\"fitted a {model} model\")\n",
    "        \n",
    "        # Then predict results from x_train_test data\n",
    "        predicted_data = model.predict(x_train_test)\n",
    "        scores = mean_absolute_error(y_train_test, predicted_data)\n",
    "        my_logger.info(\"predicting for a group instance\")\n",
    "        mlflow.log_metric(\"scores\",scores)\n",
    "        \n",
    "        # serialize the model\n",
    "        file_handler.save_model(model, model_name)\n",
    "\n",
    "    return (scores, predicted_data) "
   ]
  },
  {
   "cell_type": "code",
   "execution_count": 16,
   "metadata": {},
   "outputs": [],
   "source": [
    "# training using cross validation set\n",
    "regressor_validation=RandomForestRegressor(n_estimators=128, \n",
    "                             criterion='mse', \n",
    "                             max_depth=20, \n",
    "                             min_samples_split=10, \n",
    "                             min_samples_leaf=1, \n",
    "                             min_weight_fraction_leaf=0.0, \n",
    "                             max_features='auto', \n",
    "                             max_leaf_nodes=None, \n",
    "                             min_impurity_decrease=0.0,  \n",
    "                             bootstrap=True, \n",
    "                             oob_score=False,\n",
    "                             n_jobs=4, \n",
    "                             random_state=35, \n",
    "                             verbose=0, \n",
    "                             warm_start=False)\n",
    "# try:\n",
    "#     rf_model_test=regressor_validation.fit(x_train,y_train)\n",
    "\n",
    "# except Exception as e:\n",
    "#     my_logger(f\"Model fitting failed to complete, {e}\")"
   ]
  },
  {
   "cell_type": "code",
   "execution_count": 17,
   "metadata": {},
   "outputs": [
    {
     "name": "stderr",
     "output_type": "stream",
     "text": [
      "2022/09/08 14:11:38 WARNING mlflow.utils.git_utils: Failed to import Git (the Git executable is probably not on your PATH), so Git SHA is not available. Error: Failed to initialize: Bad git executable.\n",
      "The git executable must be specified in one of the following ways:\n",
      "    - be included in your $PATH\n",
      "    - be set via $GIT_PYTHON_GIT_EXECUTABLE\n",
      "    - explicitly set via git.refresh()\n",
      "\n",
      "All git commands will error until this is rectified.\n",
      "\n",
      "This initial warning can be silenced or aggravated in the future by setting the\n",
      "$GIT_PYTHON_REFRESH environment variable. Use one of the following values:\n",
      "    - quiet|q|silence|s|none|n|0: for no warning or exception\n",
      "    - warn|w|warning|1: for a printed warning\n",
      "    - error|e|raise|r|2: for a raised exception\n",
      "\n",
      "Example:\n",
      "    export GIT_PYTHON_REFRESH=quiet\n",
      "\n"
     ]
    },
    {
     "name": "stdout",
     "output_type": "stream",
     "text": [
      "2022-09-08 14:13:30,378 — Prediction — INFO — fitted a RandomForestRegressor(n_estimators=10) model\n",
      "2022-09-08 14:13:30,378 — Prediction — INFO — fitted a RandomForestRegressor(n_estimators=10) model\n"
     ]
    },
    {
     "name": "stderr",
     "output_type": "stream",
     "text": [
      "--- Logging error ---\n",
      "Traceback (most recent call last):\n",
      "  File \"C:\\Users\\mo\\anaconda3\\lib\\logging\\handlers.py\", line 74, in emit\n",
      "    self.doRollover()\n",
      "  File \"C:\\Users\\mo\\anaconda3\\lib\\logging\\handlers.py\", line 428, in doRollover\n",
      "    self.rotate(self.baseFilename, dfn)\n",
      "  File \"C:\\Users\\mo\\anaconda3\\lib\\logging\\handlers.py\", line 115, in rotate\n",
      "    os.rename(source, dest)\n",
      "PermissionError: [WinError 32] The process cannot access the file because it is being used by another process: 'C:\\\\Users\\\\mo\\\\Pharmaceutical-Sales-Prediction\\\\notebooks\\\\my_app.log' -> 'C:\\\\Users\\\\mo\\\\Pharmaceutical-Sales-Prediction\\\\notebooks\\\\my_app.log.2022-09-06'\n",
      "Call stack:\n",
      "  File \"C:\\Users\\mo\\anaconda3\\lib\\runpy.py\", line 197, in _run_module_as_main\n",
      "    return _run_code(code, main_globals, None,\n",
      "  File \"C:\\Users\\mo\\anaconda3\\lib\\runpy.py\", line 87, in _run_code\n",
      "    exec(code, run_globals)\n",
      "  File \"C:\\Users\\mo\\anaconda3\\lib\\site-packages\\ipykernel_launcher.py\", line 16, in <module>\n",
      "    app.launch_new_instance()\n",
      "  File \"C:\\Users\\mo\\anaconda3\\lib\\site-packages\\traitlets\\config\\application.py\", line 846, in launch_instance\n",
      "    app.start()\n",
      "  File \"C:\\Users\\mo\\anaconda3\\lib\\site-packages\\ipykernel\\kernelapp.py\", line 677, in start\n",
      "    self.io_loop.start()\n",
      "  File \"C:\\Users\\mo\\anaconda3\\lib\\site-packages\\tornado\\platform\\asyncio.py\", line 199, in start\n",
      "    self.asyncio_loop.run_forever()\n",
      "  File \"C:\\Users\\mo\\anaconda3\\lib\\asyncio\\base_events.py\", line 601, in run_forever\n",
      "    self._run_once()\n",
      "  File \"C:\\Users\\mo\\anaconda3\\lib\\asyncio\\base_events.py\", line 1905, in _run_once\n",
      "    handle._run()\n",
      "  File \"C:\\Users\\mo\\anaconda3\\lib\\asyncio\\events.py\", line 80, in _run\n",
      "    self._context.run(self._callback, *self._args)\n",
      "  File \"C:\\Users\\mo\\anaconda3\\lib\\site-packages\\ipykernel\\kernelbase.py\", line 471, in dispatch_queue\n",
      "    await self.process_one()\n",
      "  File \"C:\\Users\\mo\\anaconda3\\lib\\site-packages\\ipykernel\\kernelbase.py\", line 460, in process_one\n",
      "    await dispatch(*args)\n",
      "  File \"C:\\Users\\mo\\anaconda3\\lib\\site-packages\\ipykernel\\kernelbase.py\", line 367, in dispatch_shell\n",
      "    await result\n",
      "  File \"C:\\Users\\mo\\anaconda3\\lib\\site-packages\\ipykernel\\kernelbase.py\", line 662, in execute_request\n",
      "    reply_content = await reply_content\n",
      "  File \"C:\\Users\\mo\\anaconda3\\lib\\site-packages\\ipykernel\\ipkernel.py\", line 360, in do_execute\n",
      "    res = shell.run_cell(code, store_history=store_history, silent=silent)\n",
      "  File \"C:\\Users\\mo\\anaconda3\\lib\\site-packages\\ipykernel\\zmqshell.py\", line 532, in run_cell\n",
      "    return super().run_cell(*args, **kwargs)\n",
      "  File \"C:\\Users\\mo\\anaconda3\\lib\\site-packages\\IPython\\core\\interactiveshell.py\", line 2863, in run_cell\n",
      "    result = self._run_cell(\n",
      "  File \"C:\\Users\\mo\\anaconda3\\lib\\site-packages\\IPython\\core\\interactiveshell.py\", line 2909, in _run_cell\n",
      "    return runner(coro)\n",
      "  File \"C:\\Users\\mo\\anaconda3\\lib\\site-packages\\IPython\\core\\async_helpers.py\", line 129, in _pseudo_sync_runner\n",
      "    coro.send(None)\n",
      "  File \"C:\\Users\\mo\\anaconda3\\lib\\site-packages\\IPython\\core\\interactiveshell.py\", line 3106, in run_cell_async\n",
      "    has_raised = await self.run_ast_nodes(code_ast.body, cell_name,\n",
      "  File \"C:\\Users\\mo\\anaconda3\\lib\\site-packages\\IPython\\core\\interactiveshell.py\", line 3309, in run_ast_nodes\n",
      "    if await self.run_code(code, result, async_=asy):\n",
      "  File \"C:\\Users\\mo\\anaconda3\\lib\\site-packages\\IPython\\core\\interactiveshell.py\", line 3369, in run_code\n",
      "    exec(code_obj, self.user_global_ns, self.user_ns)\n",
      "  File \"C:\\Users\\mo\\AppData\\Local\\Temp\\ipykernel_6372\\2342857986.py\", line 2, in <cell line: 1>\n",
      "    RF_prediction = evaluate_models(model_=RandomForestRegressor, n_estimators=10)\n",
      "  File \"C:\\Users\\mo\\AppData\\Local\\Temp\\ipykernel_6372\\3940941241.py\", line 14, in evaluate_models\n",
      "    my_logger.info(f\"fitted a {model} model\")\n",
      "Message: 'fitted a RandomForestRegressor(n_estimators=10) model'\n",
      "Arguments: ()\n"
     ]
    },
    {
     "name": "stdout",
     "output_type": "stream",
     "text": [
      "2022-09-08 14:13:31,863 — Prediction — INFO — predicting for a group instance\n",
      "2022-09-08 14:13:31,863 — Prediction — INFO — predicting for a group instance\n"
     ]
    },
    {
     "name": "stderr",
     "output_type": "stream",
     "text": [
      "--- Logging error ---\n",
      "Traceback (most recent call last):\n",
      "  File \"C:\\Users\\mo\\anaconda3\\lib\\logging\\handlers.py\", line 74, in emit\n",
      "    self.doRollover()\n",
      "  File \"C:\\Users\\mo\\anaconda3\\lib\\logging\\handlers.py\", line 428, in doRollover\n",
      "    self.rotate(self.baseFilename, dfn)\n",
      "  File \"C:\\Users\\mo\\anaconda3\\lib\\logging\\handlers.py\", line 115, in rotate\n",
      "    os.rename(source, dest)\n",
      "PermissionError: [WinError 32] The process cannot access the file because it is being used by another process: 'C:\\\\Users\\\\mo\\\\Pharmaceutical-Sales-Prediction\\\\notebooks\\\\my_app.log' -> 'C:\\\\Users\\\\mo\\\\Pharmaceutical-Sales-Prediction\\\\notebooks\\\\my_app.log.2022-09-06'\n",
      "Call stack:\n",
      "  File \"C:\\Users\\mo\\anaconda3\\lib\\runpy.py\", line 197, in _run_module_as_main\n",
      "    return _run_code(code, main_globals, None,\n",
      "  File \"C:\\Users\\mo\\anaconda3\\lib\\runpy.py\", line 87, in _run_code\n",
      "    exec(code, run_globals)\n",
      "  File \"C:\\Users\\mo\\anaconda3\\lib\\site-packages\\ipykernel_launcher.py\", line 16, in <module>\n",
      "    app.launch_new_instance()\n",
      "  File \"C:\\Users\\mo\\anaconda3\\lib\\site-packages\\traitlets\\config\\application.py\", line 846, in launch_instance\n",
      "    app.start()\n",
      "  File \"C:\\Users\\mo\\anaconda3\\lib\\site-packages\\ipykernel\\kernelapp.py\", line 677, in start\n",
      "    self.io_loop.start()\n",
      "  File \"C:\\Users\\mo\\anaconda3\\lib\\site-packages\\tornado\\platform\\asyncio.py\", line 199, in start\n",
      "    self.asyncio_loop.run_forever()\n",
      "  File \"C:\\Users\\mo\\anaconda3\\lib\\asyncio\\base_events.py\", line 601, in run_forever\n",
      "    self._run_once()\n",
      "  File \"C:\\Users\\mo\\anaconda3\\lib\\asyncio\\base_events.py\", line 1905, in _run_once\n",
      "    handle._run()\n",
      "  File \"C:\\Users\\mo\\anaconda3\\lib\\asyncio\\events.py\", line 80, in _run\n",
      "    self._context.run(self._callback, *self._args)\n",
      "  File \"C:\\Users\\mo\\anaconda3\\lib\\site-packages\\ipykernel\\kernelbase.py\", line 471, in dispatch_queue\n",
      "    await self.process_one()\n",
      "  File \"C:\\Users\\mo\\anaconda3\\lib\\site-packages\\ipykernel\\kernelbase.py\", line 460, in process_one\n",
      "    await dispatch(*args)\n",
      "  File \"C:\\Users\\mo\\anaconda3\\lib\\site-packages\\ipykernel\\kernelbase.py\", line 367, in dispatch_shell\n",
      "    await result\n",
      "  File \"C:\\Users\\mo\\anaconda3\\lib\\site-packages\\ipykernel\\kernelbase.py\", line 662, in execute_request\n",
      "    reply_content = await reply_content\n",
      "  File \"C:\\Users\\mo\\anaconda3\\lib\\site-packages\\ipykernel\\ipkernel.py\", line 360, in do_execute\n",
      "    res = shell.run_cell(code, store_history=store_history, silent=silent)\n",
      "  File \"C:\\Users\\mo\\anaconda3\\lib\\site-packages\\ipykernel\\zmqshell.py\", line 532, in run_cell\n",
      "    return super().run_cell(*args, **kwargs)\n",
      "  File \"C:\\Users\\mo\\anaconda3\\lib\\site-packages\\IPython\\core\\interactiveshell.py\", line 2863, in run_cell\n",
      "    result = self._run_cell(\n",
      "  File \"C:\\Users\\mo\\anaconda3\\lib\\site-packages\\IPython\\core\\interactiveshell.py\", line 2909, in _run_cell\n",
      "    return runner(coro)\n",
      "  File \"C:\\Users\\mo\\anaconda3\\lib\\site-packages\\IPython\\core\\async_helpers.py\", line 129, in _pseudo_sync_runner\n",
      "    coro.send(None)\n",
      "  File \"C:\\Users\\mo\\anaconda3\\lib\\site-packages\\IPython\\core\\interactiveshell.py\", line 3106, in run_cell_async\n",
      "    has_raised = await self.run_ast_nodes(code_ast.body, cell_name,\n",
      "  File \"C:\\Users\\mo\\anaconda3\\lib\\site-packages\\IPython\\core\\interactiveshell.py\", line 3309, in run_ast_nodes\n",
      "    if await self.run_code(code, result, async_=asy):\n",
      "  File \"C:\\Users\\mo\\anaconda3\\lib\\site-packages\\IPython\\core\\interactiveshell.py\", line 3369, in run_code\n",
      "    exec(code_obj, self.user_global_ns, self.user_ns)\n",
      "  File \"C:\\Users\\mo\\AppData\\Local\\Temp\\ipykernel_6372\\2342857986.py\", line 2, in <cell line: 1>\n",
      "    RF_prediction = evaluate_models(model_=RandomForestRegressor, n_estimators=10)\n",
      "  File \"C:\\Users\\mo\\AppData\\Local\\Temp\\ipykernel_6372\\3940941241.py\", line 19, in evaluate_models\n",
      "    my_logger.info(\"predicting for a group instance\")\n",
      "Message: 'predicting for a group instance'\n",
      "Arguments: ()\n"
     ]
    },
    {
     "name": "stdout",
     "output_type": "stream",
     "text": [
      "2022-09-08 14:14:00,598 — FileHandler — INFO — The model is successfully saved!\n"
     ]
    },
    {
     "name": "stderr",
     "output_type": "stream",
     "text": [
      "--- Logging error ---\n",
      "Traceback (most recent call last):\n",
      "  File \"C:\\Users\\mo\\anaconda3\\lib\\logging\\handlers.py\", line 74, in emit\n",
      "    self.doRollover()\n",
      "  File \"C:\\Users\\mo\\anaconda3\\lib\\logging\\handlers.py\", line 428, in doRollover\n",
      "    self.rotate(self.baseFilename, dfn)\n",
      "  File \"C:\\Users\\mo\\anaconda3\\lib\\logging\\handlers.py\", line 115, in rotate\n",
      "    os.rename(source, dest)\n",
      "PermissionError: [WinError 32] The process cannot access the file because it is being used by another process: 'C:\\\\Users\\\\mo\\\\Pharmaceutical-Sales-Prediction\\\\notebooks\\\\my_app.log' -> 'C:\\\\Users\\\\mo\\\\Pharmaceutical-Sales-Prediction\\\\notebooks\\\\my_app.log.2022-09-06'\n",
      "Call stack:\n",
      "  File \"C:\\Users\\mo\\anaconda3\\lib\\runpy.py\", line 197, in _run_module_as_main\n",
      "    return _run_code(code, main_globals, None,\n",
      "  File \"C:\\Users\\mo\\anaconda3\\lib\\runpy.py\", line 87, in _run_code\n",
      "    exec(code, run_globals)\n",
      "  File \"C:\\Users\\mo\\anaconda3\\lib\\site-packages\\ipykernel_launcher.py\", line 16, in <module>\n",
      "    app.launch_new_instance()\n",
      "  File \"C:\\Users\\mo\\anaconda3\\lib\\site-packages\\traitlets\\config\\application.py\", line 846, in launch_instance\n",
      "    app.start()\n",
      "  File \"C:\\Users\\mo\\anaconda3\\lib\\site-packages\\ipykernel\\kernelapp.py\", line 677, in start\n",
      "    self.io_loop.start()\n",
      "  File \"C:\\Users\\mo\\anaconda3\\lib\\site-packages\\tornado\\platform\\asyncio.py\", line 199, in start\n",
      "    self.asyncio_loop.run_forever()\n",
      "  File \"C:\\Users\\mo\\anaconda3\\lib\\asyncio\\base_events.py\", line 601, in run_forever\n",
      "    self._run_once()\n",
      "  File \"C:\\Users\\mo\\anaconda3\\lib\\asyncio\\base_events.py\", line 1905, in _run_once\n",
      "    handle._run()\n",
      "  File \"C:\\Users\\mo\\anaconda3\\lib\\asyncio\\events.py\", line 80, in _run\n",
      "    self._context.run(self._callback, *self._args)\n",
      "  File \"C:\\Users\\mo\\anaconda3\\lib\\site-packages\\ipykernel\\kernelbase.py\", line 471, in dispatch_queue\n",
      "    await self.process_one()\n",
      "  File \"C:\\Users\\mo\\anaconda3\\lib\\site-packages\\ipykernel\\kernelbase.py\", line 460, in process_one\n",
      "    await dispatch(*args)\n",
      "  File \"C:\\Users\\mo\\anaconda3\\lib\\site-packages\\ipykernel\\kernelbase.py\", line 367, in dispatch_shell\n",
      "    await result\n",
      "  File \"C:\\Users\\mo\\anaconda3\\lib\\site-packages\\ipykernel\\kernelbase.py\", line 662, in execute_request\n",
      "    reply_content = await reply_content\n",
      "  File \"C:\\Users\\mo\\anaconda3\\lib\\site-packages\\ipykernel\\ipkernel.py\", line 360, in do_execute\n",
      "    res = shell.run_cell(code, store_history=store_history, silent=silent)\n",
      "  File \"C:\\Users\\mo\\anaconda3\\lib\\site-packages\\ipykernel\\zmqshell.py\", line 532, in run_cell\n",
      "    return super().run_cell(*args, **kwargs)\n",
      "  File \"C:\\Users\\mo\\anaconda3\\lib\\site-packages\\IPython\\core\\interactiveshell.py\", line 2863, in run_cell\n",
      "    result = self._run_cell(\n",
      "  File \"C:\\Users\\mo\\anaconda3\\lib\\site-packages\\IPython\\core\\interactiveshell.py\", line 2909, in _run_cell\n",
      "    return runner(coro)\n",
      "  File \"C:\\Users\\mo\\anaconda3\\lib\\site-packages\\IPython\\core\\async_helpers.py\", line 129, in _pseudo_sync_runner\n",
      "    coro.send(None)\n",
      "  File \"C:\\Users\\mo\\anaconda3\\lib\\site-packages\\IPython\\core\\interactiveshell.py\", line 3106, in run_cell_async\n",
      "    has_raised = await self.run_ast_nodes(code_ast.body, cell_name,\n",
      "  File \"C:\\Users\\mo\\anaconda3\\lib\\site-packages\\IPython\\core\\interactiveshell.py\", line 3309, in run_ast_nodes\n",
      "    if await self.run_code(code, result, async_=asy):\n",
      "  File \"C:\\Users\\mo\\anaconda3\\lib\\site-packages\\IPython\\core\\interactiveshell.py\", line 3369, in run_code\n",
      "    exec(code_obj, self.user_global_ns, self.user_ns)\n",
      "  File \"C:\\Users\\mo\\AppData\\Local\\Temp\\ipykernel_6372\\2342857986.py\", line 2, in <cell line: 1>\n",
      "    RF_prediction = evaluate_models(model_=RandomForestRegressor, n_estimators=10)\n",
      "  File \"C:\\Users\\mo\\AppData\\Local\\Temp\\ipykernel_6372\\3940941241.py\", line 23, in evaluate_models\n",
      "    file_handler.save_model(model, model_name)\n",
      "  File \"C:\\Users\\mo\\Pharmaceutical-Sales-Prediction\\scripts\\file_handler.py\", line 42, in save_model\n",
      "    my_logger.info(\"The model is successfully saved!\")\n",
      "Message: 'The model is successfully saved!'\n",
      "Arguments: ()\n"
     ]
    }
   ],
   "source": [
    "try:\n",
    "    RF_prediction = evaluate_models(model_=RandomForestRegressor, n_estimators=10)\n",
    "\n",
    "except Exception as e:\n",
    "    my_logger(f\"Model fitting failed to complete, {e}\")"
   ]
  },
  {
   "cell_type": "code",
   "execution_count": 18,
   "metadata": {},
   "outputs": [
    {
     "data": {
      "text/plain": [
       "0.08038642987644562"
      ]
     },
     "execution_count": 18,
     "metadata": {},
     "output_type": "execute_result"
    }
   ],
   "source": [
    "mae, predictions = RF_prediction\n",
    "mae"
   ]
  },
  {
   "cell_type": "code",
   "execution_count": 19,
   "metadata": {},
   "outputs": [
    {
     "name": "stdout",
     "output_type": "stream",
     "text": [
      "2022-09-08 14:14:32,599 — Prediction — INFO — fitted a LGBMRegressor(n_estimators=10) model\n",
      "2022-09-08 14:14:32,599 — Prediction — INFO — fitted a LGBMRegressor(n_estimators=10) model\n",
      "2022-09-08 14:14:32,758 — Prediction — INFO — predicting for a group instance\n",
      "2022-09-08 14:14:32,758 — Prediction — INFO — predicting for a group instance\n",
      "2022-09-08 14:14:32,793 — FileHandler — INFO — The model is successfully saved!\n"
     ]
    },
    {
     "name": "stderr",
     "output_type": "stream",
     "text": [
      "--- Logging error ---\n",
      "Traceback (most recent call last):\n",
      "  File \"C:\\Users\\mo\\anaconda3\\lib\\logging\\handlers.py\", line 74, in emit\n",
      "    self.doRollover()\n",
      "  File \"C:\\Users\\mo\\anaconda3\\lib\\logging\\handlers.py\", line 428, in doRollover\n",
      "    self.rotate(self.baseFilename, dfn)\n",
      "  File \"C:\\Users\\mo\\anaconda3\\lib\\logging\\handlers.py\", line 115, in rotate\n",
      "    os.rename(source, dest)\n",
      "PermissionError: [WinError 32] The process cannot access the file because it is being used by another process: 'C:\\\\Users\\\\mo\\\\Pharmaceutical-Sales-Prediction\\\\notebooks\\\\my_app.log' -> 'C:\\\\Users\\\\mo\\\\Pharmaceutical-Sales-Prediction\\\\notebooks\\\\my_app.log.2022-09-06'\n",
      "Call stack:\n",
      "  File \"C:\\Users\\mo\\anaconda3\\lib\\runpy.py\", line 197, in _run_module_as_main\n",
      "    return _run_code(code, main_globals, None,\n",
      "  File \"C:\\Users\\mo\\anaconda3\\lib\\runpy.py\", line 87, in _run_code\n",
      "    exec(code, run_globals)\n",
      "  File \"C:\\Users\\mo\\anaconda3\\lib\\site-packages\\ipykernel_launcher.py\", line 16, in <module>\n",
      "    app.launch_new_instance()\n",
      "  File \"C:\\Users\\mo\\anaconda3\\lib\\site-packages\\traitlets\\config\\application.py\", line 846, in launch_instance\n",
      "    app.start()\n",
      "  File \"C:\\Users\\mo\\anaconda3\\lib\\site-packages\\ipykernel\\kernelapp.py\", line 677, in start\n",
      "    self.io_loop.start()\n",
      "  File \"C:\\Users\\mo\\anaconda3\\lib\\site-packages\\tornado\\platform\\asyncio.py\", line 199, in start\n",
      "    self.asyncio_loop.run_forever()\n",
      "  File \"C:\\Users\\mo\\anaconda3\\lib\\asyncio\\base_events.py\", line 601, in run_forever\n",
      "    self._run_once()\n",
      "  File \"C:\\Users\\mo\\anaconda3\\lib\\asyncio\\base_events.py\", line 1905, in _run_once\n",
      "    handle._run()\n",
      "  File \"C:\\Users\\mo\\anaconda3\\lib\\asyncio\\events.py\", line 80, in _run\n",
      "    self._context.run(self._callback, *self._args)\n",
      "  File \"C:\\Users\\mo\\anaconda3\\lib\\site-packages\\ipykernel\\kernelbase.py\", line 471, in dispatch_queue\n",
      "    await self.process_one()\n",
      "  File \"C:\\Users\\mo\\anaconda3\\lib\\site-packages\\ipykernel\\kernelbase.py\", line 460, in process_one\n",
      "    await dispatch(*args)\n",
      "  File \"C:\\Users\\mo\\anaconda3\\lib\\site-packages\\ipykernel\\kernelbase.py\", line 367, in dispatch_shell\n",
      "    await result\n",
      "  File \"C:\\Users\\mo\\anaconda3\\lib\\site-packages\\ipykernel\\kernelbase.py\", line 662, in execute_request\n",
      "    reply_content = await reply_content\n",
      "  File \"C:\\Users\\mo\\anaconda3\\lib\\site-packages\\ipykernel\\ipkernel.py\", line 360, in do_execute\n",
      "    res = shell.run_cell(code, store_history=store_history, silent=silent)\n",
      "  File \"C:\\Users\\mo\\anaconda3\\lib\\site-packages\\ipykernel\\zmqshell.py\", line 532, in run_cell\n",
      "    return super().run_cell(*args, **kwargs)\n",
      "  File \"C:\\Users\\mo\\anaconda3\\lib\\site-packages\\IPython\\core\\interactiveshell.py\", line 2863, in run_cell\n",
      "    result = self._run_cell(\n",
      "  File \"C:\\Users\\mo\\anaconda3\\lib\\site-packages\\IPython\\core\\interactiveshell.py\", line 2909, in _run_cell\n",
      "    return runner(coro)\n",
      "  File \"C:\\Users\\mo\\anaconda3\\lib\\site-packages\\IPython\\core\\async_helpers.py\", line 129, in _pseudo_sync_runner\n",
      "    coro.send(None)\n",
      "  File \"C:\\Users\\mo\\anaconda3\\lib\\site-packages\\IPython\\core\\interactiveshell.py\", line 3106, in run_cell_async\n",
      "    has_raised = await self.run_ast_nodes(code_ast.body, cell_name,\n",
      "  File \"C:\\Users\\mo\\anaconda3\\lib\\site-packages\\IPython\\core\\interactiveshell.py\", line 3309, in run_ast_nodes\n",
      "    if await self.run_code(code, result, async_=asy):\n",
      "  File \"C:\\Users\\mo\\anaconda3\\lib\\site-packages\\IPython\\core\\interactiveshell.py\", line 3369, in run_code\n",
      "    exec(code_obj, self.user_global_ns, self.user_ns)\n",
      "  File \"C:\\Users\\mo\\AppData\\Local\\Temp\\ipykernel_6372\\463724679.py\", line 2, in <cell line: 1>\n",
      "    LGBM_prediction = evaluate_models(model_ = LGBMRegressor, n_estimators = 10)\n",
      "  File \"C:\\Users\\mo\\AppData\\Local\\Temp\\ipykernel_6372\\3940941241.py\", line 14, in evaluate_models\n",
      "    my_logger.info(f\"fitted a {model} model\")\n",
      "Message: 'fitted a LGBMRegressor(n_estimators=10) model'\n",
      "Arguments: ()\n",
      "--- Logging error ---\n",
      "Traceback (most recent call last):\n",
      "  File \"C:\\Users\\mo\\anaconda3\\lib\\logging\\handlers.py\", line 74, in emit\n",
      "    self.doRollover()\n",
      "  File \"C:\\Users\\mo\\anaconda3\\lib\\logging\\handlers.py\", line 428, in doRollover\n",
      "    self.rotate(self.baseFilename, dfn)\n",
      "  File \"C:\\Users\\mo\\anaconda3\\lib\\logging\\handlers.py\", line 115, in rotate\n",
      "    os.rename(source, dest)\n",
      "PermissionError: [WinError 32] The process cannot access the file because it is being used by another process: 'C:\\\\Users\\\\mo\\\\Pharmaceutical-Sales-Prediction\\\\notebooks\\\\my_app.log' -> 'C:\\\\Users\\\\mo\\\\Pharmaceutical-Sales-Prediction\\\\notebooks\\\\my_app.log.2022-09-06'\n",
      "Call stack:\n",
      "  File \"C:\\Users\\mo\\anaconda3\\lib\\runpy.py\", line 197, in _run_module_as_main\n",
      "    return _run_code(code, main_globals, None,\n",
      "  File \"C:\\Users\\mo\\anaconda3\\lib\\runpy.py\", line 87, in _run_code\n",
      "    exec(code, run_globals)\n",
      "  File \"C:\\Users\\mo\\anaconda3\\lib\\site-packages\\ipykernel_launcher.py\", line 16, in <module>\n",
      "    app.launch_new_instance()\n",
      "  File \"C:\\Users\\mo\\anaconda3\\lib\\site-packages\\traitlets\\config\\application.py\", line 846, in launch_instance\n",
      "    app.start()\n",
      "  File \"C:\\Users\\mo\\anaconda3\\lib\\site-packages\\ipykernel\\kernelapp.py\", line 677, in start\n",
      "    self.io_loop.start()\n",
      "  File \"C:\\Users\\mo\\anaconda3\\lib\\site-packages\\tornado\\platform\\asyncio.py\", line 199, in start\n",
      "    self.asyncio_loop.run_forever()\n",
      "  File \"C:\\Users\\mo\\anaconda3\\lib\\asyncio\\base_events.py\", line 601, in run_forever\n",
      "    self._run_once()\n",
      "  File \"C:\\Users\\mo\\anaconda3\\lib\\asyncio\\base_events.py\", line 1905, in _run_once\n",
      "    handle._run()\n",
      "  File \"C:\\Users\\mo\\anaconda3\\lib\\asyncio\\events.py\", line 80, in _run\n",
      "    self._context.run(self._callback, *self._args)\n",
      "  File \"C:\\Users\\mo\\anaconda3\\lib\\site-packages\\ipykernel\\kernelbase.py\", line 471, in dispatch_queue\n",
      "    await self.process_one()\n",
      "  File \"C:\\Users\\mo\\anaconda3\\lib\\site-packages\\ipykernel\\kernelbase.py\", line 460, in process_one\n",
      "    await dispatch(*args)\n",
      "  File \"C:\\Users\\mo\\anaconda3\\lib\\site-packages\\ipykernel\\kernelbase.py\", line 367, in dispatch_shell\n",
      "    await result\n",
      "  File \"C:\\Users\\mo\\anaconda3\\lib\\site-packages\\ipykernel\\kernelbase.py\", line 662, in execute_request\n",
      "    reply_content = await reply_content\n",
      "  File \"C:\\Users\\mo\\anaconda3\\lib\\site-packages\\ipykernel\\ipkernel.py\", line 360, in do_execute\n",
      "    res = shell.run_cell(code, store_history=store_history, silent=silent)\n",
      "  File \"C:\\Users\\mo\\anaconda3\\lib\\site-packages\\ipykernel\\zmqshell.py\", line 532, in run_cell\n",
      "    return super().run_cell(*args, **kwargs)\n",
      "  File \"C:\\Users\\mo\\anaconda3\\lib\\site-packages\\IPython\\core\\interactiveshell.py\", line 2863, in run_cell\n",
      "    result = self._run_cell(\n",
      "  File \"C:\\Users\\mo\\anaconda3\\lib\\site-packages\\IPython\\core\\interactiveshell.py\", line 2909, in _run_cell\n",
      "    return runner(coro)\n",
      "  File \"C:\\Users\\mo\\anaconda3\\lib\\site-packages\\IPython\\core\\async_helpers.py\", line 129, in _pseudo_sync_runner\n",
      "    coro.send(None)\n",
      "  File \"C:\\Users\\mo\\anaconda3\\lib\\site-packages\\IPython\\core\\interactiveshell.py\", line 3106, in run_cell_async\n",
      "    has_raised = await self.run_ast_nodes(code_ast.body, cell_name,\n",
      "  File \"C:\\Users\\mo\\anaconda3\\lib\\site-packages\\IPython\\core\\interactiveshell.py\", line 3309, in run_ast_nodes\n",
      "    if await self.run_code(code, result, async_=asy):\n",
      "  File \"C:\\Users\\mo\\anaconda3\\lib\\site-packages\\IPython\\core\\interactiveshell.py\", line 3369, in run_code\n",
      "    exec(code_obj, self.user_global_ns, self.user_ns)\n",
      "  File \"C:\\Users\\mo\\AppData\\Local\\Temp\\ipykernel_6372\\463724679.py\", line 2, in <cell line: 1>\n",
      "    LGBM_prediction = evaluate_models(model_ = LGBMRegressor, n_estimators = 10)\n",
      "  File \"C:\\Users\\mo\\AppData\\Local\\Temp\\ipykernel_6372\\3940941241.py\", line 19, in evaluate_models\n",
      "    my_logger.info(\"predicting for a group instance\")\n",
      "Message: 'predicting for a group instance'\n",
      "Arguments: ()\n",
      "--- Logging error ---\n",
      "Traceback (most recent call last):\n",
      "  File \"C:\\Users\\mo\\anaconda3\\lib\\logging\\handlers.py\", line 74, in emit\n",
      "    self.doRollover()\n",
      "  File \"C:\\Users\\mo\\anaconda3\\lib\\logging\\handlers.py\", line 428, in doRollover\n",
      "    self.rotate(self.baseFilename, dfn)\n",
      "  File \"C:\\Users\\mo\\anaconda3\\lib\\logging\\handlers.py\", line 115, in rotate\n",
      "    os.rename(source, dest)\n",
      "PermissionError: [WinError 32] The process cannot access the file because it is being used by another process: 'C:\\\\Users\\\\mo\\\\Pharmaceutical-Sales-Prediction\\\\notebooks\\\\my_app.log' -> 'C:\\\\Users\\\\mo\\\\Pharmaceutical-Sales-Prediction\\\\notebooks\\\\my_app.log.2022-09-06'\n",
      "Call stack:\n",
      "  File \"C:\\Users\\mo\\anaconda3\\lib\\runpy.py\", line 197, in _run_module_as_main\n",
      "    return _run_code(code, main_globals, None,\n",
      "  File \"C:\\Users\\mo\\anaconda3\\lib\\runpy.py\", line 87, in _run_code\n",
      "    exec(code, run_globals)\n",
      "  File \"C:\\Users\\mo\\anaconda3\\lib\\site-packages\\ipykernel_launcher.py\", line 16, in <module>\n",
      "    app.launch_new_instance()\n",
      "  File \"C:\\Users\\mo\\anaconda3\\lib\\site-packages\\traitlets\\config\\application.py\", line 846, in launch_instance\n",
      "    app.start()\n",
      "  File \"C:\\Users\\mo\\anaconda3\\lib\\site-packages\\ipykernel\\kernelapp.py\", line 677, in start\n",
      "    self.io_loop.start()\n",
      "  File \"C:\\Users\\mo\\anaconda3\\lib\\site-packages\\tornado\\platform\\asyncio.py\", line 199, in start\n",
      "    self.asyncio_loop.run_forever()\n",
      "  File \"C:\\Users\\mo\\anaconda3\\lib\\asyncio\\base_events.py\", line 601, in run_forever\n",
      "    self._run_once()\n",
      "  File \"C:\\Users\\mo\\anaconda3\\lib\\asyncio\\base_events.py\", line 1905, in _run_once\n",
      "    handle._run()\n",
      "  File \"C:\\Users\\mo\\anaconda3\\lib\\asyncio\\events.py\", line 80, in _run\n",
      "    self._context.run(self._callback, *self._args)\n",
      "  File \"C:\\Users\\mo\\anaconda3\\lib\\site-packages\\ipykernel\\kernelbase.py\", line 471, in dispatch_queue\n",
      "    await self.process_one()\n",
      "  File \"C:\\Users\\mo\\anaconda3\\lib\\site-packages\\ipykernel\\kernelbase.py\", line 460, in process_one\n",
      "    await dispatch(*args)\n",
      "  File \"C:\\Users\\mo\\anaconda3\\lib\\site-packages\\ipykernel\\kernelbase.py\", line 367, in dispatch_shell\n",
      "    await result\n",
      "  File \"C:\\Users\\mo\\anaconda3\\lib\\site-packages\\ipykernel\\kernelbase.py\", line 662, in execute_request\n",
      "    reply_content = await reply_content\n",
      "  File \"C:\\Users\\mo\\anaconda3\\lib\\site-packages\\ipykernel\\ipkernel.py\", line 360, in do_execute\n",
      "    res = shell.run_cell(code, store_history=store_history, silent=silent)\n",
      "  File \"C:\\Users\\mo\\anaconda3\\lib\\site-packages\\ipykernel\\zmqshell.py\", line 532, in run_cell\n",
      "    return super().run_cell(*args, **kwargs)\n",
      "  File \"C:\\Users\\mo\\anaconda3\\lib\\site-packages\\IPython\\core\\interactiveshell.py\", line 2863, in run_cell\n",
      "    result = self._run_cell(\n",
      "  File \"C:\\Users\\mo\\anaconda3\\lib\\site-packages\\IPython\\core\\interactiveshell.py\", line 2909, in _run_cell\n",
      "    return runner(coro)\n",
      "  File \"C:\\Users\\mo\\anaconda3\\lib\\site-packages\\IPython\\core\\async_helpers.py\", line 129, in _pseudo_sync_runner\n",
      "    coro.send(None)\n",
      "  File \"C:\\Users\\mo\\anaconda3\\lib\\site-packages\\IPython\\core\\interactiveshell.py\", line 3106, in run_cell_async\n",
      "    has_raised = await self.run_ast_nodes(code_ast.body, cell_name,\n",
      "  File \"C:\\Users\\mo\\anaconda3\\lib\\site-packages\\IPython\\core\\interactiveshell.py\", line 3309, in run_ast_nodes\n",
      "    if await self.run_code(code, result, async_=asy):\n",
      "  File \"C:\\Users\\mo\\anaconda3\\lib\\site-packages\\IPython\\core\\interactiveshell.py\", line 3369, in run_code\n",
      "    exec(code_obj, self.user_global_ns, self.user_ns)\n",
      "  File \"C:\\Users\\mo\\AppData\\Local\\Temp\\ipykernel_6372\\463724679.py\", line 2, in <cell line: 1>\n",
      "    LGBM_prediction = evaluate_models(model_ = LGBMRegressor, n_estimators = 10)\n",
      "  File \"C:\\Users\\mo\\AppData\\Local\\Temp\\ipykernel_6372\\3940941241.py\", line 23, in evaluate_models\n",
      "    file_handler.save_model(model, model_name)\n",
      "  File \"C:\\Users\\mo\\Pharmaceutical-Sales-Prediction\\scripts\\file_handler.py\", line 42, in save_model\n",
      "    my_logger.info(\"The model is successfully saved!\")\n",
      "Message: 'The model is successfully saved!'\n",
      "Arguments: ()\n"
     ]
    }
   ],
   "source": [
    "try:\n",
    "    LGBM_prediction = evaluate_models(model_ = LGBMRegressor, n_estimators = 10)\n",
    "\n",
    "except Exception as e:\n",
    "    my_logger(f\"Model fitting failed to complete, {e}\")"
   ]
  },
  {
   "cell_type": "code",
   "execution_count": 20,
   "metadata": {},
   "outputs": [
    {
     "data": {
      "text/plain": [
       "0.13638260939722713"
      ]
     },
     "execution_count": 20,
     "metadata": {},
     "output_type": "execute_result"
    }
   ],
   "source": [
    "mae, predictions = LGBM_prediction\n",
    "mae"
   ]
  },
  {
   "cell_type": "markdown",
   "metadata": {},
   "source": [
    "##### Use our best Model to Predict Testing Dataset"
   ]
  },
  {
   "cell_type": "code",
   "execution_count": 17,
   "metadata": {},
   "outputs": [
    {
     "name": "stdout",
     "output_type": "stream",
     "text": [
      "2022-05-30 11:35:06,074 — FileHandler — DEBUG — model read as pkl\n"
     ]
    }
   ],
   "source": [
    "# Read the saved model \n",
    "\n",
    "loaded_model = file_handler.read_model(\"RandomForestRegressor_model 2022-05-29 22-20-37\")"
   ]
  },
  {
   "cell_type": "code",
   "execution_count": 18,
   "metadata": {},
   "outputs": [
    {
     "name": "stderr",
     "output_type": "stream",
     "text": [
      "2022/05/30 11:35:07 WARNING mlflow.utils.autologging_utils: Encountered unexpected error during sklearn autologging: Run 'd6f8a5278a934199b961ac8cb01e6b51' not found\n"
     ]
    },
    {
     "name": "stdout",
     "output_type": "stream",
     "text": [
      "RandomForestRegressor Testing Accuracy is: 0.910309783877192\n",
      "RandomForestRegressor Mean Absoulute Error is: 0.040157869867290155\n"
     ]
    }
   ],
   "source": [
    "try:\n",
    "    mae, predictions = RF_prediction\n",
    "    print(\"RandomForestRegressor Testing Accuracy is: {}\".format(loaded_model.score(x_train_test, y_train_test)))\n",
    "    print(\"RandomForestRegressor Mean Absoulute Error is: {}\".format(mae))\n",
    "\n",
    "except Exception as e:\n",
    "    my_logger.exception(f\"Exception occured computing the model score, {e}\")"
   ]
  },
  {
   "cell_type": "markdown",
   "metadata": {},
   "source": [
    "From our training with `RandomForestRegressor` we notice that we have a mean absolute error of 0.04, which looks very good compared to `LGBMRegressor`. The accuracy which is 91% is also looks better result."
   ]
  },
  {
   "cell_type": "code",
   "execution_count": 19,
   "metadata": {},
   "outputs": [],
   "source": [
    "Y_pred = loaded_model.predict(x_train_test)   "
   ]
  },
  {
   "cell_type": "code",
   "execution_count": 20,
   "metadata": {},
   "outputs": [
    {
     "data": {
      "text/plain": [
       "(array([  932.,  8407., 26252., 38091., 33947., 24713., 15383.,  9134.,\n",
       "         5374.,  6635.]),\n",
       " array([0.04551882, 0.14096694, 0.23641505, 0.33186317, 0.42731129,\n",
       "        0.52275941, 0.61820753, 0.71365565, 0.80910376, 0.90455188,\n",
       "        1.        ]),\n",
       " <BarContainer object of 10 artists>)"
      ]
     },
     "execution_count": 20,
     "metadata": {},
     "output_type": "execute_result"
    },
    {
     "data": {
      "image/png": "[encoded data removed]",
      "text/plain": [
       "<Figure size 432x288 with 1 Axes>"
      ]
     },
     "metadata": {},
     "output_type": "display_data"
    }
   ],
   "source": [
    "plt.hist(Y_pred)"
   ]
  },
  {
   "cell_type": "markdown",
   "metadata": {},
   "source": [
    "#### Loss Function"
   ]
  },
  {
   "cell_type": "code",
   "execution_count": 21,
   "metadata": {},
   "outputs": [
    {
     "data": {
      "text/plain": [
       "0.05896561782727303"
      ]
     },
     "execution_count": 21,
     "metadata": {},
     "output_type": "execute_result"
    }
   ],
   "source": [
    "def rmspe(y, y_pred):\n",
    "    rmspe = np.sqrt(np.mean( (y - y_pred)**2 ))\n",
    "    return rmspe\n",
    "\n",
    "error=rmspe(y_train_test,Y_pred)\n",
    "error"
   ]
  },
  {
   "cell_type": "markdown",
   "metadata": {},
   "source": [
    "#### Feature Importance"
   ]
  },
  {
   "cell_type": "code",
   "execution_count": 23,
   "metadata": {},
   "outputs": [],
   "source": [
    "def plot_feature_importance(importance,names,model_type):\n",
    "    # Create arrays from feature importance and feature names\n",
    "    feature_importance = np.array(importance)\n",
    "    feature_names = np.array(names)\n",
    "\n",
    "    #Create a DataFrame using a Dictionary\n",
    "    data={'feature_names':feature_names,'feature_importance':feature_importance}\n",
    "    fi_df = pd.DataFrame(data)\n",
    "\n",
    "    #Sort the DataFrame in order decreasing feature importance\n",
    "    fi_df.sort_values(by=['feature_importance'], ascending=False,inplace=True)\n",
    "\n",
    "    #Define size of bar plot\n",
    "    plt.figure(figsize=(10,8))\n",
    "    #Plot Searborn bar chart\n",
    "    sns.barplot(x=fi_df['feature_importance'], y=fi_df['feature_names'])\n",
    "    #Add chart labels\n",
    "    plt.title(model_type + 'FEATURE IMPORTANCE')\n",
    "    plt.xlabel('FEATURE IMPORTANCE')\n",
    "    plt.ylabel('FEATURE NAMES')"
   ]
  },
  {
   "cell_type": "code",
   "execution_count": 24,
   "metadata": {},
   "outputs": [
    {
     "ename": "NameError",
     "evalue": "name 'loaded_model' is not defined",
     "output_type": "error",
     "traceback": [
      "\u001b[1;31m---------------------------------------------------------------------------\u001b[0m",
      "\u001b[1;31mNameError\u001b[0m                                 Traceback (most recent call last)",
      "Input \u001b[1;32mIn [24]\u001b[0m, in \u001b[0;36m<cell line: 1>\u001b[1;34m()\u001b[0m\n\u001b[1;32m----> 1\u001b[0m plot_feature_importance(\u001b[43mloaded_model\u001b[49m\u001b[38;5;241m.\u001b[39mfeature_importances_,x_train\u001b[38;5;241m.\u001b[39mcolumns,\u001b[38;5;124m'\u001b[39m\u001b[38;5;124mRANDOM FOREST\u001b[39m\u001b[38;5;124m'\u001b[39m)\n",
      "\u001b[1;31mNameError\u001b[0m: name 'loaded_model' is not defined"
     ]
    }
   ],
   "source": [
    "plot_feature_importance(loaded_model.feature_importances_,x_train.columns,'RANDOM FOREST')"
   ]
  },
  {
   "cell_type": "markdown",
   "metadata": {},
   "source": [
    "#### Summary of Feature Importance"
   ]
  },
  {
   "cell_type": "markdown",
   "metadata": {},
   "source": [
    "- CompititionDistance: This feature contributes alot for Sales. This explains what happens to Sales when the compitition distance become higher or not.\n",
    "- Promo: Promotion contributes a lot to Sales, where making more promotion in turn attracts more customers\n",
    "- DayOfWeek: the type of days of week is also another major Sale determining feature. For instance, as shown in our EDA the Sales was very smaller on sunday.\n",
    "- Other features such as, CompitionOpenedSinceMonth, CompitionSinceWeek, PromoSinceWeek, CompitionSinceYear plays a great role in deciding the Sales.\n"
   ]
  }
 ],
 "metadata": {
  "interpreter": {
   "hash": "0f08ea943be090a14eff5269cda570ac55dcc0e2bd93317a14b7d7e20047a087"
  },
  "kernelspec": {
   "display_name": "Python 3 (ipykernel)",
   "language": "python",
   "name": "python3"
  },
  "language_info": {
   "codemirror_mode": {
    "name": "ipython",
    "version": 3
   },
   "file_extension": ".py",
   "mimetype": "text/x-python",
   "name": "python",
   "nbconvert_exporter": "python",
   "pygments_lexer": "ipython3",
   "version": "3.9.12"
  }
 },
 "nbformat": 4,
 "nbformat_minor": 2
}
